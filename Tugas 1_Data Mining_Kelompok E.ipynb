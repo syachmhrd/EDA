{
 "cells": [
  {
   "cell_type": "markdown",
   "metadata": {
    "id": "1vyrLYG7Kxip"
   },
   "source": [
    "# IMPORT DATA"
   ]
  },
  {
   "cell_type": "code",
   "execution_count": 1,
   "metadata": {
    "id": "92ka-ndi6avU"
   },
   "outputs": [],
   "source": [
    "import warnings\n",
    "warnings.simplefilter(action='ignore', category=FutureWarning)\n",
    "import numpy as np \n",
    "import pandas as pd\n",
    "import matplotlib.pyplot as plt\n",
    "import warnings; warnings.simplefilter('ignore')\n",
    "import scipy, itertools, pandas as pd, matplotlib.pyplot as plt, seaborn as sns, numpy as np\n",
    "from scipy import stats\n",
    "from sklearn.preprocessing import StandardScaler, MinMaxScaler\n",
    "\n",
    "plt.style.use('bmh'); sns.set()"
   ]
  },
  {
   "cell_type": "code",
   "execution_count": 2,
   "metadata": {},
   "outputs": [],
   "source": [
    "data_gedung=pd.read_csv(\"Documents/datmin/building_metadata.csv\")"
   ]
  },
  {
   "cell_type": "code",
   "execution_count": 3,
   "metadata": {},
   "outputs": [],
   "source": [
    "data_energy=pd.read_csv(\"Documents/datmin/train.csv\")"
   ]
  },
  {
   "cell_type": "code",
   "execution_count": 4,
   "metadata": {},
   "outputs": [],
   "source": [
    "data_cuaca=pd.read_csv(\"Documents/datmin/weather_train.csv\")"
   ]
  },
  {
   "cell_type": "code",
   "execution_count": 5,
   "metadata": {},
   "outputs": [
    {
     "data": {
      "text/html": [
       "<div>\n",
       "<style scoped>\n",
       "    .dataframe tbody tr th:only-of-type {\n",
       "        vertical-align: middle;\n",
       "    }\n",
       "\n",
       "    .dataframe tbody tr th {\n",
       "        vertical-align: top;\n",
       "    }\n",
       "\n",
       "    .dataframe thead th {\n",
       "        text-align: right;\n",
       "    }\n",
       "</style>\n",
       "<table border=\"1\" class=\"dataframe\">\n",
       "  <thead>\n",
       "    <tr style=\"text-align: right;\">\n",
       "      <th></th>\n",
       "      <th>site_id</th>\n",
       "      <th>building_id</th>\n",
       "      <th>primary_use</th>\n",
       "      <th>square_feet</th>\n",
       "      <th>year_built</th>\n",
       "      <th>floor_count</th>\n",
       "    </tr>\n",
       "  </thead>\n",
       "  <tbody>\n",
       "    <tr>\n",
       "      <th>0</th>\n",
       "      <td>0</td>\n",
       "      <td>0</td>\n",
       "      <td>Education</td>\n",
       "      <td>7432</td>\n",
       "      <td>2008.0</td>\n",
       "      <td>NaN</td>\n",
       "    </tr>\n",
       "    <tr>\n",
       "      <th>1</th>\n",
       "      <td>0</td>\n",
       "      <td>1</td>\n",
       "      <td>Education</td>\n",
       "      <td>2720</td>\n",
       "      <td>2004.0</td>\n",
       "      <td>NaN</td>\n",
       "    </tr>\n",
       "    <tr>\n",
       "      <th>2</th>\n",
       "      <td>0</td>\n",
       "      <td>2</td>\n",
       "      <td>Education</td>\n",
       "      <td>5376</td>\n",
       "      <td>1991.0</td>\n",
       "      <td>NaN</td>\n",
       "    </tr>\n",
       "    <tr>\n",
       "      <th>3</th>\n",
       "      <td>0</td>\n",
       "      <td>3</td>\n",
       "      <td>Education</td>\n",
       "      <td>23685</td>\n",
       "      <td>2002.0</td>\n",
       "      <td>NaN</td>\n",
       "    </tr>\n",
       "    <tr>\n",
       "      <th>4</th>\n",
       "      <td>0</td>\n",
       "      <td>4</td>\n",
       "      <td>Education</td>\n",
       "      <td>116607</td>\n",
       "      <td>1975.0</td>\n",
       "      <td>NaN</td>\n",
       "    </tr>\n",
       "  </tbody>\n",
       "</table>\n",
       "</div>"
      ],
      "text/plain": [
       "   site_id  building_id primary_use  square_feet  year_built  floor_count\n",
       "0        0            0   Education         7432      2008.0          NaN\n",
       "1        0            1   Education         2720      2004.0          NaN\n",
       "2        0            2   Education         5376      1991.0          NaN\n",
       "3        0            3   Education        23685      2002.0          NaN\n",
       "4        0            4   Education       116607      1975.0          NaN"
      ]
     },
     "execution_count": 5,
     "metadata": {},
     "output_type": "execute_result"
    }
   ],
   "source": [
    "data_gedung.head()"
   ]
  },
  {
   "cell_type": "code",
   "execution_count": 6,
   "metadata": {},
   "outputs": [
    {
     "data": {
      "text/html": [
       "<div>\n",
       "<style scoped>\n",
       "    .dataframe tbody tr th:only-of-type {\n",
       "        vertical-align: middle;\n",
       "    }\n",
       "\n",
       "    .dataframe tbody tr th {\n",
       "        vertical-align: top;\n",
       "    }\n",
       "\n",
       "    .dataframe thead th {\n",
       "        text-align: right;\n",
       "    }\n",
       "</style>\n",
       "<table border=\"1\" class=\"dataframe\">\n",
       "  <thead>\n",
       "    <tr style=\"text-align: right;\">\n",
       "      <th></th>\n",
       "      <th>building_id</th>\n",
       "      <th>meter</th>\n",
       "      <th>timestamp</th>\n",
       "      <th>meter_reading</th>\n",
       "    </tr>\n",
       "  </thead>\n",
       "  <tbody>\n",
       "    <tr>\n",
       "      <th>0</th>\n",
       "      <td>0</td>\n",
       "      <td>0</td>\n",
       "      <td>2016-01-01 00:00:00</td>\n",
       "      <td>0.0</td>\n",
       "    </tr>\n",
       "    <tr>\n",
       "      <th>1</th>\n",
       "      <td>1</td>\n",
       "      <td>0</td>\n",
       "      <td>2016-01-01 00:00:00</td>\n",
       "      <td>0.0</td>\n",
       "    </tr>\n",
       "    <tr>\n",
       "      <th>2</th>\n",
       "      <td>2</td>\n",
       "      <td>0</td>\n",
       "      <td>2016-01-01 00:00:00</td>\n",
       "      <td>0.0</td>\n",
       "    </tr>\n",
       "    <tr>\n",
       "      <th>3</th>\n",
       "      <td>3</td>\n",
       "      <td>0</td>\n",
       "      <td>2016-01-01 00:00:00</td>\n",
       "      <td>0.0</td>\n",
       "    </tr>\n",
       "    <tr>\n",
       "      <th>4</th>\n",
       "      <td>4</td>\n",
       "      <td>0</td>\n",
       "      <td>2016-01-01 00:00:00</td>\n",
       "      <td>0.0</td>\n",
       "    </tr>\n",
       "  </tbody>\n",
       "</table>\n",
       "</div>"
      ],
      "text/plain": [
       "   building_id  meter            timestamp  meter_reading\n",
       "0            0      0  2016-01-01 00:00:00            0.0\n",
       "1            1      0  2016-01-01 00:00:00            0.0\n",
       "2            2      0  2016-01-01 00:00:00            0.0\n",
       "3            3      0  2016-01-01 00:00:00            0.0\n",
       "4            4      0  2016-01-01 00:00:00            0.0"
      ]
     },
     "execution_count": 6,
     "metadata": {},
     "output_type": "execute_result"
    }
   ],
   "source": [
    "data_energy.head()"
   ]
  },
  {
   "cell_type": "code",
   "execution_count": 7,
   "metadata": {},
   "outputs": [
    {
     "data": {
      "text/html": [
       "<div>\n",
       "<style scoped>\n",
       "    .dataframe tbody tr th:only-of-type {\n",
       "        vertical-align: middle;\n",
       "    }\n",
       "\n",
       "    .dataframe tbody tr th {\n",
       "        vertical-align: top;\n",
       "    }\n",
       "\n",
       "    .dataframe thead th {\n",
       "        text-align: right;\n",
       "    }\n",
       "</style>\n",
       "<table border=\"1\" class=\"dataframe\">\n",
       "  <thead>\n",
       "    <tr style=\"text-align: right;\">\n",
       "      <th></th>\n",
       "      <th>site_id</th>\n",
       "      <th>timestamp</th>\n",
       "      <th>air_temperature</th>\n",
       "      <th>cloud_coverage</th>\n",
       "      <th>dew_temperature</th>\n",
       "      <th>precip_depth_1_hr</th>\n",
       "      <th>sea_level_pressure</th>\n",
       "      <th>wind_direction</th>\n",
       "      <th>wind_speed</th>\n",
       "    </tr>\n",
       "  </thead>\n",
       "  <tbody>\n",
       "    <tr>\n",
       "      <th>0</th>\n",
       "      <td>0</td>\n",
       "      <td>2016-01-01 00:00:00</td>\n",
       "      <td>25.0</td>\n",
       "      <td>6.0</td>\n",
       "      <td>20.0</td>\n",
       "      <td>NaN</td>\n",
       "      <td>1019.7</td>\n",
       "      <td>0.0</td>\n",
       "      <td>0.0</td>\n",
       "    </tr>\n",
       "    <tr>\n",
       "      <th>1</th>\n",
       "      <td>0</td>\n",
       "      <td>2016-01-01 01:00:00</td>\n",
       "      <td>24.4</td>\n",
       "      <td>NaN</td>\n",
       "      <td>21.1</td>\n",
       "      <td>-1.0</td>\n",
       "      <td>1020.2</td>\n",
       "      <td>70.0</td>\n",
       "      <td>1.5</td>\n",
       "    </tr>\n",
       "    <tr>\n",
       "      <th>2</th>\n",
       "      <td>0</td>\n",
       "      <td>2016-01-01 02:00:00</td>\n",
       "      <td>22.8</td>\n",
       "      <td>2.0</td>\n",
       "      <td>21.1</td>\n",
       "      <td>0.0</td>\n",
       "      <td>1020.2</td>\n",
       "      <td>0.0</td>\n",
       "      <td>0.0</td>\n",
       "    </tr>\n",
       "    <tr>\n",
       "      <th>3</th>\n",
       "      <td>0</td>\n",
       "      <td>2016-01-01 03:00:00</td>\n",
       "      <td>21.1</td>\n",
       "      <td>2.0</td>\n",
       "      <td>20.6</td>\n",
       "      <td>0.0</td>\n",
       "      <td>1020.1</td>\n",
       "      <td>0.0</td>\n",
       "      <td>0.0</td>\n",
       "    </tr>\n",
       "    <tr>\n",
       "      <th>4</th>\n",
       "      <td>0</td>\n",
       "      <td>2016-01-01 04:00:00</td>\n",
       "      <td>20.0</td>\n",
       "      <td>2.0</td>\n",
       "      <td>20.0</td>\n",
       "      <td>-1.0</td>\n",
       "      <td>1020.0</td>\n",
       "      <td>250.0</td>\n",
       "      <td>2.6</td>\n",
       "    </tr>\n",
       "  </tbody>\n",
       "</table>\n",
       "</div>"
      ],
      "text/plain": [
       "   site_id            timestamp  air_temperature  cloud_coverage  \\\n",
       "0        0  2016-01-01 00:00:00             25.0             6.0   \n",
       "1        0  2016-01-01 01:00:00             24.4             NaN   \n",
       "2        0  2016-01-01 02:00:00             22.8             2.0   \n",
       "3        0  2016-01-01 03:00:00             21.1             2.0   \n",
       "4        0  2016-01-01 04:00:00             20.0             2.0   \n",
       "\n",
       "   dew_temperature  precip_depth_1_hr  sea_level_pressure  wind_direction  \\\n",
       "0             20.0                NaN              1019.7             0.0   \n",
       "1             21.1               -1.0              1020.2            70.0   \n",
       "2             21.1                0.0              1020.2             0.0   \n",
       "3             20.6                0.0              1020.1             0.0   \n",
       "4             20.0               -1.0              1020.0           250.0   \n",
       "\n",
       "   wind_speed  \n",
       "0         0.0  \n",
       "1         1.5  \n",
       "2         0.0  \n",
       "3         0.0  \n",
       "4         2.6  "
      ]
     },
     "execution_count": 7,
     "metadata": {},
     "output_type": "execute_result"
    }
   ],
   "source": [
    "data_cuaca.head()"
   ]
  },
  {
   "cell_type": "code",
   "execution_count": 8,
   "metadata": {},
   "outputs": [
    {
     "data": {
      "text/plain": [
       "(1449, 6)"
      ]
     },
     "execution_count": 8,
     "metadata": {},
     "output_type": "execute_result"
    }
   ],
   "source": [
    "data_gedung.shape"
   ]
  },
  {
   "cell_type": "code",
   "execution_count": 9,
   "metadata": {},
   "outputs": [
    {
     "data": {
      "text/plain": [
       "(20216100, 4)"
      ]
     },
     "execution_count": 9,
     "metadata": {},
     "output_type": "execute_result"
    }
   ],
   "source": [
    "data_energy.shape"
   ]
  },
  {
   "cell_type": "code",
   "execution_count": 10,
   "metadata": {},
   "outputs": [
    {
     "data": {
      "text/plain": [
       "(139773, 9)"
      ]
     },
     "execution_count": 10,
     "metadata": {},
     "output_type": "execute_result"
    }
   ],
   "source": [
    "data_cuaca.shape"
   ]
  },
  {
   "cell_type": "markdown",
   "metadata": {
    "id": "in4UYyY8QBnr"
   },
   "source": [
    "# Preprocessing"
   ]
  },
  {
   "cell_type": "markdown",
   "metadata": {
    "id": "kJ4al1p2Lphc"
   },
   "source": [
    "# Penanganan Missing Values pada Data Gedung"
   ]
  },
  {
   "cell_type": "code",
   "execution_count": 11,
   "metadata": {
    "colab": {
     "base_uri": "https://localhost:8080/"
    },
    "id": "-S4yUb2iOcsQ",
    "outputId": "b8113f25-053f-41e7-c8c4-9162884a17ac"
   },
   "outputs": [
    {
     "name": "stdout",
     "output_type": "stream",
     "text": [
      "      site_id  building_id                    primary_use  square_feet  \\\n",
      "0           0            0                      Education         7432   \n",
      "1           0            1                      Education         2720   \n",
      "2           0            2                      Education         5376   \n",
      "3           0            3                      Education        23685   \n",
      "4           0            4                      Education       116607   \n",
      "...       ...          ...                            ...          ...   \n",
      "1444       15         1444  Entertainment/public assembly        19619   \n",
      "1445       15         1445                      Education         4298   \n",
      "1446       15         1446  Entertainment/public assembly        11265   \n",
      "1447       15         1447            Lodging/residential        29775   \n",
      "1448       15         1448                         Office        92271   \n",
      "\n",
      "      year_built  floor_count  \n",
      "0         2008.0          NaN  \n",
      "1         2004.0          NaN  \n",
      "2         1991.0          NaN  \n",
      "3         2002.0          NaN  \n",
      "4         1975.0          NaN  \n",
      "...          ...          ...  \n",
      "1444      1914.0          NaN  \n",
      "1445         NaN          NaN  \n",
      "1446      1997.0          NaN  \n",
      "1447      2001.0          NaN  \n",
      "1448      2001.0          NaN  \n",
      "\n",
      "[1449 rows x 6 columns]\n",
      "site_id           0\n",
      "building_id       0\n",
      "primary_use       0\n",
      "square_feet       0\n",
      "year_built      774\n",
      "floor_count    1094\n",
      "dtype: int64\n",
      "1868\n"
     ]
    }
   ],
   "source": [
    "#Menghitung jumlah missing value di setiap kolom\n",
    "print(data_gedung)\n",
    "print(data_gedung.isnull().sum())\n",
    "print(data_gedung.isnull().sum().sum())"
   ]
  },
  {
   "cell_type": "markdown",
   "metadata": {},
   "source": [
    "Terlihat bahwa year_built dan floor_count memiliki missing values masing-masing sebanyak 774 dan 1094, di mana terdapat lebih dari 50% dari jumlah data (baris) sehingga kolom year_built dan floor_count dihapus"
   ]
  },
  {
   "cell_type": "code",
   "execution_count": 12,
   "metadata": {
    "colab": {
     "base_uri": "https://localhost:8080/"
    },
    "id": "i4LamXfim92V",
    "outputId": "4396cd9b-cd48-493a-c41f-a94b1805e0a8",
    "scrolled": true
   },
   "outputs": [
    {
     "name": "stdout",
     "output_type": "stream",
     "text": [
      "<class 'pandas.core.frame.DataFrame'>\n",
      "RangeIndex: 1449 entries, 0 to 1448\n",
      "Data columns (total 4 columns):\n",
      " #   Column       Non-Null Count  Dtype \n",
      "---  ------       --------------  ----- \n",
      " 0   site_id      1449 non-null   int64 \n",
      " 1   building_id  1449 non-null   int64 \n",
      " 2   primary_use  1449 non-null   object\n",
      " 3   square_feet  1449 non-null   int64 \n",
      "dtypes: int64(3), object(1)\n",
      "memory usage: 45.4+ KB\n"
     ]
    }
   ],
   "source": [
    "#menghapus data year_built dan floor_count karena missing value lebih dari 50%\n",
    "data_gedung.drop(\"year_built\", axis=1, inplace=True)\n",
    "data_gedung.drop(\"floor_count\", axis=1, inplace=True)\n",
    "data_gedung.info()"
   ]
  },
  {
   "cell_type": "markdown",
   "metadata": {},
   "source": [
    "Terlihat bahwa tipe site_id dan primary_use masih belum sesuai dengan yang seharusnya sehingga perlu dilakukan koreksi"
   ]
  },
  {
   "cell_type": "code",
   "execution_count": 13,
   "metadata": {},
   "outputs": [
    {
     "data": {
      "text/plain": [
       "site_id        category\n",
       "building_id       int64\n",
       "primary_use    category\n",
       "square_feet       int64\n",
       "dtype: object"
      ]
     },
     "execution_count": 13,
     "metadata": {},
     "output_type": "execute_result"
    }
   ],
   "source": [
    "# mengoreksi tipe variabel site_id dan primary_use sebagai kategori\n",
    "data_gedung['site_id'] = data_gedung['site_id'].astype('category')\n",
    "data_gedung['primary_use'] = data_gedung['primary_use'].astype('category')\n",
    "data_gedung.dtypes"
   ]
  },
  {
   "cell_type": "code",
   "execution_count": 14,
   "metadata": {
    "colab": {
     "base_uri": "https://localhost:8080/"
    },
    "id": "i-YXy93qnrct",
    "outputId": "e4740d63-d601-48bf-af79-c0b74ee6586e"
   },
   "outputs": [
    {
     "name": "stdout",
     "output_type": "stream",
     "text": [
      "(1449, 4)\n"
     ]
    },
    {
     "data": {
      "text/plain": [
       "0"
      ]
     },
     "execution_count": 14,
     "metadata": {},
     "output_type": "execute_result"
    }
   ],
   "source": [
    "#mengecek apakah terdapat ada duplikasi data\n",
    "print(data_gedung.shape)\n",
    "data_gedung.duplicated().sum()"
   ]
  },
  {
   "cell_type": "markdown",
   "metadata": {
    "id": "L50lsyd0L1zJ"
   },
   "source": [
    "# Missing Values pada Data Energy"
   ]
  },
  {
   "cell_type": "code",
   "execution_count": 15,
   "metadata": {
    "colab": {
     "base_uri": "https://localhost:8080/"
    },
    "id": "Mnohrrh2Oq8S",
    "outputId": "afd4580e-e06f-46c6-ff15-9a694f75919a"
   },
   "outputs": [
    {
     "name": "stdout",
     "output_type": "stream",
     "text": [
      "          building_id  meter            timestamp  meter_reading\n",
      "0                   0      0  2016-01-01 00:00:00          0.000\n",
      "1                   1      0  2016-01-01 00:00:00          0.000\n",
      "2                   2      0  2016-01-01 00:00:00          0.000\n",
      "3                   3      0  2016-01-01 00:00:00          0.000\n",
      "4                   4      0  2016-01-01 00:00:00          0.000\n",
      "...               ...    ...                  ...            ...\n",
      "20216095         1444      0  2016-12-31 23:00:00          8.750\n",
      "20216096         1445      0  2016-12-31 23:00:00          4.825\n",
      "20216097         1446      0  2016-12-31 23:00:00          0.000\n",
      "20216098         1447      0  2016-12-31 23:00:00        159.575\n",
      "20216099         1448      0  2016-12-31 23:00:00          2.850\n",
      "\n",
      "[20216100 rows x 4 columns]\n",
      "building_id      0\n",
      "meter            0\n",
      "timestamp        0\n",
      "meter_reading    0\n",
      "dtype: int64\n",
      "0\n"
     ]
    }
   ],
   "source": [
    "#Menghitung jumlah missing value di setiap kolom\n",
    "print(data_energy)\n",
    "print(data_energy.isnull().sum())\n",
    "print(data_energy.isnull().sum().sum())"
   ]
  },
  {
   "cell_type": "code",
   "execution_count": 16,
   "metadata": {
    "colab": {
     "base_uri": "https://localhost:8080/"
    },
    "id": "hvbZIFaKN4iY",
    "outputId": "786f8b9d-d17b-41d2-dc20-7b6cb9d0c5f7",
    "scrolled": true
   },
   "outputs": [
    {
     "name": "stdout",
     "output_type": "stream",
     "text": [
      "<class 'pandas.core.frame.DataFrame'>\n",
      "RangeIndex: 20216100 entries, 0 to 20216099\n",
      "Data columns (total 4 columns):\n",
      " #   Column         Dtype  \n",
      "---  ------         -----  \n",
      " 0   building_id    int64  \n",
      " 1   meter          int64  \n",
      " 2   timestamp      object \n",
      " 3   meter_reading  float64\n",
      "dtypes: float64(1), int64(2), object(1)\n",
      "memory usage: 616.9+ MB\n"
     ]
    }
   ],
   "source": [
    "data_energy.info()"
   ]
  },
  {
   "cell_type": "markdown",
   "metadata": {},
   "source": [
    "Terlihat bahwa tipe meter dan timestamp masih belum sesuai dengan yang seharusnya sehingga perlu dilakukan koreksi"
   ]
  },
  {
   "cell_type": "code",
   "execution_count": 17,
   "metadata": {},
   "outputs": [
    {
     "data": {
      "text/plain": [
       "building_id               int64\n",
       "meter                  category\n",
       "timestamp        datetime64[ns]\n",
       "meter_reading           float64\n",
       "dtype: object"
      ]
     },
     "execution_count": 17,
     "metadata": {},
     "output_type": "execute_result"
    }
   ],
   "source": [
    "#mengoreksi tipe variabel timestamp dari string menjadi datetime\n",
    "data_energy['timestamp']= pd.to_datetime(data_energy['timestamp'])\n",
    "#mengoreksi tipe variabel meter menjadi kategori\n",
    "data_energy['meter'] = data_energy['meter'].astype('category')\n",
    "\n",
    "data_energy.dtypes"
   ]
  },
  {
   "cell_type": "code",
   "execution_count": 18,
   "metadata": {},
   "outputs": [
    {
     "name": "stdout",
     "output_type": "stream",
     "text": [
      "(20216100, 4)\n"
     ]
    },
    {
     "data": {
      "text/plain": [
       "0"
      ]
     },
     "execution_count": 18,
     "metadata": {},
     "output_type": "execute_result"
    }
   ],
   "source": [
    "#mengecek apakah terdapat ada duplikasi data\n",
    "print(data_energy.shape)\n",
    "data_energy.duplicated().sum()"
   ]
  },
  {
   "cell_type": "markdown",
   "metadata": {
    "id": "PVcFHsUCL7O9"
   },
   "source": [
    "# Penanganan Missing Values pada Data Cuaca"
   ]
  },
  {
   "cell_type": "markdown",
   "metadata": {},
   "source": [
    "Berikutnya akan dilakukan penanganan missing values dengan salah satu cara berikut:\n",
    "1. menghapus kolom yang memiliki missing values hampir atau lebih dari 50%\n",
    "2. melakukan imputasi dengan mean/median tergantung dari distribusi variabel tersebut (mean untuk yang kurang lebih berdistribusi normal dan median untuk skewed distribution)"
   ]
  },
  {
   "cell_type": "code",
   "execution_count": 19,
   "metadata": {
    "colab": {
     "base_uri": "https://localhost:8080/"
    },
    "id": "po9gwuDKHbHZ",
    "outputId": "8e9e2e68-1088-45eb-ff46-8bde41291793",
    "scrolled": false
   },
   "outputs": [
    {
     "name": "stdout",
     "output_type": "stream",
     "text": [
      "        site_id            timestamp  air_temperature  cloud_coverage  \\\n",
      "0             0  2016-01-01 00:00:00             25.0             6.0   \n",
      "1             0  2016-01-01 01:00:00             24.4             NaN   \n",
      "2             0  2016-01-01 02:00:00             22.8             2.0   \n",
      "3             0  2016-01-01 03:00:00             21.1             2.0   \n",
      "4             0  2016-01-01 04:00:00             20.0             2.0   \n",
      "...         ...                  ...              ...             ...   \n",
      "139768       15  2016-12-31 19:00:00              3.0             NaN   \n",
      "139769       15  2016-12-31 20:00:00              2.8             2.0   \n",
      "139770       15  2016-12-31 21:00:00              2.8             NaN   \n",
      "139771       15  2016-12-31 22:00:00              2.2             NaN   \n",
      "139772       15  2016-12-31 23:00:00              1.7             NaN   \n",
      "\n",
      "        dew_temperature  precip_depth_1_hr  sea_level_pressure  \\\n",
      "0                  20.0                NaN              1019.7   \n",
      "1                  21.1               -1.0              1020.2   \n",
      "2                  21.1                0.0              1020.2   \n",
      "3                  20.6                0.0              1020.1   \n",
      "4                  20.0               -1.0              1020.0   \n",
      "...                 ...                ...                 ...   \n",
      "139768             -8.0                NaN                 NaN   \n",
      "139769             -8.9                NaN              1007.4   \n",
      "139770             -7.2                NaN              1007.5   \n",
      "139771             -6.7                NaN              1008.0   \n",
      "139772             -5.6               -1.0              1008.5   \n",
      "\n",
      "        wind_direction  wind_speed  \n",
      "0                  0.0         0.0  \n",
      "1                 70.0         1.5  \n",
      "2                  0.0         0.0  \n",
      "3                  0.0         0.0  \n",
      "4                250.0         2.6  \n",
      "...                ...         ...  \n",
      "139768           180.0         5.7  \n",
      "139769           180.0         7.7  \n",
      "139770           180.0         5.1  \n",
      "139771           170.0         4.6  \n",
      "139772           180.0         8.8  \n",
      "\n",
      "[139773 rows x 9 columns]\n",
      "site_id                   0\n",
      "timestamp                 0\n",
      "air_temperature          55\n",
      "cloud_coverage        69173\n",
      "dew_temperature         113\n",
      "precip_depth_1_hr     50289\n",
      "sea_level_pressure    10618\n",
      "wind_direction         6268\n",
      "wind_speed              304\n",
      "dtype: int64\n",
      "136820\n"
     ]
    }
   ],
   "source": [
    "#Menghitung jumlah missing value di setiap kolom\n",
    "print(data_cuaca)\n",
    "print(data_cuaca.isnull().sum())\n",
    "print(data_cuaca.isnull().sum().sum())"
   ]
  },
  {
   "cell_type": "markdown",
   "metadata": {},
   "source": [
    "Terlihat bahwa cloud_coverage memiliki missing values sebanyak 69173, di mana terdapat mendekati 50% dari jumlah data (baris) sehingga kolom cloud_coverage dihapus"
   ]
  },
  {
   "cell_type": "code",
   "execution_count": 20,
   "metadata": {
    "id": "r0-s1VRLJqjG"
   },
   "outputs": [],
   "source": [
    "#hapus cloud coverage karena MV nyaris 50%\n",
    "data_cuaca.drop(\"cloud_coverage\", axis=1, inplace=True)"
   ]
  },
  {
   "cell_type": "code",
   "execution_count": 21,
   "metadata": {
    "scrolled": true
   },
   "outputs": [
    {
     "name": "stdout",
     "output_type": "stream",
     "text": [
      "<class 'pandas.core.frame.DataFrame'>\n",
      "RangeIndex: 139773 entries, 0 to 139772\n",
      "Data columns (total 8 columns):\n",
      " #   Column              Non-Null Count   Dtype  \n",
      "---  ------              --------------   -----  \n",
      " 0   site_id             139773 non-null  int64  \n",
      " 1   timestamp           139773 non-null  object \n",
      " 2   air_temperature     139718 non-null  float64\n",
      " 3   dew_temperature     139660 non-null  float64\n",
      " 4   precip_depth_1_hr   89484 non-null   float64\n",
      " 5   sea_level_pressure  129155 non-null  float64\n",
      " 6   wind_direction      133505 non-null  float64\n",
      " 7   wind_speed          139469 non-null  float64\n",
      "dtypes: float64(6), int64(1), object(1)\n",
      "memory usage: 8.5+ MB\n"
     ]
    }
   ],
   "source": [
    "data_cuaca.info()"
   ]
  },
  {
   "cell_type": "markdown",
   "metadata": {},
   "source": [
    "Terlihat bahwa tipe site_id dan timestamp masih belum sesuai dengan yang seharusnya sehingga perlu dilakukan koreksi"
   ]
  },
  {
   "cell_type": "code",
   "execution_count": 22,
   "metadata": {
    "colab": {
     "base_uri": "https://localhost:8080/"
    },
    "id": "WmFuhqzxv9LL",
    "outputId": "7973de8c-4f93-45cc-b373-adde47c77a0d"
   },
   "outputs": [
    {
     "data": {
      "text/plain": [
       "site_id                     category\n",
       "timestamp             datetime64[ns]\n",
       "air_temperature              float64\n",
       "dew_temperature              float64\n",
       "precip_depth_1_hr            float64\n",
       "sea_level_pressure           float64\n",
       "wind_direction               float64\n",
       "wind_speed                   float64\n",
       "dtype: object"
      ]
     },
     "execution_count": 22,
     "metadata": {},
     "output_type": "execute_result"
    }
   ],
   "source": [
    "#mengoreksi tipe variabel timestamp dari string menjadi datetime\n",
    "data_cuaca['timestamp']= pd.to_datetime(data_cuaca['timestamp'])\n",
    "#mengoreksi tipe variabel site id menjadi kategori\n",
    "data_cuaca['site_id'] = data_cuaca['site_id'].astype('category')\n",
    "\n",
    "data_cuaca.dtypes"
   ]
  },
  {
   "cell_type": "code",
   "execution_count": 23,
   "metadata": {
    "colab": {
     "base_uri": "https://localhost:8080/",
     "height": 224
    },
    "id": "RaZvtISuIVVr",
    "outputId": "a0f9400f-34e1-48b4-a873-83f2eae121ca"
   },
   "outputs": [
    {
     "name": "stdout",
     "output_type": "stream",
     "text": [
      "count    139718.000000\n",
      "mean         14.418106\n",
      "std          10.626595\n",
      "min         -28.900000\n",
      "25%           7.200000\n",
      "50%          15.000000\n",
      "75%          22.200000\n",
      "max          47.200000\n",
      "Name: air_temperature, dtype: float64\n"
     ]
    },
    {
     "data": {
      "text/plain": [
       "<AxesSubplot:>"
      ]
     },
     "execution_count": 23,
     "metadata": {},
     "output_type": "execute_result"
    },
    {
     "data": {
      "image/png": "[encoded data removed]",
      "text/plain": [
       "<Figure size 432x288 with 1 Axes>"
      ]
     },
     "metadata": {},
     "output_type": "display_data"
    }
   ],
   "source": [
    "# Melihat distribusi data untuk air temperature\n",
    "print(data_cuaca['air_temperature'].describe())\n",
    "data_cuaca['air_temperature'].hist()"
   ]
  },
  {
   "cell_type": "code",
   "execution_count": 24,
   "metadata": {
    "scrolled": true
   },
   "outputs": [
    {
     "data": {
      "image/png": "[encoded data removed]",
      "text/plain": [
       "<Figure size 432x288 with 1 Axes>"
      ]
     },
     "metadata": {},
     "output_type": "display_data"
    }
   ],
   "source": [
    "p = sns.distplot(data_cuaca['air_temperature'], kde=True, rug=True)"
   ]
  },
  {
   "cell_type": "markdown",
   "metadata": {},
   "source": [
    "Dilakukan imputasi menggunakan median"
   ]
  },
  {
   "cell_type": "code",
   "execution_count": 25,
   "metadata": {
    "id": "HvZhja9LIi2A"
   },
   "outputs": [],
   "source": [
    "# Imputasi missing values air_temperature dengan median\n",
    "data_cuaca['air_temperature'] = data_cuaca['air_temperature'].replace(np.nan, 15)"
   ]
  },
  {
   "cell_type": "code",
   "execution_count": 26,
   "metadata": {
    "colab": {
     "base_uri": "https://localhost:8080/",
     "height": 224
    },
    "id": "yRoUMwjACmWd",
    "outputId": "38558db7-bcbf-42b8-e0ba-8552ce3c64cb"
   },
   "outputs": [
    {
     "name": "stdout",
     "output_type": "stream",
     "text": [
      "count    89484.000000\n",
      "mean         0.983047\n",
      "std          8.463678\n",
      "min         -1.000000\n",
      "25%          0.000000\n",
      "50%          0.000000\n",
      "75%          0.000000\n",
      "max        343.000000\n",
      "Name: precip_depth_1_hr, dtype: float64\n"
     ]
    },
    {
     "data": {
      "text/plain": [
       "<AxesSubplot:>"
      ]
     },
     "execution_count": 26,
     "metadata": {},
     "output_type": "execute_result"
    },
    {
     "data": {
      "image/png": "[encoded data removed]",
      "text/plain": [
       "<Figure size 432x288 with 1 Axes>"
      ]
     },
     "metadata": {},
     "output_type": "display_data"
    }
   ],
   "source": [
    "# Melihat data untuk precip depth\n",
    "print(data_cuaca['precip_depth_1_hr'].describe())\n",
    "data_cuaca['precip_depth_1_hr'].hist()"
   ]
  },
  {
   "cell_type": "code",
   "execution_count": 27,
   "metadata": {
    "scrolled": true
   },
   "outputs": [
    {
     "data": {
      "image/png": "[encoded data removed]",
      "text/plain": [
       "<Figure size 432x288 with 1 Axes>"
      ]
     },
     "metadata": {},
     "output_type": "display_data"
    }
   ],
   "source": [
    "p = sns.distplot(data_cuaca['precip_depth_1_hr'], kde=True, rug=True)"
   ]
  },
  {
   "cell_type": "markdown",
   "metadata": {},
   "source": [
    "Dilakukan imputasi dengan mean"
   ]
  },
  {
   "cell_type": "code",
   "execution_count": 28,
   "metadata": {
    "colab": {
     "base_uri": "https://localhost:8080/",
     "height": 844
    },
    "id": "3CCR9bBPok39",
    "outputId": "71672a44-95ee-4662-9c6e-2039fbf65425"
   },
   "outputs": [
    {
     "data": {
      "text/html": [
       "<div>\n",
       "<style scoped>\n",
       "    .dataframe tbody tr th:only-of-type {\n",
       "        vertical-align: middle;\n",
       "    }\n",
       "\n",
       "    .dataframe tbody tr th {\n",
       "        vertical-align: top;\n",
       "    }\n",
       "\n",
       "    .dataframe thead th {\n",
       "        text-align: right;\n",
       "    }\n",
       "</style>\n",
       "<table border=\"1\" class=\"dataframe\">\n",
       "  <thead>\n",
       "    <tr style=\"text-align: right;\">\n",
       "      <th></th>\n",
       "      <th>air_temperature</th>\n",
       "      <th>dew_temperature</th>\n",
       "      <th>precip_depth_1_hr</th>\n",
       "      <th>sea_level_pressure</th>\n",
       "      <th>wind_direction</th>\n",
       "      <th>wind_speed</th>\n",
       "    </tr>\n",
       "    <tr>\n",
       "      <th>hours</th>\n",
       "      <th></th>\n",
       "      <th></th>\n",
       "      <th></th>\n",
       "      <th></th>\n",
       "      <th></th>\n",
       "      <th></th>\n",
       "    </tr>\n",
       "  </thead>\n",
       "  <tbody>\n",
       "    <tr>\n",
       "      <th>0</th>\n",
       "      <td>15.777526</td>\n",
       "      <td>7.103690</td>\n",
       "      <td>1.206971</td>\n",
       "      <td>1015.566358</td>\n",
       "      <td>191.099893</td>\n",
       "      <td>3.775352</td>\n",
       "    </tr>\n",
       "    <tr>\n",
       "      <th>1</th>\n",
       "      <td>14.985989</td>\n",
       "      <td>7.204729</td>\n",
       "      <td>1.549368</td>\n",
       "      <td>1015.777885</td>\n",
       "      <td>184.840865</td>\n",
       "      <td>3.529468</td>\n",
       "    </tr>\n",
       "    <tr>\n",
       "      <th>2</th>\n",
       "      <td>14.246528</td>\n",
       "      <td>7.249811</td>\n",
       "      <td>0.931183</td>\n",
       "      <td>1015.970562</td>\n",
       "      <td>179.961538</td>\n",
       "      <td>3.379722</td>\n",
       "    </tr>\n",
       "    <tr>\n",
       "      <th>3</th>\n",
       "      <td>13.630706</td>\n",
       "      <td>7.312818</td>\n",
       "      <td>0.880882</td>\n",
       "      <td>1016.131645</td>\n",
       "      <td>177.488104</td>\n",
       "      <td>3.191231</td>\n",
       "    </tr>\n",
       "    <tr>\n",
       "      <th>4</th>\n",
       "      <td>13.143577</td>\n",
       "      <td>7.382527</td>\n",
       "      <td>0.902991</td>\n",
       "      <td>1016.188532</td>\n",
       "      <td>176.859996</td>\n",
       "      <td>3.105524</td>\n",
       "    </tr>\n",
       "    <tr>\n",
       "      <th>5</th>\n",
       "      <td>12.712285</td>\n",
       "      <td>7.373145</td>\n",
       "      <td>0.661634</td>\n",
       "      <td>1016.220893</td>\n",
       "      <td>175.702741</td>\n",
       "      <td>3.021792</td>\n",
       "    </tr>\n",
       "    <tr>\n",
       "      <th>6</th>\n",
       "      <td>12.373056</td>\n",
       "      <td>7.364871</td>\n",
       "      <td>0.885768</td>\n",
       "      <td>1016.136711</td>\n",
       "      <td>174.530150</td>\n",
       "      <td>3.005597</td>\n",
       "    </tr>\n",
       "    <tr>\n",
       "      <th>7</th>\n",
       "      <td>12.161236</td>\n",
       "      <td>7.394690</td>\n",
       "      <td>0.810377</td>\n",
       "      <td>1016.080880</td>\n",
       "      <td>173.282766</td>\n",
       "      <td>2.984997</td>\n",
       "    </tr>\n",
       "    <tr>\n",
       "      <th>8</th>\n",
       "      <td>11.950507</td>\n",
       "      <td>7.350654</td>\n",
       "      <td>0.723490</td>\n",
       "      <td>1015.990906</td>\n",
       "      <td>171.604873</td>\n",
       "      <td>3.005113</td>\n",
       "    </tr>\n",
       "    <tr>\n",
       "      <th>9</th>\n",
       "      <td>11.827808</td>\n",
       "      <td>7.331763</td>\n",
       "      <td>0.751142</td>\n",
       "      <td>1016.010132</td>\n",
       "      <td>169.002812</td>\n",
       "      <td>3.043957</td>\n",
       "    </tr>\n",
       "    <tr>\n",
       "      <th>10</th>\n",
       "      <td>11.763490</td>\n",
       "      <td>7.304505</td>\n",
       "      <td>0.854808</td>\n",
       "      <td>1016.113722</td>\n",
       "      <td>168.719437</td>\n",
       "      <td>3.073741</td>\n",
       "    </tr>\n",
       "    <tr>\n",
       "      <th>11</th>\n",
       "      <td>11.908096</td>\n",
       "      <td>7.390778</td>\n",
       "      <td>0.824114</td>\n",
       "      <td>1016.280787</td>\n",
       "      <td>166.676056</td>\n",
       "      <td>3.121542</td>\n",
       "    </tr>\n",
       "    <tr>\n",
       "      <th>12</th>\n",
       "      <td>12.181300</td>\n",
       "      <td>7.414364</td>\n",
       "      <td>0.857983</td>\n",
       "      <td>1016.533826</td>\n",
       "      <td>168.941465</td>\n",
       "      <td>3.261350</td>\n",
       "    </tr>\n",
       "    <tr>\n",
       "      <th>13</th>\n",
       "      <td>12.850300</td>\n",
       "      <td>7.579650</td>\n",
       "      <td>0.782075</td>\n",
       "      <td>1016.784854</td>\n",
       "      <td>169.610619</td>\n",
       "      <td>3.435616</td>\n",
       "    </tr>\n",
       "    <tr>\n",
       "      <th>14</th>\n",
       "      <td>13.780460</td>\n",
       "      <td>7.651875</td>\n",
       "      <td>0.797024</td>\n",
       "      <td>1016.956880</td>\n",
       "      <td>171.084965</td>\n",
       "      <td>3.674192</td>\n",
       "    </tr>\n",
       "    <tr>\n",
       "      <th>15</th>\n",
       "      <td>14.796087</td>\n",
       "      <td>7.650567</td>\n",
       "      <td>0.908003</td>\n",
       "      <td>1017.060895</td>\n",
       "      <td>174.681061</td>\n",
       "      <td>3.864724</td>\n",
       "    </tr>\n",
       "    <tr>\n",
       "      <th>16</th>\n",
       "      <td>15.771888</td>\n",
       "      <td>7.615961</td>\n",
       "      <td>0.787846</td>\n",
       "      <td>1017.030487</td>\n",
       "      <td>178.598096</td>\n",
       "      <td>4.012825</td>\n",
       "    </tr>\n",
       "    <tr>\n",
       "      <th>17</th>\n",
       "      <td>16.549389</td>\n",
       "      <td>7.543364</td>\n",
       "      <td>0.850254</td>\n",
       "      <td>1016.782997</td>\n",
       "      <td>183.716395</td>\n",
       "      <td>4.087256</td>\n",
       "    </tr>\n",
       "    <tr>\n",
       "      <th>18</th>\n",
       "      <td>17.080699</td>\n",
       "      <td>7.418607</td>\n",
       "      <td>0.820767</td>\n",
       "      <td>1016.383454</td>\n",
       "      <td>190.306025</td>\n",
       "      <td>4.138825</td>\n",
       "    </tr>\n",
       "    <tr>\n",
       "      <th>19</th>\n",
       "      <td>17.505836</td>\n",
       "      <td>7.315573</td>\n",
       "      <td>1.174624</td>\n",
       "      <td>1015.978634</td>\n",
       "      <td>195.952264</td>\n",
       "      <td>4.180152</td>\n",
       "    </tr>\n",
       "    <tr>\n",
       "      <th>20</th>\n",
       "      <td>17.648412</td>\n",
       "      <td>7.212390</td>\n",
       "      <td>1.297600</td>\n",
       "      <td>1015.622253</td>\n",
       "      <td>198.233958</td>\n",
       "      <td>4.200794</td>\n",
       "    </tr>\n",
       "    <tr>\n",
       "      <th>21</th>\n",
       "      <td>17.534259</td>\n",
       "      <td>7.090466</td>\n",
       "      <td>1.341208</td>\n",
       "      <td>1015.435506</td>\n",
       "      <td>201.053407</td>\n",
       "      <td>4.234596</td>\n",
       "    </tr>\n",
       "    <tr>\n",
       "      <th>22</th>\n",
       "      <td>17.223715</td>\n",
       "      <td>7.072374</td>\n",
       "      <td>1.651613</td>\n",
       "      <td>1015.340390</td>\n",
       "      <td>199.190276</td>\n",
       "      <td>4.148865</td>\n",
       "    </tr>\n",
       "    <tr>\n",
       "      <th>23</th>\n",
       "      <td>16.611172</td>\n",
       "      <td>7.076932</td>\n",
       "      <td>1.348142</td>\n",
       "      <td>1015.417506</td>\n",
       "      <td>196.275391</td>\n",
       "      <td>3.983500</td>\n",
       "    </tr>\n",
       "  </tbody>\n",
       "</table>\n",
       "</div>"
      ],
      "text/plain": [
       "       air_temperature  dew_temperature  precip_depth_1_hr  \\\n",
       "hours                                                        \n",
       "0            15.777526         7.103690           1.206971   \n",
       "1            14.985989         7.204729           1.549368   \n",
       "2            14.246528         7.249811           0.931183   \n",
       "3            13.630706         7.312818           0.880882   \n",
       "4            13.143577         7.382527           0.902991   \n",
       "5            12.712285         7.373145           0.661634   \n",
       "6            12.373056         7.364871           0.885768   \n",
       "7            12.161236         7.394690           0.810377   \n",
       "8            11.950507         7.350654           0.723490   \n",
       "9            11.827808         7.331763           0.751142   \n",
       "10           11.763490         7.304505           0.854808   \n",
       "11           11.908096         7.390778           0.824114   \n",
       "12           12.181300         7.414364           0.857983   \n",
       "13           12.850300         7.579650           0.782075   \n",
       "14           13.780460         7.651875           0.797024   \n",
       "15           14.796087         7.650567           0.908003   \n",
       "16           15.771888         7.615961           0.787846   \n",
       "17           16.549389         7.543364           0.850254   \n",
       "18           17.080699         7.418607           0.820767   \n",
       "19           17.505836         7.315573           1.174624   \n",
       "20           17.648412         7.212390           1.297600   \n",
       "21           17.534259         7.090466           1.341208   \n",
       "22           17.223715         7.072374           1.651613   \n",
       "23           16.611172         7.076932           1.348142   \n",
       "\n",
       "       sea_level_pressure  wind_direction  wind_speed  \n",
       "hours                                                  \n",
       "0             1015.566358      191.099893    3.775352  \n",
       "1             1015.777885      184.840865    3.529468  \n",
       "2             1015.970562      179.961538    3.379722  \n",
       "3             1016.131645      177.488104    3.191231  \n",
       "4             1016.188532      176.859996    3.105524  \n",
       "5             1016.220893      175.702741    3.021792  \n",
       "6             1016.136711      174.530150    3.005597  \n",
       "7             1016.080880      173.282766    2.984997  \n",
       "8             1015.990906      171.604873    3.005113  \n",
       "9             1016.010132      169.002812    3.043957  \n",
       "10            1016.113722      168.719437    3.073741  \n",
       "11            1016.280787      166.676056    3.121542  \n",
       "12            1016.533826      168.941465    3.261350  \n",
       "13            1016.784854      169.610619    3.435616  \n",
       "14            1016.956880      171.084965    3.674192  \n",
       "15            1017.060895      174.681061    3.864724  \n",
       "16            1017.030487      178.598096    4.012825  \n",
       "17            1016.782997      183.716395    4.087256  \n",
       "18            1016.383454      190.306025    4.138825  \n",
       "19            1015.978634      195.952264    4.180152  \n",
       "20            1015.622253      198.233958    4.200794  \n",
       "21            1015.435506      201.053407    4.234596  \n",
       "22            1015.340390      199.190276    4.148865  \n",
       "23            1015.417506      196.275391    3.983500  "
      ]
     },
     "execution_count": 28,
     "metadata": {},
     "output_type": "execute_result"
    }
   ],
   "source": [
    "#membuat kolom baru bernama hours yang berisi jam pengamatan\n",
    "data_cuaca[\"hours\"] = data_cuaca[\"timestamp\"].dt.hour\n",
    "\n",
    "#melihat median dari masing-masing data berdasarkan jam pengamatan\n",
    "data_cuaca.groupby([\"hours\"]).mean()"
   ]
  },
  {
   "cell_type": "code",
   "execution_count": 29,
   "metadata": {
    "id": "BiPweUxpou45"
   },
   "outputs": [],
   "source": [
    "dasuho0= data_cuaca[data_cuaca[\"hours\"]==0]\n",
    "dasuho1= data_cuaca[data_cuaca[\"hours\"]==1]\n",
    "dasuho2= data_cuaca[data_cuaca[\"hours\"]==2]\n",
    "dasuho3= data_cuaca[data_cuaca[\"hours\"]==3]\n",
    "dasuho4= data_cuaca[data_cuaca[\"hours\"]==4]\n",
    "dasuho5= data_cuaca[data_cuaca[\"hours\"]==5]\n",
    "dasuho6= data_cuaca[data_cuaca[\"hours\"]==6]\n",
    "dasuho7= data_cuaca[data_cuaca[\"hours\"]==7]\n",
    "dasuho8= data_cuaca[data_cuaca[\"hours\"]==8]\n",
    "dasuho9= data_cuaca[data_cuaca[\"hours\"]==9]\n",
    "dasuho10= data_cuaca[data_cuaca[\"hours\"]==10]\n",
    "dasuho11= data_cuaca[data_cuaca[\"hours\"]==11]\n",
    "dasuho12= data_cuaca[data_cuaca[\"hours\"]==12]\n",
    "dasuho13= data_cuaca[data_cuaca[\"hours\"]==13]\n",
    "dasuho14= data_cuaca[data_cuaca[\"hours\"]==14]\n",
    "dasuho15= data_cuaca[data_cuaca[\"hours\"]==15]\n",
    "dasuho16= data_cuaca[data_cuaca[\"hours\"]==16]\n",
    "dasuho17= data_cuaca[data_cuaca[\"hours\"]==17]\n",
    "dasuho18= data_cuaca[data_cuaca[\"hours\"]==18]\n",
    "dasuho19= data_cuaca[data_cuaca[\"hours\"]==19]\n",
    "dasuho20= data_cuaca[data_cuaca[\"hours\"]==20]\n",
    "dasuho21= data_cuaca[data_cuaca[\"hours\"]==21]\n",
    "dasuho22= data_cuaca[data_cuaca[\"hours\"]==22]\n",
    "dasuho23= data_cuaca[data_cuaca[\"hours\"]==23]"
   ]
  },
  {
   "cell_type": "code",
   "execution_count": 30,
   "metadata": {},
   "outputs": [],
   "source": [
    "dasuho0['precip_depth_1_hr']= dasuho0['precip_depth_1_hr'].replace(np.nan,1.2)\n",
    "dasuho1['precip_depth_1_hr']= dasuho1['precip_depth_1_hr'].replace(np.nan,1.5)\n",
    "dasuho2['precip_depth_1_hr']= dasuho2['precip_depth_1_hr'].replace(np.nan,0.9)\n",
    "dasuho3['precip_depth_1_hr']= dasuho3['precip_depth_1_hr'].replace(np.nan,0.9)\n",
    "dasuho4['precip_depth_1_hr']= dasuho4['precip_depth_1_hr'].replace(np.nan,0.9)\n",
    "dasuho5['precip_depth_1_hr']= dasuho5['precip_depth_1_hr'].replace(np.nan,0.7)\n",
    "dasuho6['precip_depth_1_hr']= dasuho6['precip_depth_1_hr'].replace(np.nan,0.9)\n",
    "dasuho7['precip_depth_1_hr']= dasuho7['precip_depth_1_hr'].replace(np.nan,0.8)\n",
    "dasuho8['precip_depth_1_hr']= dasuho8['precip_depth_1_hr'].replace(np.nan,0.7)\n",
    "dasuho9['precip_depth_1_hr']= dasuho9['precip_depth_1_hr'].replace(np.nan,0.7)\n",
    "dasuho10['precip_depth_1_hr']= dasuho10['precip_depth_1_hr'].replace(np.nan,0.8)\n",
    "dasuho11['precip_depth_1_hr']= dasuho11['precip_depth_1_hr'].replace(np.nan,0.8)\n",
    "dasuho12['precip_depth_1_hr']= dasuho12['precip_depth_1_hr'].replace(np.nan,0.8)\n",
    "dasuho13['precip_depth_1_hr']= dasuho13['precip_depth_1_hr'].replace(np.nan,0.8)\n",
    "dasuho14['precip_depth_1_hr']= dasuho14['precip_depth_1_hr'].replace(np.nan,0.8)\n",
    "dasuho15['precip_depth_1_hr']= dasuho15['precip_depth_1_hr'].replace(np.nan,0.9)\n",
    "dasuho16['precip_depth_1_hr']= dasuho16['precip_depth_1_hr'].replace(np.nan,0.8)\n",
    "dasuho17['precip_depth_1_hr']= dasuho17['precip_depth_1_hr'].replace(np.nan,0.8)\n",
    "dasuho18['precip_depth_1_hr']= dasuho18['precip_depth_1_hr'].replace(np.nan,0.8)\n",
    "dasuho19['precip_depth_1_hr']= dasuho19['precip_depth_1_hr'].replace(np.nan,1.2)\n",
    "dasuho20['precip_depth_1_hr']= dasuho20['precip_depth_1_hr'].replace(np.nan,1.3)\n",
    "dasuho21['precip_depth_1_hr']= dasuho21['precip_depth_1_hr'].replace(np.nan,1.3)\n",
    "dasuho22['precip_depth_1_hr']= dasuho22['precip_depth_1_hr'].replace(np.nan,1.6)\n",
    "dasuho23['precip_depth_1_hr']= dasuho23['precip_depth_1_hr'].replace(np.nan,1.3)\n",
    "data_cuaca = pd.concat([dasuho0,dasuho1,dasuho2\n",
    "                        ,dasuho3,dasuho4,dasuho5\n",
    "                        ,dasuho6,dasuho7,dasuho8\n",
    "                        ,dasuho9,dasuho10,dasuho11\n",
    "                        ,dasuho12,dasuho13,dasuho14\n",
    "                        ,dasuho15,dasuho16,dasuho17\n",
    "                        ,dasuho18,dasuho19,dasuho20\n",
    "                        ,dasuho21,dasuho22,dasuho23])"
   ]
  },
  {
   "cell_type": "code",
   "execution_count": 31,
   "metadata": {},
   "outputs": [],
   "source": [
    "data_cuaca=data_cuaca.sort_index()"
   ]
  },
  {
   "cell_type": "code",
   "execution_count": 32,
   "metadata": {},
   "outputs": [
    {
     "data": {
      "text/html": [
       "<div>\n",
       "<style scoped>\n",
       "    .dataframe tbody tr th:only-of-type {\n",
       "        vertical-align: middle;\n",
       "    }\n",
       "\n",
       "    .dataframe tbody tr th {\n",
       "        vertical-align: top;\n",
       "    }\n",
       "\n",
       "    .dataframe thead th {\n",
       "        text-align: right;\n",
       "    }\n",
       "</style>\n",
       "<table border=\"1\" class=\"dataframe\">\n",
       "  <thead>\n",
       "    <tr style=\"text-align: right;\">\n",
       "      <th></th>\n",
       "      <th>site_id</th>\n",
       "      <th>timestamp</th>\n",
       "      <th>air_temperature</th>\n",
       "      <th>dew_temperature</th>\n",
       "      <th>precip_depth_1_hr</th>\n",
       "      <th>sea_level_pressure</th>\n",
       "      <th>wind_direction</th>\n",
       "      <th>wind_speed</th>\n",
       "      <th>hours</th>\n",
       "    </tr>\n",
       "  </thead>\n",
       "  <tbody>\n",
       "    <tr>\n",
       "      <th>0</th>\n",
       "      <td>0</td>\n",
       "      <td>2016-01-01 00:00:00</td>\n",
       "      <td>25.0</td>\n",
       "      <td>20.0</td>\n",
       "      <td>1.2</td>\n",
       "      <td>1019.7</td>\n",
       "      <td>0.0</td>\n",
       "      <td>0.0</td>\n",
       "      <td>0</td>\n",
       "    </tr>\n",
       "    <tr>\n",
       "      <th>1</th>\n",
       "      <td>0</td>\n",
       "      <td>2016-01-01 01:00:00</td>\n",
       "      <td>24.4</td>\n",
       "      <td>21.1</td>\n",
       "      <td>-1.0</td>\n",
       "      <td>1020.2</td>\n",
       "      <td>70.0</td>\n",
       "      <td>1.5</td>\n",
       "      <td>1</td>\n",
       "    </tr>\n",
       "    <tr>\n",
       "      <th>2</th>\n",
       "      <td>0</td>\n",
       "      <td>2016-01-01 02:00:00</td>\n",
       "      <td>22.8</td>\n",
       "      <td>21.1</td>\n",
       "      <td>0.0</td>\n",
       "      <td>1020.2</td>\n",
       "      <td>0.0</td>\n",
       "      <td>0.0</td>\n",
       "      <td>2</td>\n",
       "    </tr>\n",
       "    <tr>\n",
       "      <th>3</th>\n",
       "      <td>0</td>\n",
       "      <td>2016-01-01 03:00:00</td>\n",
       "      <td>21.1</td>\n",
       "      <td>20.6</td>\n",
       "      <td>0.0</td>\n",
       "      <td>1020.1</td>\n",
       "      <td>0.0</td>\n",
       "      <td>0.0</td>\n",
       "      <td>3</td>\n",
       "    </tr>\n",
       "    <tr>\n",
       "      <th>4</th>\n",
       "      <td>0</td>\n",
       "      <td>2016-01-01 04:00:00</td>\n",
       "      <td>20.0</td>\n",
       "      <td>20.0</td>\n",
       "      <td>-1.0</td>\n",
       "      <td>1020.0</td>\n",
       "      <td>250.0</td>\n",
       "      <td>2.6</td>\n",
       "      <td>4</td>\n",
       "    </tr>\n",
       "  </tbody>\n",
       "</table>\n",
       "</div>"
      ],
      "text/plain": [
       "  site_id           timestamp  air_temperature  dew_temperature  \\\n",
       "0       0 2016-01-01 00:00:00             25.0             20.0   \n",
       "1       0 2016-01-01 01:00:00             24.4             21.1   \n",
       "2       0 2016-01-01 02:00:00             22.8             21.1   \n",
       "3       0 2016-01-01 03:00:00             21.1             20.6   \n",
       "4       0 2016-01-01 04:00:00             20.0             20.0   \n",
       "\n",
       "   precip_depth_1_hr  sea_level_pressure  wind_direction  wind_speed  hours  \n",
       "0                1.2              1019.7             0.0         0.0      0  \n",
       "1               -1.0              1020.2            70.0         1.5      1  \n",
       "2                0.0              1020.2             0.0         0.0      2  \n",
       "3                0.0              1020.1             0.0         0.0      3  \n",
       "4               -1.0              1020.0           250.0         2.6      4  "
      ]
     },
     "execution_count": 32,
     "metadata": {},
     "output_type": "execute_result"
    }
   ],
   "source": [
    "data_cuaca.head()"
   ]
  },
  {
   "cell_type": "code",
   "execution_count": 33,
   "metadata": {
    "colab": {
     "base_uri": "https://localhost:8080/",
     "height": 224
    },
    "id": "OEy8Ljk_MQBx",
    "outputId": "149d85b6-3495-4a74-98fa-8f8688791eb4",
    "scrolled": false
   },
   "outputs": [
    {
     "name": "stdout",
     "output_type": "stream",
     "text": [
      "count    139660.000000\n",
      "mean          7.350158\n",
      "std           9.790235\n",
      "min         -35.000000\n",
      "25%           0.600000\n",
      "50%           8.300000\n",
      "75%          14.400000\n",
      "max          26.100000\n",
      "Name: dew_temperature, dtype: float64\n"
     ]
    },
    {
     "data": {
      "text/plain": [
       "<AxesSubplot:>"
      ]
     },
     "execution_count": 33,
     "metadata": {},
     "output_type": "execute_result"
    },
    {
     "data": {
      "image/png": "[encoded data removed]",
      "text/plain": [
       "<Figure size 432x288 with 1 Axes>"
      ]
     },
     "metadata": {},
     "output_type": "display_data"
    }
   ],
   "source": [
    "# Melihat data untuk dew temperature\n",
    "print(data_cuaca['dew_temperature'].describe())\n",
    "data_cuaca['dew_temperature'].hist()"
   ]
  },
  {
   "cell_type": "markdown",
   "metadata": {},
   "source": [
    "Terlihat karena distribusi data skewed sehingga imputasi yang dilakukan adalah menggunakan median"
   ]
  },
  {
   "cell_type": "code",
   "execution_count": 34,
   "metadata": {
    "id": "Wh7t7oGkN8tL"
   },
   "outputs": [],
   "source": [
    "# Imputasi missing values dew temperature dengan median\n",
    "data_cuaca['dew_temperature'] = data_cuaca['dew_temperature'].replace(np.nan, 8.3)"
   ]
  },
  {
   "cell_type": "code",
   "execution_count": 35,
   "metadata": {
    "colab": {
     "base_uri": "https://localhost:8080/",
     "height": 224
    },
    "id": "gYpdeazkdSwK",
    "outputId": "1dfb5fde-5458-49bc-f765-fd50652c6b75",
    "scrolled": false
   },
   "outputs": [
    {
     "name": "stdout",
     "output_type": "stream",
     "text": [
      "count    129155.000000\n",
      "mean       1016.158038\n",
      "std           7.629684\n",
      "min         968.200000\n",
      "25%        1011.800000\n",
      "50%        1016.400000\n",
      "75%        1020.800000\n",
      "max        1045.500000\n",
      "Name: sea_level_pressure, dtype: float64\n"
     ]
    },
    {
     "data": {
      "text/plain": [
       "<AxesSubplot:>"
      ]
     },
     "execution_count": 35,
     "metadata": {},
     "output_type": "execute_result"
    },
    {
     "data": {
      "image/png": "[encoded data removed]",
      "text/plain": [
       "<Figure size 432x288 with 1 Axes>"
      ]
     },
     "metadata": {},
     "output_type": "display_data"
    }
   ],
   "source": [
    "# Melihat distribusi data untuk sea_level_pressure\n",
    "print(data_cuaca['sea_level_pressure'].describe())\n",
    "data_cuaca['sea_level_pressure'].hist()"
   ]
  },
  {
   "cell_type": "code",
   "execution_count": 36,
   "metadata": {},
   "outputs": [
    {
     "data": {
      "image/png": "[encoded data removed]",
      "text/plain": [
       "<Figure size 432x288 with 1 Axes>"
      ]
     },
     "metadata": {},
     "output_type": "display_data"
    }
   ],
   "source": [
    "p = sns.distplot(data_cuaca['sea_level_pressure'], kde=True, rug=True)"
   ]
  },
  {
   "cell_type": "markdown",
   "metadata": {},
   "source": [
    "Karena data terlihat cukup berdistribusi normal maka imputasi dilakukan dengan mean"
   ]
  },
  {
   "cell_type": "code",
   "execution_count": 37,
   "metadata": {
    "id": "DcWI4pL3eEot"
   },
   "outputs": [],
   "source": [
    "# Memasukan missing values sea level pressure dengan mean\n",
    "data_cuaca['sea_level_pressure'] = data_cuaca['sea_level_pressure'].replace(np.nan, 1016.158038)"
   ]
  },
  {
   "cell_type": "markdown",
   "metadata": {},
   "source": [
    "Dilakukan imputasi data pada kolom wind_direction dengan mean berdasarkan site_id"
   ]
  },
  {
   "cell_type": "code",
   "execution_count": 38,
   "metadata": {
    "colab": {
     "base_uri": "https://localhost:8080/",
     "height": 596
    },
    "id": "Eyu24icX4GAp",
    "outputId": "81423ccd-b632-41cf-9537-fd177001d590"
   },
   "outputs": [
    {
     "data": {
      "text/html": [
       "<div>\n",
       "<style scoped>\n",
       "    .dataframe tbody tr th:only-of-type {\n",
       "        vertical-align: middle;\n",
       "    }\n",
       "\n",
       "    .dataframe tbody tr th {\n",
       "        vertical-align: top;\n",
       "    }\n",
       "\n",
       "    .dataframe thead th {\n",
       "        text-align: right;\n",
       "    }\n",
       "</style>\n",
       "<table border=\"1\" class=\"dataframe\">\n",
       "  <thead>\n",
       "    <tr style=\"text-align: right;\">\n",
       "      <th></th>\n",
       "      <th>air_temperature</th>\n",
       "      <th>dew_temperature</th>\n",
       "      <th>precip_depth_1_hr</th>\n",
       "      <th>sea_level_pressure</th>\n",
       "      <th>wind_direction</th>\n",
       "      <th>wind_speed</th>\n",
       "      <th>hours</th>\n",
       "    </tr>\n",
       "    <tr>\n",
       "      <th>site_id</th>\n",
       "      <th></th>\n",
       "      <th></th>\n",
       "      <th></th>\n",
       "      <th></th>\n",
       "      <th></th>\n",
       "      <th></th>\n",
       "      <th></th>\n",
       "    </tr>\n",
       "  </thead>\n",
       "  <tbody>\n",
       "    <tr>\n",
       "      <th>0</th>\n",
       "      <td>22.833345</td>\n",
       "      <td>16.814970</td>\n",
       "      <td>1.382536</td>\n",
       "      <td>1017.970666</td>\n",
       "      <td>156.494024</td>\n",
       "      <td>3.375114</td>\n",
       "      <td>11.500000</td>\n",
       "    </tr>\n",
       "    <tr>\n",
       "      <th>1</th>\n",
       "      <td>11.712176</td>\n",
       "      <td>7.646548</td>\n",
       "      <td>0.966621</td>\n",
       "      <td>1015.990793</td>\n",
       "      <td>195.584475</td>\n",
       "      <td>3.967043</td>\n",
       "      <td>11.498688</td>\n",
       "    </tr>\n",
       "    <tr>\n",
       "      <th>2</th>\n",
       "      <td>24.939189</td>\n",
       "      <td>4.069987</td>\n",
       "      <td>0.163623</td>\n",
       "      <td>1011.701748</td>\n",
       "      <td>152.777100</td>\n",
       "      <td>2.932764</td>\n",
       "      <td>11.498918</td>\n",
       "    </tr>\n",
       "    <tr>\n",
       "      <th>3</th>\n",
       "      <td>15.520342</td>\n",
       "      <td>8.126333</td>\n",
       "      <td>0.692654</td>\n",
       "      <td>1017.906648</td>\n",
       "      <td>185.063174</td>\n",
       "      <td>3.910893</td>\n",
       "      <td>11.503531</td>\n",
       "    </tr>\n",
       "    <tr>\n",
       "      <th>4</th>\n",
       "      <td>15.236366</td>\n",
       "      <td>9.894387</td>\n",
       "      <td>0.355550</td>\n",
       "      <td>1016.881685</td>\n",
       "      <td>207.864715</td>\n",
       "      <td>3.858226</td>\n",
       "      <td>11.501309</td>\n",
       "    </tr>\n",
       "    <tr>\n",
       "      <th>5</th>\n",
       "      <td>10.868875</td>\n",
       "      <td>8.194700</td>\n",
       "      <td>0.966545</td>\n",
       "      <td>1016.158038</td>\n",
       "      <td>200.053191</td>\n",
       "      <td>4.768087</td>\n",
       "      <td>11.499829</td>\n",
       "    </tr>\n",
       "    <tr>\n",
       "      <th>6</th>\n",
       "      <td>15.141517</td>\n",
       "      <td>7.321806</td>\n",
       "      <td>0.797768</td>\n",
       "      <td>1017.500656</td>\n",
       "      <td>131.618143</td>\n",
       "      <td>2.197758</td>\n",
       "      <td>11.501025</td>\n",
       "    </tr>\n",
       "    <tr>\n",
       "      <th>7</th>\n",
       "      <td>7.888867</td>\n",
       "      <td>1.922986</td>\n",
       "      <td>1.848352</td>\n",
       "      <td>1015.252852</td>\n",
       "      <td>208.931739</td>\n",
       "      <td>3.445565</td>\n",
       "      <td>11.482238</td>\n",
       "    </tr>\n",
       "    <tr>\n",
       "      <th>8</th>\n",
       "      <td>22.833345</td>\n",
       "      <td>16.814970</td>\n",
       "      <td>1.382536</td>\n",
       "      <td>1017.970666</td>\n",
       "      <td>156.494024</td>\n",
       "      <td>3.375114</td>\n",
       "      <td>11.500000</td>\n",
       "    </tr>\n",
       "    <tr>\n",
       "      <th>9</th>\n",
       "      <td>21.363872</td>\n",
       "      <td>14.608269</td>\n",
       "      <td>0.755319</td>\n",
       "      <td>1016.612400</td>\n",
       "      <td>116.648987</td>\n",
       "      <td>2.083658</td>\n",
       "      <td>11.502392</td>\n",
       "    </tr>\n",
       "    <tr>\n",
       "      <th>10</th>\n",
       "      <td>11.653849</td>\n",
       "      <td>0.107538</td>\n",
       "      <td>0.458893</td>\n",
       "      <td>1015.676644</td>\n",
       "      <td>179.879971</td>\n",
       "      <td>3.158677</td>\n",
       "      <td>11.500797</td>\n",
       "    </tr>\n",
       "    <tr>\n",
       "      <th>11</th>\n",
       "      <td>7.888867</td>\n",
       "      <td>1.922986</td>\n",
       "      <td>1.848352</td>\n",
       "      <td>1015.252852</td>\n",
       "      <td>208.931739</td>\n",
       "      <td>3.445565</td>\n",
       "      <td>11.482238</td>\n",
       "    </tr>\n",
       "    <tr>\n",
       "      <th>12</th>\n",
       "      <td>9.843232</td>\n",
       "      <td>6.519966</td>\n",
       "      <td>0.966716</td>\n",
       "      <td>1014.436556</td>\n",
       "      <td>202.774732</td>\n",
       "      <td>5.511399</td>\n",
       "      <td>11.502913</td>\n",
       "    </tr>\n",
       "    <tr>\n",
       "      <th>13</th>\n",
       "      <td>9.880200</td>\n",
       "      <td>3.402289</td>\n",
       "      <td>0.880861</td>\n",
       "      <td>1015.898960</td>\n",
       "      <td>187.969881</td>\n",
       "      <td>4.197358</td>\n",
       "      <td>11.499146</td>\n",
       "    </tr>\n",
       "    <tr>\n",
       "      <th>14</th>\n",
       "      <td>13.258608</td>\n",
       "      <td>5.775447</td>\n",
       "      <td>0.743306</td>\n",
       "      <td>1016.375229</td>\n",
       "      <td>187.723813</td>\n",
       "      <td>3.076776</td>\n",
       "      <td>11.503361</td>\n",
       "    </tr>\n",
       "    <tr>\n",
       "      <th>15</th>\n",
       "      <td>9.357618</td>\n",
       "      <td>4.141945</td>\n",
       "      <td>1.481263</td>\n",
       "      <td>1016.931055</td>\n",
       "      <td>186.525816</td>\n",
       "      <td>3.645490</td>\n",
       "      <td>11.590253</td>\n",
       "    </tr>\n",
       "  </tbody>\n",
       "</table>\n",
       "</div>"
      ],
      "text/plain": [
       "         air_temperature  dew_temperature  precip_depth_1_hr  \\\n",
       "site_id                                                        \n",
       "0              22.833345        16.814970           1.382536   \n",
       "1              11.712176         7.646548           0.966621   \n",
       "2              24.939189         4.069987           0.163623   \n",
       "3              15.520342         8.126333           0.692654   \n",
       "4              15.236366         9.894387           0.355550   \n",
       "5              10.868875         8.194700           0.966545   \n",
       "6              15.141517         7.321806           0.797768   \n",
       "7               7.888867         1.922986           1.848352   \n",
       "8              22.833345        16.814970           1.382536   \n",
       "9              21.363872        14.608269           0.755319   \n",
       "10             11.653849         0.107538           0.458893   \n",
       "11              7.888867         1.922986           1.848352   \n",
       "12              9.843232         6.519966           0.966716   \n",
       "13              9.880200         3.402289           0.880861   \n",
       "14             13.258608         5.775447           0.743306   \n",
       "15              9.357618         4.141945           1.481263   \n",
       "\n",
       "         sea_level_pressure  wind_direction  wind_speed      hours  \n",
       "site_id                                                             \n",
       "0               1017.970666      156.494024    3.375114  11.500000  \n",
       "1               1015.990793      195.584475    3.967043  11.498688  \n",
       "2               1011.701748      152.777100    2.932764  11.498918  \n",
       "3               1017.906648      185.063174    3.910893  11.503531  \n",
       "4               1016.881685      207.864715    3.858226  11.501309  \n",
       "5               1016.158038      200.053191    4.768087  11.499829  \n",
       "6               1017.500656      131.618143    2.197758  11.501025  \n",
       "7               1015.252852      208.931739    3.445565  11.482238  \n",
       "8               1017.970666      156.494024    3.375114  11.500000  \n",
       "9               1016.612400      116.648987    2.083658  11.502392  \n",
       "10              1015.676644      179.879971    3.158677  11.500797  \n",
       "11              1015.252852      208.931739    3.445565  11.482238  \n",
       "12              1014.436556      202.774732    5.511399  11.502913  \n",
       "13              1015.898960      187.969881    4.197358  11.499146  \n",
       "14              1016.375229      187.723813    3.076776  11.503361  \n",
       "15              1016.931055      186.525816    3.645490  11.590253  "
      ]
     },
     "execution_count": 38,
     "metadata": {},
     "output_type": "execute_result"
    }
   ],
   "source": [
    "data_cuaca.groupby('site_id').mean()"
   ]
  },
  {
   "cell_type": "code",
   "execution_count": 39,
   "metadata": {
    "id": "UyXxqBzP3Oln"
   },
   "outputs": [],
   "source": [
    "#mengisi missing value wind direction dengan mean berdasarkan site_id\n",
    "dasusite0= data_cuaca[data_cuaca[\"site_id\"]==0]\n",
    "dasusite1= data_cuaca[data_cuaca[\"site_id\"]==1]\n",
    "dasusite2= data_cuaca[data_cuaca[\"site_id\"]==2]\n",
    "dasusite3= data_cuaca[data_cuaca[\"site_id\"]==3]\n",
    "dasusite4= data_cuaca[data_cuaca[\"site_id\"]==4]\n",
    "dasusite5= data_cuaca[data_cuaca[\"site_id\"]==5]\n",
    "dasusite6= data_cuaca[data_cuaca[\"site_id\"]==6]\n",
    "dasusite7= data_cuaca[data_cuaca[\"site_id\"]==7]\n",
    "dasusite8= data_cuaca[data_cuaca[\"site_id\"]==8]\n",
    "dasusite9= data_cuaca[data_cuaca[\"site_id\"]==9]\n",
    "dasusite10= data_cuaca[data_cuaca[\"site_id\"]==10]\n",
    "dasusite11= data_cuaca[data_cuaca[\"site_id\"]==11]\n",
    "dasusite12= data_cuaca[data_cuaca[\"site_id\"]==12]\n",
    "dasusite13= data_cuaca[data_cuaca[\"site_id\"]==13]\n",
    "dasusite14= data_cuaca[data_cuaca[\"site_id\"]==14]\n",
    "dasusite15= data_cuaca[data_cuaca[\"site_id\"]==15]"
   ]
  },
  {
   "cell_type": "code",
   "execution_count": 40,
   "metadata": {
    "id": "y5AY7Xs2HTnC"
   },
   "outputs": [],
   "source": [
    "dasusite0['wind_direction']= dasusite0['wind_direction'].replace(np.nan,156.0)\n",
    "dasusite1['wind_direction']= dasusite1['wind_direction'].replace(np.nan,196.0)\n",
    "dasusite2['wind_direction']= dasusite2['wind_direction'].replace(np.nan,153.0)\n",
    "dasusite3['wind_direction']= dasusite3['wind_direction'].replace(np.nan,185.0)\n",
    "dasusite4['wind_direction']= dasusite4['wind_direction'].replace(np.nan,208.0)\n",
    "dasusite5['wind_direction']= dasusite5['wind_direction'].replace(np.nan,200.0)\n",
    "dasusite6['wind_direction']= dasusite6['wind_direction'].replace(np.nan,132.0)\n",
    "dasusite7['wind_direction']= dasusite7['wind_direction'].replace(np.nan,209.0)\n",
    "dasusite8['wind_direction']= dasusite8['wind_direction'].replace(np.nan,156.0)\n",
    "dasusite9['wind_direction']= dasusite9['wind_direction'].replace(np.nan,117.0)\n",
    "dasusite10['wind_direction']= dasusite10['wind_direction'].replace(np.nan,180.0)\n",
    "dasusite11['wind_direction']= dasusite11['wind_direction'].replace(np.nan,209.0)\n",
    "dasusite12['wind_direction']= dasusite12['wind_direction'].replace(np.nan,203.0)\n",
    "dasusite13['wind_direction']= dasusite13['wind_direction'].replace(np.nan,188.0)\n",
    "dasusite14['wind_direction']= dasusite14['wind_direction'].replace(np.nan,188.0)\n",
    "dasusite15['wind_direction']= dasusite15['wind_direction'].replace(np.nan,187.0)\n",
    "data_cuaca = pd.concat([dasusite0,dasusite1,dasusite2\n",
    "                        ,dasusite3,dasusite4,dasusite5\n",
    "                        ,dasusite6,dasusite7,dasusite8\n",
    "                        ,dasusite9,dasusite10,dasusite11\n",
    "                        ,dasusite12,dasusite13,dasusite14\n",
    "                        ,dasusite15])"
   ]
  },
  {
   "cell_type": "code",
   "execution_count": 41,
   "metadata": {},
   "outputs": [],
   "source": [
    "data_cuaca=data_cuaca.sort_index()"
   ]
  },
  {
   "cell_type": "code",
   "execution_count": 42,
   "metadata": {},
   "outputs": [
    {
     "data": {
      "text/html": [
       "<div>\n",
       "<style scoped>\n",
       "    .dataframe tbody tr th:only-of-type {\n",
       "        vertical-align: middle;\n",
       "    }\n",
       "\n",
       "    .dataframe tbody tr th {\n",
       "        vertical-align: top;\n",
       "    }\n",
       "\n",
       "    .dataframe thead th {\n",
       "        text-align: right;\n",
       "    }\n",
       "</style>\n",
       "<table border=\"1\" class=\"dataframe\">\n",
       "  <thead>\n",
       "    <tr style=\"text-align: right;\">\n",
       "      <th></th>\n",
       "      <th>site_id</th>\n",
       "      <th>timestamp</th>\n",
       "      <th>air_temperature</th>\n",
       "      <th>dew_temperature</th>\n",
       "      <th>precip_depth_1_hr</th>\n",
       "      <th>sea_level_pressure</th>\n",
       "      <th>wind_direction</th>\n",
       "      <th>wind_speed</th>\n",
       "      <th>hours</th>\n",
       "    </tr>\n",
       "  </thead>\n",
       "  <tbody>\n",
       "    <tr>\n",
       "      <th>0</th>\n",
       "      <td>0</td>\n",
       "      <td>2016-01-01 00:00:00</td>\n",
       "      <td>25.0</td>\n",
       "      <td>20.0</td>\n",
       "      <td>1.2</td>\n",
       "      <td>1019.7</td>\n",
       "      <td>0.0</td>\n",
       "      <td>0.0</td>\n",
       "      <td>0</td>\n",
       "    </tr>\n",
       "    <tr>\n",
       "      <th>1</th>\n",
       "      <td>0</td>\n",
       "      <td>2016-01-01 01:00:00</td>\n",
       "      <td>24.4</td>\n",
       "      <td>21.1</td>\n",
       "      <td>-1.0</td>\n",
       "      <td>1020.2</td>\n",
       "      <td>70.0</td>\n",
       "      <td>1.5</td>\n",
       "      <td>1</td>\n",
       "    </tr>\n",
       "    <tr>\n",
       "      <th>2</th>\n",
       "      <td>0</td>\n",
       "      <td>2016-01-01 02:00:00</td>\n",
       "      <td>22.8</td>\n",
       "      <td>21.1</td>\n",
       "      <td>0.0</td>\n",
       "      <td>1020.2</td>\n",
       "      <td>0.0</td>\n",
       "      <td>0.0</td>\n",
       "      <td>2</td>\n",
       "    </tr>\n",
       "    <tr>\n",
       "      <th>3</th>\n",
       "      <td>0</td>\n",
       "      <td>2016-01-01 03:00:00</td>\n",
       "      <td>21.1</td>\n",
       "      <td>20.6</td>\n",
       "      <td>0.0</td>\n",
       "      <td>1020.1</td>\n",
       "      <td>0.0</td>\n",
       "      <td>0.0</td>\n",
       "      <td>3</td>\n",
       "    </tr>\n",
       "    <tr>\n",
       "      <th>4</th>\n",
       "      <td>0</td>\n",
       "      <td>2016-01-01 04:00:00</td>\n",
       "      <td>20.0</td>\n",
       "      <td>20.0</td>\n",
       "      <td>-1.0</td>\n",
       "      <td>1020.0</td>\n",
       "      <td>250.0</td>\n",
       "      <td>2.6</td>\n",
       "      <td>4</td>\n",
       "    </tr>\n",
       "  </tbody>\n",
       "</table>\n",
       "</div>"
      ],
      "text/plain": [
       "  site_id           timestamp  air_temperature  dew_temperature  \\\n",
       "0       0 2016-01-01 00:00:00             25.0             20.0   \n",
       "1       0 2016-01-01 01:00:00             24.4             21.1   \n",
       "2       0 2016-01-01 02:00:00             22.8             21.1   \n",
       "3       0 2016-01-01 03:00:00             21.1             20.6   \n",
       "4       0 2016-01-01 04:00:00             20.0             20.0   \n",
       "\n",
       "   precip_depth_1_hr  sea_level_pressure  wind_direction  wind_speed  hours  \n",
       "0                1.2              1019.7             0.0         0.0      0  \n",
       "1               -1.0              1020.2            70.0         1.5      1  \n",
       "2                0.0              1020.2             0.0         0.0      2  \n",
       "3                0.0              1020.1             0.0         0.0      3  \n",
       "4               -1.0              1020.0           250.0         2.6      4  "
      ]
     },
     "execution_count": 42,
     "metadata": {},
     "output_type": "execute_result"
    }
   ],
   "source": [
    "data_cuaca.head()"
   ]
  },
  {
   "cell_type": "code",
   "execution_count": 43,
   "metadata": {
    "colab": {
     "base_uri": "https://localhost:8080/",
     "height": 224
    },
    "id": "h356wTes3uaI",
    "outputId": "4fdfaa5c-ea29-4a76-aaba-7e308db0d96e"
   },
   "outputs": [
    {
     "name": "stdout",
     "output_type": "stream",
     "text": [
      "count    139469.000000\n",
      "mean          3.560527\n",
      "std           2.335874\n",
      "min           0.000000\n",
      "25%           2.100000\n",
      "50%           3.100000\n",
      "75%           5.000000\n",
      "max          19.000000\n",
      "Name: wind_speed, dtype: float64\n"
     ]
    },
    {
     "data": {
      "text/plain": [
       "<AxesSubplot:>"
      ]
     },
     "execution_count": 43,
     "metadata": {},
     "output_type": "execute_result"
    },
    {
     "data": {
      "image/png": "[encoded data removed]",
      "text/plain": [
       "<Figure size 432x288 with 1 Axes>"
      ]
     },
     "metadata": {},
     "output_type": "display_data"
    }
   ],
   "source": [
    "# Melihat data untuk wind speed\n",
    "print(data_cuaca['wind_speed'].describe())\n",
    "data_cuaca['wind_speed'].hist()"
   ]
  },
  {
   "cell_type": "code",
   "execution_count": 44,
   "metadata": {},
   "outputs": [
    {
     "data": {
      "image/png": "[encoded data removed]",
      "text/plain": [
       "<Figure size 432x288 with 1 Axes>"
      ]
     },
     "metadata": {},
     "output_type": "display_data"
    }
   ],
   "source": [
    "p = sns.distplot(data_cuaca['wind_speed'], kde=True, rug=True)"
   ]
  },
  {
   "cell_type": "markdown",
   "metadata": {},
   "source": [
    "Karena terlihat bahwa distribusi skewed sehingga imputasi dilakukan dengan median"
   ]
  },
  {
   "cell_type": "code",
   "execution_count": 45,
   "metadata": {
    "id": "K7wWUsPg36L3"
   },
   "outputs": [],
   "source": [
    "# Memasukan missing data sea level pressure berdasarkan median\n",
    "data_cuaca['wind_speed'] = data_cuaca['wind_speed'].replace(np.nan, 3.1)"
   ]
  },
  {
   "cell_type": "code",
   "execution_count": 46,
   "metadata": {},
   "outputs": [
    {
     "data": {
      "text/html": [
       "<div>\n",
       "<style scoped>\n",
       "    .dataframe tbody tr th:only-of-type {\n",
       "        vertical-align: middle;\n",
       "    }\n",
       "\n",
       "    .dataframe tbody tr th {\n",
       "        vertical-align: top;\n",
       "    }\n",
       "\n",
       "    .dataframe thead th {\n",
       "        text-align: right;\n",
       "    }\n",
       "</style>\n",
       "<table border=\"1\" class=\"dataframe\">\n",
       "  <thead>\n",
       "    <tr style=\"text-align: right;\">\n",
       "      <th></th>\n",
       "      <th>site_id</th>\n",
       "      <th>timestamp</th>\n",
       "      <th>air_temperature</th>\n",
       "      <th>dew_temperature</th>\n",
       "      <th>precip_depth_1_hr</th>\n",
       "      <th>sea_level_pressure</th>\n",
       "      <th>wind_direction</th>\n",
       "      <th>wind_speed</th>\n",
       "      <th>hours</th>\n",
       "    </tr>\n",
       "  </thead>\n",
       "  <tbody>\n",
       "    <tr>\n",
       "      <th>0</th>\n",
       "      <td>0</td>\n",
       "      <td>2016-01-01 00:00:00</td>\n",
       "      <td>25.0</td>\n",
       "      <td>20.0</td>\n",
       "      <td>1.2</td>\n",
       "      <td>1019.7</td>\n",
       "      <td>0.0</td>\n",
       "      <td>0.0</td>\n",
       "      <td>0</td>\n",
       "    </tr>\n",
       "    <tr>\n",
       "      <th>1</th>\n",
       "      <td>0</td>\n",
       "      <td>2016-01-01 01:00:00</td>\n",
       "      <td>24.4</td>\n",
       "      <td>21.1</td>\n",
       "      <td>-1.0</td>\n",
       "      <td>1020.2</td>\n",
       "      <td>70.0</td>\n",
       "      <td>1.5</td>\n",
       "      <td>1</td>\n",
       "    </tr>\n",
       "    <tr>\n",
       "      <th>2</th>\n",
       "      <td>0</td>\n",
       "      <td>2016-01-01 02:00:00</td>\n",
       "      <td>22.8</td>\n",
       "      <td>21.1</td>\n",
       "      <td>0.0</td>\n",
       "      <td>1020.2</td>\n",
       "      <td>0.0</td>\n",
       "      <td>0.0</td>\n",
       "      <td>2</td>\n",
       "    </tr>\n",
       "    <tr>\n",
       "      <th>3</th>\n",
       "      <td>0</td>\n",
       "      <td>2016-01-01 03:00:00</td>\n",
       "      <td>21.1</td>\n",
       "      <td>20.6</td>\n",
       "      <td>0.0</td>\n",
       "      <td>1020.1</td>\n",
       "      <td>0.0</td>\n",
       "      <td>0.0</td>\n",
       "      <td>3</td>\n",
       "    </tr>\n",
       "    <tr>\n",
       "      <th>4</th>\n",
       "      <td>0</td>\n",
       "      <td>2016-01-01 04:00:00</td>\n",
       "      <td>20.0</td>\n",
       "      <td>20.0</td>\n",
       "      <td>-1.0</td>\n",
       "      <td>1020.0</td>\n",
       "      <td>250.0</td>\n",
       "      <td>2.6</td>\n",
       "      <td>4</td>\n",
       "    </tr>\n",
       "  </tbody>\n",
       "</table>\n",
       "</div>"
      ],
      "text/plain": [
       "  site_id           timestamp  air_temperature  dew_temperature  \\\n",
       "0       0 2016-01-01 00:00:00             25.0             20.0   \n",
       "1       0 2016-01-01 01:00:00             24.4             21.1   \n",
       "2       0 2016-01-01 02:00:00             22.8             21.1   \n",
       "3       0 2016-01-01 03:00:00             21.1             20.6   \n",
       "4       0 2016-01-01 04:00:00             20.0             20.0   \n",
       "\n",
       "   precip_depth_1_hr  sea_level_pressure  wind_direction  wind_speed  hours  \n",
       "0                1.2              1019.7             0.0         0.0      0  \n",
       "1               -1.0              1020.2            70.0         1.5      1  \n",
       "2                0.0              1020.2             0.0         0.0      2  \n",
       "3                0.0              1020.1             0.0         0.0      3  \n",
       "4               -1.0              1020.0           250.0         2.6      4  "
      ]
     },
     "execution_count": 46,
     "metadata": {},
     "output_type": "execute_result"
    }
   ],
   "source": [
    "data_cuaca.head()"
   ]
  },
  {
   "cell_type": "code",
   "execution_count": 47,
   "metadata": {
    "colab": {
     "base_uri": "https://localhost:8080/"
    },
    "id": "NHWQg9Pf5w50",
    "outputId": "98871672-d727-4a11-c6fc-c9fc115bc77a",
    "scrolled": true
   },
   "outputs": [
    {
     "data": {
      "text/plain": [
       "site_id               0\n",
       "timestamp             0\n",
       "air_temperature       0\n",
       "dew_temperature       0\n",
       "precip_depth_1_hr     0\n",
       "sea_level_pressure    0\n",
       "wind_direction        0\n",
       "wind_speed            0\n",
       "hours                 0\n",
       "dtype: int64"
      ]
     },
     "execution_count": 47,
     "metadata": {},
     "output_type": "execute_result"
    }
   ],
   "source": [
    "#mengecek apa masih ada missing values\n",
    "data_cuaca.isnull().sum()"
   ]
  },
  {
   "cell_type": "code",
   "execution_count": 48,
   "metadata": {},
   "outputs": [
    {
     "name": "stdout",
     "output_type": "stream",
     "text": [
      "(139773, 9)\n"
     ]
    },
    {
     "data": {
      "text/plain": [
       "0"
      ]
     },
     "execution_count": 48,
     "metadata": {},
     "output_type": "execute_result"
    }
   ],
   "source": [
    "#mengecek apakah terdapat ada duplikasi data\n",
    "print(data_cuaca.shape)\n",
    "data_cuaca.duplicated().sum()"
   ]
  },
  {
   "cell_type": "markdown",
   "metadata": {
    "id": "7W8-grhTrSSC"
   },
   "source": [
    "# Merge Data"
   ]
  },
  {
   "cell_type": "markdown",
   "metadata": {},
   "source": [
    "Sebelum melakukan exploratory data analysis antara variabel, akan digabungkan ketiga data terlebih dahulu"
   ]
  },
  {
   "cell_type": "code",
   "execution_count": 50,
   "metadata": {},
   "outputs": [],
   "source": [
    "import gc"
   ]
  },
  {
   "cell_type": "code",
   "execution_count": 51,
   "metadata": {},
   "outputs": [
    {
     "data": {
      "text/plain": [
       "282420"
      ]
     },
     "execution_count": 51,
     "metadata": {},
     "output_type": "execute_result"
    }
   ],
   "source": [
    "data_energy = data_energy.merge(data_gedung, on='building_id', how='left')\n",
    "all_data = data_energy.merge(data_cuaca, on=['site_id','timestamp'], how='left')\n",
    "\n",
    "del data_gedung,data_cuaca,data_energy\n",
    "gc.collect()"
   ]
  },
  {
   "cell_type": "code",
   "execution_count": 52,
   "metadata": {},
   "outputs": [
    {
     "data": {
      "text/html": [
       "<div>\n",
       "<style scoped>\n",
       "    .dataframe tbody tr th:only-of-type {\n",
       "        vertical-align: middle;\n",
       "    }\n",
       "\n",
       "    .dataframe tbody tr th {\n",
       "        vertical-align: top;\n",
       "    }\n",
       "\n",
       "    .dataframe thead th {\n",
       "        text-align: right;\n",
       "    }\n",
       "</style>\n",
       "<table border=\"1\" class=\"dataframe\">\n",
       "  <thead>\n",
       "    <tr style=\"text-align: right;\">\n",
       "      <th></th>\n",
       "      <th>building_id</th>\n",
       "      <th>meter</th>\n",
       "      <th>timestamp</th>\n",
       "      <th>meter_reading</th>\n",
       "      <th>site_id</th>\n",
       "      <th>primary_use</th>\n",
       "      <th>square_feet</th>\n",
       "      <th>air_temperature</th>\n",
       "      <th>dew_temperature</th>\n",
       "      <th>precip_depth_1_hr</th>\n",
       "      <th>sea_level_pressure</th>\n",
       "      <th>wind_direction</th>\n",
       "      <th>wind_speed</th>\n",
       "      <th>hours</th>\n",
       "    </tr>\n",
       "  </thead>\n",
       "  <tbody>\n",
       "    <tr>\n",
       "      <th>0</th>\n",
       "      <td>0</td>\n",
       "      <td>0</td>\n",
       "      <td>2016-01-01</td>\n",
       "      <td>0.0</td>\n",
       "      <td>0</td>\n",
       "      <td>Education</td>\n",
       "      <td>7432</td>\n",
       "      <td>25.0</td>\n",
       "      <td>20.0</td>\n",
       "      <td>1.2</td>\n",
       "      <td>1019.7</td>\n",
       "      <td>0.0</td>\n",
       "      <td>0.0</td>\n",
       "      <td>0.0</td>\n",
       "    </tr>\n",
       "    <tr>\n",
       "      <th>1</th>\n",
       "      <td>1</td>\n",
       "      <td>0</td>\n",
       "      <td>2016-01-01</td>\n",
       "      <td>0.0</td>\n",
       "      <td>0</td>\n",
       "      <td>Education</td>\n",
       "      <td>2720</td>\n",
       "      <td>25.0</td>\n",
       "      <td>20.0</td>\n",
       "      <td>1.2</td>\n",
       "      <td>1019.7</td>\n",
       "      <td>0.0</td>\n",
       "      <td>0.0</td>\n",
       "      <td>0.0</td>\n",
       "    </tr>\n",
       "    <tr>\n",
       "      <th>2</th>\n",
       "      <td>2</td>\n",
       "      <td>0</td>\n",
       "      <td>2016-01-01</td>\n",
       "      <td>0.0</td>\n",
       "      <td>0</td>\n",
       "      <td>Education</td>\n",
       "      <td>5376</td>\n",
       "      <td>25.0</td>\n",
       "      <td>20.0</td>\n",
       "      <td>1.2</td>\n",
       "      <td>1019.7</td>\n",
       "      <td>0.0</td>\n",
       "      <td>0.0</td>\n",
       "      <td>0.0</td>\n",
       "    </tr>\n",
       "    <tr>\n",
       "      <th>3</th>\n",
       "      <td>3</td>\n",
       "      <td>0</td>\n",
       "      <td>2016-01-01</td>\n",
       "      <td>0.0</td>\n",
       "      <td>0</td>\n",
       "      <td>Education</td>\n",
       "      <td>23685</td>\n",
       "      <td>25.0</td>\n",
       "      <td>20.0</td>\n",
       "      <td>1.2</td>\n",
       "      <td>1019.7</td>\n",
       "      <td>0.0</td>\n",
       "      <td>0.0</td>\n",
       "      <td>0.0</td>\n",
       "    </tr>\n",
       "    <tr>\n",
       "      <th>4</th>\n",
       "      <td>4</td>\n",
       "      <td>0</td>\n",
       "      <td>2016-01-01</td>\n",
       "      <td>0.0</td>\n",
       "      <td>0</td>\n",
       "      <td>Education</td>\n",
       "      <td>116607</td>\n",
       "      <td>25.0</td>\n",
       "      <td>20.0</td>\n",
       "      <td>1.2</td>\n",
       "      <td>1019.7</td>\n",
       "      <td>0.0</td>\n",
       "      <td>0.0</td>\n",
       "      <td>0.0</td>\n",
       "    </tr>\n",
       "  </tbody>\n",
       "</table>\n",
       "</div>"
      ],
      "text/plain": [
       "   building_id meter  timestamp  meter_reading site_id primary_use  \\\n",
       "0            0     0 2016-01-01            0.0       0   Education   \n",
       "1            1     0 2016-01-01            0.0       0   Education   \n",
       "2            2     0 2016-01-01            0.0       0   Education   \n",
       "3            3     0 2016-01-01            0.0       0   Education   \n",
       "4            4     0 2016-01-01            0.0       0   Education   \n",
       "\n",
       "   square_feet  air_temperature  dew_temperature  precip_depth_1_hr  \\\n",
       "0         7432             25.0             20.0                1.2   \n",
       "1         2720             25.0             20.0                1.2   \n",
       "2         5376             25.0             20.0                1.2   \n",
       "3        23685             25.0             20.0                1.2   \n",
       "4       116607             25.0             20.0                1.2   \n",
       "\n",
       "   sea_level_pressure  wind_direction  wind_speed  hours  \n",
       "0              1019.7             0.0         0.0    0.0  \n",
       "1              1019.7             0.0         0.0    0.0  \n",
       "2              1019.7             0.0         0.0    0.0  \n",
       "3              1019.7             0.0         0.0    0.0  \n",
       "4              1019.7             0.0         0.0    0.0  "
      ]
     },
     "execution_count": 52,
     "metadata": {},
     "output_type": "execute_result"
    }
   ],
   "source": [
    "all_data.head()"
   ]
  },
  {
   "cell_type": "code",
   "execution_count": 53,
   "metadata": {},
   "outputs": [
    {
     "data": {
      "text/plain": [
       "(20216100, 14)"
      ]
     },
     "execution_count": 53,
     "metadata": {},
     "output_type": "execute_result"
    }
   ],
   "source": [
    "all_data.shape"
   ]
  },
  {
   "cell_type": "markdown",
   "metadata": {},
   "source": [
    "Karena data_building hanya merupakan id, maka variabel building_id dihapus"
   ]
  },
  {
   "cell_type": "markdown",
   "metadata": {},
   "source": [
    "# Deteksi Outlier"
   ]
  },
  {
   "cell_type": "code",
   "execution_count": 54,
   "metadata": {},
   "outputs": [
    {
     "data": {
      "image/png": "[encoded data removed]",
      "text/plain": [
       "<Figure size 432x288 with 1 Axes>"
      ]
     },
     "metadata": {},
     "output_type": "display_data"
    }
   ],
   "source": [
    "# BoxPlots\n",
    "p = sns.boxplot(x=\"site_id\", y=\"air_temperature\", data=all_data)\n",
    "# 2, 3, 6, 7, 10, 11, 14 tidak memiliki outlier"
   ]
  },
  {
   "cell_type": "code",
   "execution_count": 55,
   "metadata": {},
   "outputs": [
    {
     "data": {
      "image/png": "[encoded data removed]",
      "text/plain": [
       "<Figure size 432x288 with 1 Axes>"
      ]
     },
     "metadata": {},
     "output_type": "display_data"
    }
   ],
   "source": [
    "# BoxPlots\n",
    "p = sns.boxplot(x=\"site_id\", y=\"dew_temperature\", data=all_data)\n",
    "#site 2, 3, 5, 6, 12, 14 tidak memiliki outlier"
   ]
  },
  {
   "cell_type": "code",
   "execution_count": 56,
   "metadata": {},
   "outputs": [
    {
     "data": {
      "image/png": "[encoded data removed]",
      "text/plain": [
       "<Figure size 432x288 with 1 Axes>"
      ]
     },
     "metadata": {},
     "output_type": "display_data"
    }
   ],
   "source": [
    "# BoxPlots\n",
    "p = sns.boxplot(x=\"site_id\", y=\"sea_level_pressure\", data=all_data)"
   ]
  },
  {
   "cell_type": "markdown",
   "metadata": {},
   "source": [
    "semua data sea level pressure site 5 kosong (missing value) sehingga setelah diimputasi data menjadi tidak beragam\n",
    "dan pada boxplot tidak terplot"
   ]
  },
  {
   "cell_type": "code",
   "execution_count": 57,
   "metadata": {},
   "outputs": [
    {
     "data": {
      "image/png": "[encoded data removed]",
      "text/plain": [
       "<Figure size 432x288 with 1 Axes>"
      ]
     },
     "metadata": {},
     "output_type": "display_data"
    }
   ],
   "source": [
    "# BoxPlots\n",
    "p = sns.boxplot(x=\"site_id\", y=\"wind_direction\", data=all_data)\n",
    "#tidak ada outlier"
   ]
  },
  {
   "cell_type": "code",
   "execution_count": 58,
   "metadata": {},
   "outputs": [
    {
     "data": {
      "image/png": "[encoded data removed]",
      "text/plain": [
       "<Figure size 432x288 with 1 Axes>"
      ]
     },
     "metadata": {},
     "output_type": "display_data"
    }
   ],
   "source": [
    "# BoxPlots\n",
    "p = sns.boxplot(x=\"site_id\", y=\"wind_speed\", data=all_data)\n",
    "#outlier di semua site"
   ]
  },
  {
   "cell_type": "markdown",
   "metadata": {},
   "source": [
    "Dari penyajian box plot didapatkan beberapa informasi, yaitu:\n",
    "1. pada site 5, tidak terdapat data untuk sea level pressure, sehingga ketika sebelumnya telah diimputasi, pada boxplot tidak terbentuk plot untuk site 5.\n",
    "2. Untuk wind direction, tidak ada gedung yang memiliki wind direction yang berbeda secara ekstrim\n",
    "3. Untuk wind speed, terlihat bahwa terdapat cukup banyak outlier pada masing-masing site di atas batas atas nilai ekstrim, sehingga diasumsikan terdapat faktor-faktor eksternal yang menyebabkan terdapat outlier."
   ]
  },
  {
   "cell_type": "markdown",
   "metadata": {
    "id": "vmmA011yVSK6"
   },
   "source": [
    "# Exploratory Data Analysis"
   ]
  },
  {
   "cell_type": "code",
   "execution_count": 59,
   "metadata": {
    "colab": {
     "base_uri": "https://localhost:8080/",
     "height": 285
    },
    "id": "hqoL_PfmUbUR",
    "outputId": "731c3559-6dfb-400a-d883-16d7debb1fb9"
   },
   "outputs": [
    {
     "data": {
      "image/png": "[encoded data removed]",
      "text/plain": [
       "<Figure size 432x288 with 1 Axes>"
      ]
     },
     "metadata": {},
     "output_type": "display_data"
    }
   ],
   "source": [
    "#Gedung paling banyak digunakan untuk apa?\n",
    "p = sns.countplot(y=\"primary_use\", data=all_data)"
   ]
  },
  {
   "cell_type": "markdown",
   "metadata": {},
   "source": [
    "Dari grafik di atas, terlihat bahwa kebanyakan gedung dipergunakan untuk edukasi sedangkan paling sedikit digunakan untuk religious worship"
   ]
  },
  {
   "cell_type": "code",
   "execution_count": 69,
   "metadata": {
    "colab": {
     "base_uri": "https://localhost:8080/",
     "height": 285
    },
    "id": "6HYbLp25VIP5",
    "outputId": "ce2b6ff0-ebe5-4182-b740-e9f459f388de"
   },
   "outputs": [
    {
     "data": {
      "image/png": "[encoded data removed]",
      "text/plain": [
       "<Figure size 432x288 with 1 Axes>"
      ]
     },
     "metadata": {},
     "output_type": "display_data"
    }
   ],
   "source": [
    "# Paling banyak lokasi dimana\n",
    "p = sns.countplot(x=\"site_id\", data=all_data)"
   ]
  },
  {
   "cell_type": "markdown",
   "metadata": {},
   "source": [
    "Dari grafik di atas kemudian bisa diketahui informasi bahwa paling banyak terdapat gedung di site 13, kemudian ingin diketahui lebih lanjut site mana yang rata-rata memakai energi terbesar"
   ]
  },
  {
   "cell_type": "code",
   "execution_count": 97,
   "metadata": {
    "scrolled": true
   },
   "outputs": [
    {
     "data": {
      "image/png": "[encoded data removed]",
      "text/plain": [
       "<Figure size 432x288 with 1 Axes>"
      ]
     },
     "metadata": {},
     "output_type": "display_data"
    }
   ],
   "source": [
    "#mencari site yang menggunakan energi terbesar\n",
    "use = all_data.groupby(\"site_id\").meter_reading.mean()\n",
    "sns.barplot(y=use.index,x=use)\n",
    "del use"
   ]
  },
  {
   "cell_type": "markdown",
   "metadata": {},
   "source": [
    "Dari grafik di atas diketahui bahwa site 13 merupakan site yang menggunakan energi terbesar. Terlihat bahwa site yang memiliki gedung terbanyak merupakan site yang menggunakan energi terbesar.\n",
    "\n",
    "Kemudian ingin diketahui lebih lanjut primary_use mana yang memiliki gedung terbanyak di site 13"
   ]
  },
  {
   "cell_type": "code",
   "execution_count": 74,
   "metadata": {},
   "outputs": [
    {
     "data": {
      "text/plain": [
       "<AxesSubplot:xlabel='count', ylabel='primary_use'>"
      ]
     },
     "execution_count": 74,
     "metadata": {},
     "output_type": "execute_result"
    },
    {
     "data": {
      "image/png": "[encoded data removed]",
      "text/plain": [
       "<Figure size 432x288 with 1 Axes>"
      ]
     },
     "metadata": {},
     "output_type": "display_data"
    }
   ],
   "source": [
    "#mencari primary_use terbanyak di site 13\n",
    "sns.countplot(y=\"primary_use\",palette = 'muted',data=site_tigabelas)"
   ]
  },
  {
   "cell_type": "markdown",
   "metadata": {},
   "source": [
    "Dari grafik di atas, terlihat bahwa pada site 13, paling banyak terdapat gedung perkantoran"
   ]
  },
  {
   "cell_type": "code",
   "execution_count": 61,
   "metadata": {
    "colab": {
     "base_uri": "https://localhost:8080/",
     "height": 613
    },
    "id": "4mCmVMHIXOVW",
    "outputId": "0cb85f68-000d-4886-de69-ccaecaa0e74c"
   },
   "outputs": [
    {
     "data": {
      "text/html": [
       "<div>\n",
       "<style scoped>\n",
       "    .dataframe tbody tr th:only-of-type {\n",
       "        vertical-align: middle;\n",
       "    }\n",
       "\n",
       "    .dataframe tbody tr th {\n",
       "        vertical-align: top;\n",
       "    }\n",
       "\n",
       "    .dataframe thead th {\n",
       "        text-align: right;\n",
       "    }\n",
       "</style>\n",
       "<table border=\"1\" class=\"dataframe\">\n",
       "  <thead>\n",
       "    <tr style=\"text-align: right;\">\n",
       "      <th>site_id</th>\n",
       "      <th>0</th>\n",
       "      <th>1</th>\n",
       "      <th>2</th>\n",
       "      <th>3</th>\n",
       "      <th>4</th>\n",
       "      <th>5</th>\n",
       "      <th>6</th>\n",
       "      <th>7</th>\n",
       "      <th>8</th>\n",
       "      <th>9</th>\n",
       "      <th>10</th>\n",
       "      <th>11</th>\n",
       "      <th>12</th>\n",
       "      <th>13</th>\n",
       "      <th>14</th>\n",
       "      <th>15</th>\n",
       "    </tr>\n",
       "    <tr>\n",
       "      <th>primary_use</th>\n",
       "      <th></th>\n",
       "      <th></th>\n",
       "      <th></th>\n",
       "      <th></th>\n",
       "      <th></th>\n",
       "      <th></th>\n",
       "      <th></th>\n",
       "      <th></th>\n",
       "      <th></th>\n",
       "      <th></th>\n",
       "      <th></th>\n",
       "      <th></th>\n",
       "      <th></th>\n",
       "      <th></th>\n",
       "      <th></th>\n",
       "      <th></th>\n",
       "    </tr>\n",
       "  </thead>\n",
       "  <tbody>\n",
       "    <tr>\n",
       "      <th>Education</th>\n",
       "      <td>345329</td>\n",
       "      <td>263493</td>\n",
       "      <td>1261874</td>\n",
       "      <td>788160</td>\n",
       "      <td>557399</td>\n",
       "      <td>430416</td>\n",
       "      <td>254430</td>\n",
       "      <td>366681</td>\n",
       "      <td>0</td>\n",
       "      <td>1499603</td>\n",
       "      <td>240503</td>\n",
       "      <td>119459</td>\n",
       "      <td>175669</td>\n",
       "      <td>509121</td>\n",
       "      <td>666397</td>\n",
       "      <td>686970</td>\n",
       "    </tr>\n",
       "    <tr>\n",
       "      <th>Entertainment/public assembly</th>\n",
       "      <td>43564</td>\n",
       "      <td>8784</td>\n",
       "      <td>324352</td>\n",
       "      <td>385920</td>\n",
       "      <td>62187</td>\n",
       "      <td>158112</td>\n",
       "      <td>54616</td>\n",
       "      <td>0</td>\n",
       "      <td>196201</td>\n",
       "      <td>385165</td>\n",
       "      <td>43371</td>\n",
       "      <td>0</td>\n",
       "      <td>17284</td>\n",
       "      <td>140210</td>\n",
       "      <td>218660</td>\n",
       "      <td>226491</td>\n",
       "    </tr>\n",
       "    <tr>\n",
       "      <th>Food sales and service</th>\n",
       "      <td>0</td>\n",
       "      <td>0</td>\n",
       "      <td>43909</td>\n",
       "      <td>0</td>\n",
       "      <td>0</td>\n",
       "      <td>0</td>\n",
       "      <td>0</td>\n",
       "      <td>0</td>\n",
       "      <td>0</td>\n",
       "      <td>0</td>\n",
       "      <td>0</td>\n",
       "      <td>0</td>\n",
       "      <td>0</td>\n",
       "      <td>17568</td>\n",
       "      <td>52613</td>\n",
       "      <td>0</td>\n",
       "    </tr>\n",
       "    <tr>\n",
       "      <th>Healthcare</th>\n",
       "      <td>0</td>\n",
       "      <td>0</td>\n",
       "      <td>17545</td>\n",
       "      <td>52621</td>\n",
       "      <td>0</td>\n",
       "      <td>8784</td>\n",
       "      <td>0</td>\n",
       "      <td>0</td>\n",
       "      <td>0</td>\n",
       "      <td>0</td>\n",
       "      <td>0</td>\n",
       "      <td>0</td>\n",
       "      <td>0</td>\n",
       "      <td>78878</td>\n",
       "      <td>233367</td>\n",
       "      <td>7332</td>\n",
       "    </tr>\n",
       "    <tr>\n",
       "      <th>Lodging/residential</th>\n",
       "      <td>263621</td>\n",
       "      <td>87840</td>\n",
       "      <td>289046</td>\n",
       "      <td>96361</td>\n",
       "      <td>29673</td>\n",
       "      <td>8784</td>\n",
       "      <td>184113</td>\n",
       "      <td>0</td>\n",
       "      <td>0</td>\n",
       "      <td>391129</td>\n",
       "      <td>26305</td>\n",
       "      <td>0</td>\n",
       "      <td>0</td>\n",
       "      <td>175383</td>\n",
       "      <td>216220</td>\n",
       "      <td>377938</td>\n",
       "    </tr>\n",
       "    <tr>\n",
       "      <th>Manufacturing/industrial</th>\n",
       "      <td>0</td>\n",
       "      <td>0</td>\n",
       "      <td>0</td>\n",
       "      <td>0</td>\n",
       "      <td>0</td>\n",
       "      <td>26352</td>\n",
       "      <td>0</td>\n",
       "      <td>0</td>\n",
       "      <td>0</td>\n",
       "      <td>0</td>\n",
       "      <td>0</td>\n",
       "      <td>0</td>\n",
       "      <td>0</td>\n",
       "      <td>70272</td>\n",
       "      <td>0</td>\n",
       "      <td>29089</td>\n",
       "    </tr>\n",
       "    <tr>\n",
       "      <th>Office</th>\n",
       "      <td>246264</td>\n",
       "      <td>158109</td>\n",
       "      <td>409250</td>\n",
       "      <td>200179</td>\n",
       "      <td>0</td>\n",
       "      <td>96624</td>\n",
       "      <td>158712</td>\n",
       "      <td>0</td>\n",
       "      <td>55674</td>\n",
       "      <td>306988</td>\n",
       "      <td>37351</td>\n",
       "      <td>0</td>\n",
       "      <td>79042</td>\n",
       "      <td>1377800</td>\n",
       "      <td>930253</td>\n",
       "      <td>338618</td>\n",
       "    </tr>\n",
       "    <tr>\n",
       "      <th>Other</th>\n",
       "      <td>47654</td>\n",
       "      <td>0</td>\n",
       "      <td>0</td>\n",
       "      <td>35074</td>\n",
       "      <td>0</td>\n",
       "      <td>8784</td>\n",
       "      <td>0</td>\n",
       "      <td>0</td>\n",
       "      <td>71941</td>\n",
       "      <td>0</td>\n",
       "      <td>43633</td>\n",
       "      <td>0</td>\n",
       "      <td>0</td>\n",
       "      <td>35136</td>\n",
       "      <td>0</td>\n",
       "      <td>0</td>\n",
       "    </tr>\n",
       "    <tr>\n",
       "      <th>Parking</th>\n",
       "      <td>70272</td>\n",
       "      <td>0</td>\n",
       "      <td>26345</td>\n",
       "      <td>8782</td>\n",
       "      <td>20589</td>\n",
       "      <td>0</td>\n",
       "      <td>0</td>\n",
       "      <td>0</td>\n",
       "      <td>0</td>\n",
       "      <td>0</td>\n",
       "      <td>0</td>\n",
       "      <td>0</td>\n",
       "      <td>0</td>\n",
       "      <td>87808</td>\n",
       "      <td>0</td>\n",
       "      <td>0</td>\n",
       "    </tr>\n",
       "    <tr>\n",
       "      <th>Public services</th>\n",
       "      <td>0</td>\n",
       "      <td>35131</td>\n",
       "      <td>96597</td>\n",
       "      <td>742318</td>\n",
       "      <td>50604</td>\n",
       "      <td>43920</td>\n",
       "      <td>16262</td>\n",
       "      <td>0</td>\n",
       "      <td>227973</td>\n",
       "      <td>52615</td>\n",
       "      <td>0</td>\n",
       "      <td>0</td>\n",
       "      <td>8784</td>\n",
       "      <td>122971</td>\n",
       "      <td>183996</td>\n",
       "      <td>81655</td>\n",
       "    </tr>\n",
       "    <tr>\n",
       "      <th>Religious worship</th>\n",
       "      <td>0</td>\n",
       "      <td>0</td>\n",
       "      <td>8781</td>\n",
       "      <td>8782</td>\n",
       "      <td>0</td>\n",
       "      <td>0</td>\n",
       "      <td>0</td>\n",
       "      <td>0</td>\n",
       "      <td>0</td>\n",
       "      <td>0</td>\n",
       "      <td>0</td>\n",
       "      <td>0</td>\n",
       "      <td>0</td>\n",
       "      <td>0</td>\n",
       "      <td>0</td>\n",
       "      <td>14798</td>\n",
       "    </tr>\n",
       "    <tr>\n",
       "      <th>Retail</th>\n",
       "      <td>59958</td>\n",
       "      <td>0</td>\n",
       "      <td>17566</td>\n",
       "      <td>8782</td>\n",
       "      <td>0</td>\n",
       "      <td>0</td>\n",
       "      <td>0</td>\n",
       "      <td>0</td>\n",
       "      <td>0</td>\n",
       "      <td>0</td>\n",
       "      <td>0</td>\n",
       "      <td>0</td>\n",
       "      <td>26351</td>\n",
       "      <td>0</td>\n",
       "      <td>0</td>\n",
       "      <td>0</td>\n",
       "    </tr>\n",
       "    <tr>\n",
       "      <th>Services</th>\n",
       "      <td>0</td>\n",
       "      <td>0</td>\n",
       "      <td>0</td>\n",
       "      <td>0</td>\n",
       "      <td>0</td>\n",
       "      <td>0</td>\n",
       "      <td>0</td>\n",
       "      <td>0</td>\n",
       "      <td>0</td>\n",
       "      <td>43823</td>\n",
       "      <td>0</td>\n",
       "      <td>0</td>\n",
       "      <td>0</td>\n",
       "      <td>52696</td>\n",
       "      <td>0</td>\n",
       "      <td>0</td>\n",
       "    </tr>\n",
       "    <tr>\n",
       "      <th>Technology/science</th>\n",
       "      <td>0</td>\n",
       "      <td>0</td>\n",
       "      <td>0</td>\n",
       "      <td>0</td>\n",
       "      <td>17544</td>\n",
       "      <td>0</td>\n",
       "      <td>0</td>\n",
       "      <td>0</td>\n",
       "      <td>0</td>\n",
       "      <td>0</td>\n",
       "      <td>20244</td>\n",
       "      <td>0</td>\n",
       "      <td>8779</td>\n",
       "      <td>8784</td>\n",
       "      <td>0</td>\n",
       "      <td>22276</td>\n",
       "    </tr>\n",
       "    <tr>\n",
       "      <th>Utility</th>\n",
       "      <td>0</td>\n",
       "      <td>0</td>\n",
       "      <td>17566</td>\n",
       "      <td>0</td>\n",
       "      <td>8750</td>\n",
       "      <td>0</td>\n",
       "      <td>0</td>\n",
       "      <td>0</td>\n",
       "      <td>0</td>\n",
       "      <td>0</td>\n",
       "      <td>0</td>\n",
       "      <td>0</td>\n",
       "      <td>0</td>\n",
       "      <td>0</td>\n",
       "      <td>0</td>\n",
       "      <td>29887</td>\n",
       "    </tr>\n",
       "    <tr>\n",
       "      <th>Warehouse/storage</th>\n",
       "      <td>0</td>\n",
       "      <td>0</td>\n",
       "      <td>17481</td>\n",
       "      <td>43118</td>\n",
       "      <td>0</td>\n",
       "      <td>0</td>\n",
       "      <td>0</td>\n",
       "      <td>0</td>\n",
       "      <td>16126</td>\n",
       "      <td>0</td>\n",
       "      <td>0</td>\n",
       "      <td>0</td>\n",
       "      <td>0</td>\n",
       "      <td>35136</td>\n",
       "      <td>0</td>\n",
       "      <td>0</td>\n",
       "    </tr>\n",
       "  </tbody>\n",
       "</table>\n",
       "</div>"
      ],
      "text/plain": [
       "site_id                             0       1        2       3       4  \\\n",
       "primary_use                                                              \n",
       "Education                      345329  263493  1261874  788160  557399   \n",
       "Entertainment/public assembly   43564    8784   324352  385920   62187   \n",
       "Food sales and service              0       0    43909       0       0   \n",
       "Healthcare                          0       0    17545   52621       0   \n",
       "Lodging/residential            263621   87840   289046   96361   29673   \n",
       "Manufacturing/industrial            0       0        0       0       0   \n",
       "Office                         246264  158109   409250  200179       0   \n",
       "Other                           47654       0        0   35074       0   \n",
       "Parking                         70272       0    26345    8782   20589   \n",
       "Public services                     0   35131    96597  742318   50604   \n",
       "Religious worship                   0       0     8781    8782       0   \n",
       "Retail                          59958       0    17566    8782       0   \n",
       "Services                            0       0        0       0       0   \n",
       "Technology/science                  0       0        0       0   17544   \n",
       "Utility                             0       0    17566       0    8750   \n",
       "Warehouse/storage                   0       0    17481   43118       0   \n",
       "\n",
       "site_id                             5       6       7       8        9  \\\n",
       "primary_use                                                              \n",
       "Education                      430416  254430  366681       0  1499603   \n",
       "Entertainment/public assembly  158112   54616       0  196201   385165   \n",
       "Food sales and service              0       0       0       0        0   \n",
       "Healthcare                       8784       0       0       0        0   \n",
       "Lodging/residential              8784  184113       0       0   391129   \n",
       "Manufacturing/industrial        26352       0       0       0        0   \n",
       "Office                          96624  158712       0   55674   306988   \n",
       "Other                            8784       0       0   71941        0   \n",
       "Parking                             0       0       0       0        0   \n",
       "Public services                 43920   16262       0  227973    52615   \n",
       "Religious worship                   0       0       0       0        0   \n",
       "Retail                              0       0       0       0        0   \n",
       "Services                            0       0       0       0    43823   \n",
       "Technology/science                  0       0       0       0        0   \n",
       "Utility                             0       0       0       0        0   \n",
       "Warehouse/storage                   0       0       0   16126        0   \n",
       "\n",
       "site_id                            10      11      12       13      14      15  \n",
       "primary_use                                                                     \n",
       "Education                      240503  119459  175669   509121  666397  686970  \n",
       "Entertainment/public assembly   43371       0   17284   140210  218660  226491  \n",
       "Food sales and service              0       0       0    17568   52613       0  \n",
       "Healthcare                          0       0       0    78878  233367    7332  \n",
       "Lodging/residential             26305       0       0   175383  216220  377938  \n",
       "Manufacturing/industrial            0       0       0    70272       0   29089  \n",
       "Office                          37351       0   79042  1377800  930253  338618  \n",
       "Other                           43633       0       0    35136       0       0  \n",
       "Parking                             0       0       0    87808       0       0  \n",
       "Public services                     0       0    8784   122971  183996   81655  \n",
       "Religious worship                   0       0       0        0       0   14798  \n",
       "Retail                              0       0   26351        0       0       0  \n",
       "Services                            0       0       0    52696       0       0  \n",
       "Technology/science              20244       0    8779     8784       0   22276  \n",
       "Utility                             0       0       0        0       0   29887  \n",
       "Warehouse/storage                   0       0       0    35136       0       0  "
      ]
     },
     "execution_count": 61,
     "metadata": {},
     "output_type": "execute_result"
    }
   ],
   "source": [
    "all_data.groupby([\"primary_use\", \"site_id\"]).size().unstack()"
   ]
  },
  {
   "cell_type": "code",
   "execution_count": 73,
   "metadata": {
    "scrolled": true
   },
   "outputs": [
    {
     "data": {
      "text/html": [
       "<div>\n",
       "<style scoped>\n",
       "    .dataframe tbody tr th:only-of-type {\n",
       "        vertical-align: middle;\n",
       "    }\n",
       "\n",
       "    .dataframe tbody tr th {\n",
       "        vertical-align: top;\n",
       "    }\n",
       "\n",
       "    .dataframe thead th {\n",
       "        text-align: right;\n",
       "    }\n",
       "</style>\n",
       "<table border=\"1\" class=\"dataframe\">\n",
       "  <thead>\n",
       "    <tr style=\"text-align: right;\">\n",
       "      <th></th>\n",
       "      <th>building_id</th>\n",
       "      <th>meter</th>\n",
       "      <th>timestamp</th>\n",
       "      <th>meter_reading</th>\n",
       "      <th>site_id</th>\n",
       "      <th>primary_use</th>\n",
       "      <th>square_feet</th>\n",
       "      <th>air_temperature</th>\n",
       "      <th>dew_temperature</th>\n",
       "      <th>precip_depth_1_hr</th>\n",
       "      <th>sea_level_pressure</th>\n",
       "      <th>wind_direction</th>\n",
       "      <th>wind_speed</th>\n",
       "      <th>hours</th>\n",
       "      <th>weekday</th>\n",
       "    </tr>\n",
       "  </thead>\n",
       "  <tbody>\n",
       "    <tr>\n",
       "      <th>1470</th>\n",
       "      <td>1069</td>\n",
       "      <td>0</td>\n",
       "      <td>2016-01-01</td>\n",
       "      <td>3.5000</td>\n",
       "      <td>13</td>\n",
       "      <td>Office</td>\n",
       "      <td>20864</td>\n",
       "      <td>-8.3</td>\n",
       "      <td>-12.2</td>\n",
       "      <td>1.2</td>\n",
       "      <td>1023.3</td>\n",
       "      <td>250.0</td>\n",
       "      <td>4.1</td>\n",
       "      <td>0.0</td>\n",
       "      <td>4</td>\n",
       "    </tr>\n",
       "    <tr>\n",
       "      <th>1471</th>\n",
       "      <td>1070</td>\n",
       "      <td>0</td>\n",
       "      <td>2016-01-01</td>\n",
       "      <td>75.0000</td>\n",
       "      <td>13</td>\n",
       "      <td>Lodging/residential</td>\n",
       "      <td>230747</td>\n",
       "      <td>-8.3</td>\n",
       "      <td>-12.2</td>\n",
       "      <td>1.2</td>\n",
       "      <td>1023.3</td>\n",
       "      <td>250.0</td>\n",
       "      <td>4.1</td>\n",
       "      <td>0.0</td>\n",
       "      <td>4</td>\n",
       "    </tr>\n",
       "    <tr>\n",
       "      <th>1472</th>\n",
       "      <td>1070</td>\n",
       "      <td>1</td>\n",
       "      <td>2016-01-01</td>\n",
       "      <td>48.9804</td>\n",
       "      <td>13</td>\n",
       "      <td>Lodging/residential</td>\n",
       "      <td>230747</td>\n",
       "      <td>-8.3</td>\n",
       "      <td>-12.2</td>\n",
       "      <td>1.2</td>\n",
       "      <td>1023.3</td>\n",
       "      <td>250.0</td>\n",
       "      <td>4.1</td>\n",
       "      <td>0.0</td>\n",
       "      <td>4</td>\n",
       "    </tr>\n",
       "    <tr>\n",
       "      <th>1473</th>\n",
       "      <td>1071</td>\n",
       "      <td>0</td>\n",
       "      <td>2016-01-01</td>\n",
       "      <td>7.9280</td>\n",
       "      <td>13</td>\n",
       "      <td>Office</td>\n",
       "      <td>10385</td>\n",
       "      <td>-8.3</td>\n",
       "      <td>-12.2</td>\n",
       "      <td>1.2</td>\n",
       "      <td>1023.3</td>\n",
       "      <td>250.0</td>\n",
       "      <td>4.1</td>\n",
       "      <td>0.0</td>\n",
       "      <td>4</td>\n",
       "    </tr>\n",
       "    <tr>\n",
       "      <th>1474</th>\n",
       "      <td>1072</td>\n",
       "      <td>1</td>\n",
       "      <td>2016-01-01</td>\n",
       "      <td>0.0000</td>\n",
       "      <td>13</td>\n",
       "      <td>Healthcare</td>\n",
       "      <td>305000</td>\n",
       "      <td>-8.3</td>\n",
       "      <td>-12.2</td>\n",
       "      <td>1.2</td>\n",
       "      <td>1023.3</td>\n",
       "      <td>250.0</td>\n",
       "      <td>4.1</td>\n",
       "      <td>0.0</td>\n",
       "      <td>4</td>\n",
       "    </tr>\n",
       "  </tbody>\n",
       "</table>\n",
       "</div>"
      ],
      "text/plain": [
       "      building_id meter  timestamp  meter_reading site_id  \\\n",
       "1470         1069     0 2016-01-01         3.5000      13   \n",
       "1471         1070     0 2016-01-01        75.0000      13   \n",
       "1472         1070     1 2016-01-01        48.9804      13   \n",
       "1473         1071     0 2016-01-01         7.9280      13   \n",
       "1474         1072     1 2016-01-01         0.0000      13   \n",
       "\n",
       "              primary_use  square_feet  air_temperature  dew_temperature  \\\n",
       "1470               Office        20864             -8.3            -12.2   \n",
       "1471  Lodging/residential       230747             -8.3            -12.2   \n",
       "1472  Lodging/residential       230747             -8.3            -12.2   \n",
       "1473               Office        10385             -8.3            -12.2   \n",
       "1474           Healthcare       305000             -8.3            -12.2   \n",
       "\n",
       "      precip_depth_1_hr  sea_level_pressure  wind_direction  wind_speed  \\\n",
       "1470                1.2              1023.3           250.0         4.1   \n",
       "1471                1.2              1023.3           250.0         4.1   \n",
       "1472                1.2              1023.3           250.0         4.1   \n",
       "1473                1.2              1023.3           250.0         4.1   \n",
       "1474                1.2              1023.3           250.0         4.1   \n",
       "\n",
       "      hours  weekday  \n",
       "1470    0.0        4  \n",
       "1471    0.0        4  \n",
       "1472    0.0        4  \n",
       "1473    0.0        4  \n",
       "1474    0.0        4  "
      ]
     },
     "execution_count": 73,
     "metadata": {},
     "output_type": "execute_result"
    }
   ],
   "source": [
    "site_tigabelas=all_data[all_data[\"site_id\"]==13]\n",
    "site_tigabelas.head()"
   ]
  },
  {
   "cell_type": "code",
   "execution_count": 62,
   "metadata": {
    "colab": {
     "base_uri": "https://localhost:8080/",
     "height": 665
    },
    "id": "uAwnvBpLYF6l",
    "outputId": "1ee6ec75-21b7-49ce-af45-a11f91101fae",
    "scrolled": false
   },
   "outputs": [
    {
     "data": {
      "image/png": "[encoded data removed]",
      "text/plain": [
       "<Figure size 576x576 with 1 Axes>"
      ]
     },
     "metadata": {},
     "output_type": "display_data"
    }
   ],
   "source": [
    "CT = pd.crosstab(index=all_data[\"primary_use\"], columns=all_data[\"site_id\"])\n",
    "p = CT.plot(kind=\"bar\", figsize=(8,8), stacked=True)"
   ]
  },
  {
   "cell_type": "markdown",
   "metadata": {},
   "source": [
    "Dari stacked bar di atas, terlihat beberapa informasi yang jelas, seperti\n",
    "1. Gedung edukasi paling banyak terdapat di site 9\n",
    "2. Gedung lodging/residential paling banyak terdapat di site 9\n",
    "3. Gedung perkantoran paling banyak terdapat di site 13 (sama seperti informasi yang telah didapat sebelumnya)\n",
    "4. Gedung Public Service paling banyak terdapat di site 3"
   ]
  },
  {
   "cell_type": "code",
   "execution_count": 63,
   "metadata": {},
   "outputs": [
    {
     "data": {
      "text/plain": [
       "<AxesSubplot:>"
      ]
     },
     "execution_count": 63,
     "metadata": {},
     "output_type": "execute_result"
    },
    {
     "data": {
      "image/png": "[encoded data removed]",
      "text/plain": [
       "<Figure size 432x288 with 2 Axes>"
      ]
     },
     "metadata": {},
     "output_type": "display_data"
    }
   ],
   "source": [
    "#membuat heatmap untuk melihat korelasi\n",
    "sns.heatmap(all_data.corr(),linewidths=.5,cmap=\"YlGnBu\")"
   ]
  },
  {
   "cell_type": "markdown",
   "metadata": {},
   "source": [
    "terlihat korelasi yang kuat antara air_temperature dan dew_temperature"
   ]
  },
  {
   "cell_type": "code",
   "execution_count": 65,
   "metadata": {},
   "outputs": [
    {
     "data": {
      "image/png": "[encoded data removed]",
      "text/plain": [
       "<Figure size 432x288 with 1 Axes>"
      ]
     },
     "metadata": {},
     "output_type": "display_data"
    }
   ],
   "source": [
    "#mencari primary use yang menggunakan energi terbesar\n",
    "use = all_data.groupby(\"primary_use\").meter_reading.mean()\n",
    "sns.barplot(y=use.index,x=use)\n",
    "del use"
   ]
  },
  {
   "cell_type": "markdown",
   "metadata": {},
   "source": [
    "Dari grafik di atas terlihat bahwa gedung yang rata-rata memakai energi paling banyak adalah gedung edukasi sedangkan gedung yang rata-rata paling sedikit memakai energi adalah gedung religious worship\n",
    "\n",
    "Kemudian ingin pula diketahui pada hari apa penggunaan energi paling banyak dilakukan"
   ]
  },
  {
   "cell_type": "code",
   "execution_count": 66,
   "metadata": {},
   "outputs": [],
   "source": [
    "all_data[\"weekday\"] = all_data[\"timestamp\"].dt.weekday"
   ]
  },
  {
   "cell_type": "code",
   "execution_count": 67,
   "metadata": {},
   "outputs": [
    {
     "data": {
      "text/html": [
       "<div>\n",
       "<style scoped>\n",
       "    .dataframe tbody tr th:only-of-type {\n",
       "        vertical-align: middle;\n",
       "    }\n",
       "\n",
       "    .dataframe tbody tr th {\n",
       "        vertical-align: top;\n",
       "    }\n",
       "\n",
       "    .dataframe thead th {\n",
       "        text-align: right;\n",
       "    }\n",
       "</style>\n",
       "<table border=\"1\" class=\"dataframe\">\n",
       "  <thead>\n",
       "    <tr style=\"text-align: right;\">\n",
       "      <th></th>\n",
       "      <th>building_id</th>\n",
       "      <th>meter_reading</th>\n",
       "      <th>square_feet</th>\n",
       "      <th>air_temperature</th>\n",
       "      <th>dew_temperature</th>\n",
       "      <th>precip_depth_1_hr</th>\n",
       "      <th>sea_level_pressure</th>\n",
       "      <th>wind_direction</th>\n",
       "      <th>wind_speed</th>\n",
       "      <th>hours</th>\n",
       "    </tr>\n",
       "    <tr>\n",
       "      <th>weekday</th>\n",
       "      <th></th>\n",
       "      <th></th>\n",
       "      <th></th>\n",
       "      <th></th>\n",
       "      <th></th>\n",
       "      <th></th>\n",
       "      <th></th>\n",
       "      <th></th>\n",
       "      <th></th>\n",
       "      <th></th>\n",
       "    </tr>\n",
       "  </thead>\n",
       "  <tbody>\n",
       "    <tr>\n",
       "      <th>0</th>\n",
       "      <td>799.116087</td>\n",
       "      <td>1967.816997</td>\n",
       "      <td>107798.345901</td>\n",
       "      <td>15.896304</td>\n",
       "      <td>7.489983</td>\n",
       "      <td>0.716252</td>\n",
       "      <td>1016.051946</td>\n",
       "      <td>171.706642</td>\n",
       "      <td>3.429302</td>\n",
       "      <td>11.521188</td>\n",
       "    </tr>\n",
       "    <tr>\n",
       "      <th>1</th>\n",
       "      <td>798.944530</td>\n",
       "      <td>2267.786315</td>\n",
       "      <td>107706.870647</td>\n",
       "      <td>16.114024</td>\n",
       "      <td>7.831028</td>\n",
       "      <td>0.877108</td>\n",
       "      <td>1016.106574</td>\n",
       "      <td>171.168793</td>\n",
       "      <td>3.421611</td>\n",
       "      <td>11.504265</td>\n",
       "    </tr>\n",
       "    <tr>\n",
       "      <th>2</th>\n",
       "      <td>799.807383</td>\n",
       "      <td>2485.819959</td>\n",
       "      <td>107764.171327</td>\n",
       "      <td>16.095390</td>\n",
       "      <td>7.892220</td>\n",
       "      <td>0.928945</td>\n",
       "      <td>1016.271891</td>\n",
       "      <td>168.245485</td>\n",
       "      <td>3.270071</td>\n",
       "      <td>11.521542</td>\n",
       "    </tr>\n",
       "    <tr>\n",
       "      <th>3</th>\n",
       "      <td>799.560309</td>\n",
       "      <td>2263.206170</td>\n",
       "      <td>107784.725875</td>\n",
       "      <td>16.250627</td>\n",
       "      <td>8.131090</td>\n",
       "      <td>0.901451</td>\n",
       "      <td>1015.896937</td>\n",
       "      <td>165.357370</td>\n",
       "      <td>3.300354</td>\n",
       "      <td>11.494975</td>\n",
       "    </tr>\n",
       "    <tr>\n",
       "      <th>4</th>\n",
       "      <td>799.270912</td>\n",
       "      <td>2151.439219</td>\n",
       "      <td>107779.363035</td>\n",
       "      <td>15.947902</td>\n",
       "      <td>7.717368</td>\n",
       "      <td>0.794470</td>\n",
       "      <td>1015.985003</td>\n",
       "      <td>172.329164</td>\n",
       "      <td>3.393591</td>\n",
       "      <td>11.514283</td>\n",
       "    </tr>\n",
       "    <tr>\n",
       "      <th>5</th>\n",
       "      <td>799.259311</td>\n",
       "      <td>1865.434390</td>\n",
       "      <td>107784.222002</td>\n",
       "      <td>15.713256</td>\n",
       "      <td>7.641393</td>\n",
       "      <td>0.720388</td>\n",
       "      <td>1016.163879</td>\n",
       "      <td>171.289154</td>\n",
       "      <td>3.376629</td>\n",
       "      <td>11.503367</td>\n",
       "    </tr>\n",
       "    <tr>\n",
       "      <th>6</th>\n",
       "      <td>798.986379</td>\n",
       "      <td>1820.957143</td>\n",
       "      <td>107863.446733</td>\n",
       "      <td>15.901280</td>\n",
       "      <td>7.531532</td>\n",
       "      <td>0.857848</td>\n",
       "      <td>1016.151934</td>\n",
       "      <td>175.087716</td>\n",
       "      <td>3.446076</td>\n",
       "      <td>11.521171</td>\n",
       "    </tr>\n",
       "  </tbody>\n",
       "</table>\n",
       "</div>"
      ],
      "text/plain": [
       "         building_id  meter_reading    square_feet  air_temperature  \\\n",
       "weekday                                                               \n",
       "0         799.116087    1967.816997  107798.345901        15.896304   \n",
       "1         798.944530    2267.786315  107706.870647        16.114024   \n",
       "2         799.807383    2485.819959  107764.171327        16.095390   \n",
       "3         799.560309    2263.206170  107784.725875        16.250627   \n",
       "4         799.270912    2151.439219  107779.363035        15.947902   \n",
       "5         799.259311    1865.434390  107784.222002        15.713256   \n",
       "6         798.986379    1820.957143  107863.446733        15.901280   \n",
       "\n",
       "         dew_temperature  precip_depth_1_hr  sea_level_pressure  \\\n",
       "weekday                                                           \n",
       "0               7.489983           0.716252         1016.051946   \n",
       "1               7.831028           0.877108         1016.106574   \n",
       "2               7.892220           0.928945         1016.271891   \n",
       "3               8.131090           0.901451         1015.896937   \n",
       "4               7.717368           0.794470         1015.985003   \n",
       "5               7.641393           0.720388         1016.163879   \n",
       "6               7.531532           0.857848         1016.151934   \n",
       "\n",
       "         wind_direction  wind_speed      hours  \n",
       "weekday                                         \n",
       "0            171.706642    3.429302  11.521188  \n",
       "1            171.168793    3.421611  11.504265  \n",
       "2            168.245485    3.270071  11.521542  \n",
       "3            165.357370    3.300354  11.494975  \n",
       "4            172.329164    3.393591  11.514283  \n",
       "5            171.289154    3.376629  11.503367  \n",
       "6            175.087716    3.446076  11.521171  "
      ]
     },
     "execution_count": 67,
     "metadata": {},
     "output_type": "execute_result"
    }
   ],
   "source": [
    "all_data.groupby([\"weekday\"]).mean()"
   ]
  },
  {
   "cell_type": "code",
   "execution_count": 68,
   "metadata": {},
   "outputs": [
    {
     "data": {
      "image/png": "[encoded data removed]",
      "text/plain": [
       "<Figure size 432x288 with 1 Axes>"
      ]
     },
     "metadata": {},
     "output_type": "display_data"
    }
   ],
   "source": [
    "#mencari hari dengan penggunaan energi terbesar\n",
    "use = all_data.groupby(\"weekday\").meter_reading.mean()\n",
    "sns.barplot(x=use.index,y=use)\n",
    "del use"
   ]
  },
  {
   "cell_type": "markdown",
   "metadata": {},
   "source": [
    "Dari grafik di atas, diketahui bahwa penggunaan energi paling banyak pada hari Rabu. \n",
    "\n",
    "Kemudian ingin pula dicari gedung dengan interval luas mana yang menggunakan energi terbesar"
   ]
  },
  {
   "cell_type": "code",
   "execution_count": null,
   "metadata": {},
   "outputs": [],
   "source": [
    "max(all_data[\"square_feet\"])"
   ]
  },
  {
   "cell_type": "code",
   "execution_count": null,
   "metadata": {},
   "outputs": [],
   "source": [
    "min(all_data[\"square_feet\"])"
   ]
  },
  {
   "cell_type": "code",
   "execution_count": 82,
   "metadata": {
    "scrolled": true
   },
   "outputs": [
    {
     "data": {
      "text/plain": [
       "square_feet      category\n",
       "meter_reading     float64\n",
       "primary_use      category\n",
       "dtype: object"
      ]
     },
     "execution_count": 82,
     "metadata": {},
     "output_type": "execute_result"
    }
   ],
   "source": [
    "squarefeet_range = pd.cut(all_data.square_feet, bins=np.arange(0, 1000000, 100000))\n",
    "square_meter_gabung = pd.concat([squarefeet_range,all_data.meter_reading],axis =1)\n",
    "square_meter_gabung = pd.concat([square_meter_gabung,all_data.primary_use],axis =1)\n",
    "ratarata = square_meter_gabung.groupby(\"square_feet\").meter_reading.mean()\n",
    "square_meter_gabung.dtypes"
   ]
  },
  {
   "cell_type": "code",
   "execution_count": 83,
   "metadata": {},
   "outputs": [
    {
     "data": {
      "text/plain": [
       "<AxesSubplot:xlabel='meter_reading', ylabel='square_feet'>"
      ]
     },
     "execution_count": 83,
     "metadata": {},
     "output_type": "execute_result"
    },
    {
     "data": {
      "image/png": "[encoded data removed]",
      "text/plain": [
       "<Figure size 432x288 with 1 Axes>"
      ]
     },
     "metadata": {},
     "output_type": "display_data"
    }
   ],
   "source": [
    "#mencari interval luas gedung dengan penggunaan energi terbesar\n",
    "sns.barplot(y=ratarata.index,x=ratarata)"
   ]
  },
  {
   "cell_type": "markdown",
   "metadata": {},
   "source": [
    "Dari grafik di atas diketahui bahwa rata-rata gedung yang paling banyak memakai energi adalah gedung yang mempunyai luas di antara 300000 sampai 400000 square feet. Didapatkan informasi bahwa semakin luas gedung belum berarti penggunaan energi semakin besar\n",
    "\n",
    "Kemudian ingin diketahui lebih lanjut primary use apa yang gedungnya paling banyak seluas 300000 sampai 400000 square feet"
   ]
  },
  {
   "cell_type": "code",
   "execution_count": 94,
   "metadata": {},
   "outputs": [
    {
     "data": {
      "text/plain": [
       "(582664, 15)"
      ]
     },
     "execution_count": 94,
     "metadata": {},
     "output_type": "execute_result"
    }
   ],
   "source": [
    "luas_kaki=all_data[(all_data[\"square_feet\"]>=300000) &(all_data[\"square_feet\"]<=400000)]\n",
    "luas_kaki.shape"
   ]
  },
  {
   "cell_type": "code",
   "execution_count": 95,
   "metadata": {},
   "outputs": [
    {
     "data": {
      "text/plain": [
       "<AxesSubplot:xlabel='count', ylabel='primary_use'>"
      ]
     },
     "execution_count": 95,
     "metadata": {},
     "output_type": "execute_result"
    },
    {
     "data": {
      "image/png": "[encoded data removed]",
      "text/plain": [
       "<Figure size 432x288 with 1 Axes>"
      ]
     },
     "metadata": {},
     "output_type": "display_data"
    }
   ],
   "source": [
    "sns.countplot(y=\"primary_use\",palette = 'muted',data=luas_kaki)"
   ]
  },
  {
   "cell_type": "markdown",
   "metadata": {},
   "source": [
    "Dari grafik di atas terlihat bahwa gedung yang kebanyakan seluas 300000 sampai 400000 square feet adalah gedung edukasi"
   ]
  },
  {
   "cell_type": "markdown",
   "metadata": {},
   "source": [
    "Sebelumnya telah didapat informasi bahwa site 13 merupakan site yang menggunakan energi terbesar dengan jumlah gedung terbanyak, dan gedungnya kebanyakan merupakan perkantoran. Meski site 13 menggunakan energi terbesar, perkantoran (yang merupakan gedung terbanyak di site tersebut) bukanlah gedung yang menggunakan energi terbesar.\n",
    "\n",
    "Sebelumnya telah diketahui bahwa gedung paling banyak dipergunakan sebagai gedung edukasi, kemudian diketahui pula banyak gedung edukasi yang memiliki luas di interval 300000 sampai 400000 square feet, yang diketahui merupakan kelompok gedung yang paling banyak menggunakan energi, sehingga bisa dikatakan bahwa banyak gedung edukasi yang menggunakan energi besar"
   ]
  }
 ],
 "metadata": {
  "colab": {
   "collapsed_sections": [
    "kJ4al1p2Lphc"
   ],
   "name": "Tugas 1 Datmin.ipynb",
   "provenance": []
  },
  "kernelspec": {
   "display_name": "Python 3",
   "language": "python",
   "name": "python3"
  },
  "language_info": {
   "codemirror_mode": {
    "name": "ipython",
    "version": 3
   },
   "file_extension": ".py",
   "mimetype": "text/x-python",
   "name": "python",
   "nbconvert_exporter": "python",
   "pygments_lexer": "ipython3",
   "version": "3.8.8"
  }
 },
 "nbformat": 4,
 "nbformat_minor": 1
}
