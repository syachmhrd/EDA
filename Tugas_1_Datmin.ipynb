{
  "nbformat": 4,
  "nbformat_minor": 0,
  "metadata": {
    "colab": {
      "name": "Tugas 1 Datmin.ipynb",
      "provenance": [],
      "collapsed_sections": [
        "1vyrLYG7Kxip",
        "kJ4al1p2Lphc",
        "L50lsyd0L1zJ",
        "vmmA011yVSK6",
        "3aIQ9l0gi-ko",
        "V5y6OXYVjQw6"
      ],
      "toc_visible": true,
      "include_colab_link": true
    },
    "kernelspec": {
      "display_name": "Python 3",
      "name": "python3"
    },
    "language_info": {
      "name": "python"
    }
  },
  "cells": [
    {
      "cell_type": "markdown",
      "metadata": {
        "id": "view-in-github",
        "colab_type": "text"
      },
      "source": [
        "<a href=\"https://colab.research.google.com/github/syachmhrd/EDA/blob/main/Tugas_1_Datmin.ipynb\" target=\"_parent\"><img src=\"https://colab.research.google.com/assets/colab-badge.svg\" alt=\"Open In Colab\"/></a>"
      ]
    },
    {
      "cell_type": "markdown",
      "metadata": {
        "id": "1vyrLYG7Kxip"
      },
      "source": [
        "# IMPORT DATA DARI KAGGLE"
      ]
    },
    {
      "cell_type": "code",
      "metadata": {
        "id": "92ka-ndi6avU"
      },
      "source": [
        "import warnings\n",
        "warnings.simplefilter(action='ignore', category=FutureWarning)\n",
        "import numpy as np \n",
        "import pandas as pd\n",
        "import matplotlib.pyplot as plt\n",
        "import warnings; warnings.simplefilter('ignore')\n",
        "import scipy, itertools, pandas as pd, matplotlib.pyplot as plt, seaborn as sns, numpy as np\n",
        "from scipy import stats\n",
        "from sklearn.preprocessing import StandardScaler, MinMaxScaler\n",
        "\n",
        "plt.style.use('bmh'); sns.set()"
      ],
      "execution_count": 1,
      "outputs": []
    },
    {
      "cell_type": "code",
      "metadata": {
        "colab": {
          "base_uri": "https://localhost:8080/"
        },
        "id": "_Wa4T_Rl3ngn",
        "outputId": "16c45434-de70-4000-e17f-578043b4c933"
      },
      "source": [
        "# install kaggle API\n",
        "!pip install kaggle"
      ],
      "execution_count": 2,
      "outputs": [
        {
          "output_type": "stream",
          "name": "stdout",
          "text": [
            "Requirement already satisfied: kaggle in /usr/local/lib/python3.7/dist-packages (1.5.12)\n",
            "Requirement already satisfied: six>=1.10 in /usr/local/lib/python3.7/dist-packages (from kaggle) (1.15.0)\n",
            "Requirement already satisfied: certifi in /usr/local/lib/python3.7/dist-packages (from kaggle) (2021.5.30)\n",
            "Requirement already satisfied: urllib3 in /usr/local/lib/python3.7/dist-packages (from kaggle) (1.24.3)\n",
            "Requirement already satisfied: tqdm in /usr/local/lib/python3.7/dist-packages (from kaggle) (4.62.3)\n",
            "Requirement already satisfied: python-dateutil in /usr/local/lib/python3.7/dist-packages (from kaggle) (2.8.2)\n",
            "Requirement already satisfied: python-slugify in /usr/local/lib/python3.7/dist-packages (from kaggle) (5.0.2)\n",
            "Requirement already satisfied: requests in /usr/local/lib/python3.7/dist-packages (from kaggle) (2.23.0)\n",
            "Requirement already satisfied: text-unidecode>=1.3 in /usr/local/lib/python3.7/dist-packages (from python-slugify->kaggle) (1.3)\n",
            "Requirement already satisfied: idna<3,>=2.5 in /usr/local/lib/python3.7/dist-packages (from requests->kaggle) (2.10)\n",
            "Requirement already satisfied: chardet<4,>=3.0.2 in /usr/local/lib/python3.7/dist-packages (from requests->kaggle) (3.0.4)\n"
          ]
        }
      ]
    },
    {
      "cell_type": "code",
      "metadata": {
        "id": "sGvKcCjd5M0A"
      },
      "source": [
        "# create a directory as kaggle\n",
        "! mkdir -p ~/.kaggle"
      ],
      "execution_count": 3,
      "outputs": []
    },
    {
      "cell_type": "code",
      "metadata": {
        "colab": {
          "base_uri": "https://localhost:8080/"
        },
        "id": "BjLUhlizLGWS",
        "outputId": "31ddda92-dd01-4b0f-d21e-54e95cc7ee28"
      },
      "source": [
        "!gdown --id 1cyftAjfB3U6CfWfSOSeRD-vA9VD6D-kV"
      ],
      "execution_count": 4,
      "outputs": [
        {
          "output_type": "stream",
          "name": "stdout",
          "text": [
            "Downloading...\n",
            "From: https://drive.google.com/uc?id=1cyftAjfB3U6CfWfSOSeRD-vA9VD6D-kV\n",
            "To: /content/kaggle.json\n",
            "\r  0% 0.00/66.0 [00:00<?, ?B/s]\r100% 66.0/66.0 [00:00<00:00, 120kB/s]\n"
          ]
        }
      ]
    },
    {
      "cell_type": "code",
      "metadata": {
        "id": "0Rg9o8_k5Wsr"
      },
      "source": [
        "# copy API key to kaggle directory\n",
        "! cp kaggle.json ~/.kaggle"
      ],
      "execution_count": 5,
      "outputs": []
    },
    {
      "cell_type": "code",
      "metadata": {
        "id": "DKL3Q_3H5nGv"
      },
      "source": [
        "# disable the API key\n",
        "! chmod 600 /root/.kaggle/kaggle.json"
      ],
      "execution_count": 6,
      "outputs": []
    },
    {
      "cell_type": "code",
      "metadata": {
        "colab": {
          "base_uri": "https://localhost:8080/"
        },
        "id": "nrxQ3M4b5pUV",
        "outputId": "2326c2cb-1135-40db-de28-a771034c9975"
      },
      "source": [
        "# list of datasets\n",
        "! kaggle datasets list"
      ],
      "execution_count": 7,
      "outputs": [
        {
          "output_type": "stream",
          "name": "stdout",
          "text": [
            "Warning: Looks like you're using an outdated API Version, please consider updating (server 1.5.12 / client 1.5.4)\n",
            "ref                                                         title                                              size  lastUpdated          downloadCount  \n",
            "----------------------------------------------------------  ------------------------------------------------  -----  -------------------  -------------  \n",
            "gpreda/reddit-vaccine-myths                                 Reddit Vaccine Myths                              235KB  2021-10-10 17:55:57          13539  \n",
            "crowww/a-large-scale-fish-dataset                           A Large Scale Fish Dataset                          3GB  2021-04-28 17:03:01           8127  \n",
            "imsparsh/musicnet-dataset                                   MusicNet Dataset                                   22GB  2021-02-18 14:12:19           3612  \n",
            "fatiimaezzahra/famous-iconic-women                          Famous Iconic Women                               838MB  2021-02-28 14:56:00           1551  \n",
            "dhruvildave/wikibooks-dataset                               Wikibooks Dataset                                   2GB  2021-07-03 18:37:20           3117  \n",
            "nickuzmenkov/nih-chest-xrays-tfrecords                      NIH Chest X-rays TFRecords                         11GB  2021-03-09 04:49:23           1304  \n",
            "promptcloud/careerbuilder-job-listing-2020                  Careerbuilder Job Listing 2020                     42MB  2021-03-05 06:59:52           2133  \n",
            "mathurinache/twitter-edge-nodes                             Twitter Edge Nodes                                342MB  2021-03-08 06:43:04           1040  \n",
            "coloradokb/dandelionimages                                  DandelionImages                                     4GB  2021-02-19 20:03:47            922  \n",
            "alsgroup/end-als                                            End ALS Kaggle Challenge                           12GB  2021-04-08 12:16:37            960  \n",
            "simiotic/github-code-snippets                               GitHub Code Snippets                                7GB  2021-03-03 11:34:39            378  \n",
            "stuartjames/lights                                          LightS: Light Specularity Dataset                  18GB  2021-02-18 14:32:26            170  \n",
            "mathurinache/the-lj-speech-dataset                          The LJ Speech Dataset                               3GB  2021-02-15 09:19:54            381  \n",
            "nickuzmenkov/ranzcr-clip-kfold-tfrecords                    RANZCR CLiP KFold TFRecords                         2GB  2021-02-21 13:29:51            138  \n",
            "imsparsh/accentdb-core-extended                             AccentDB - Core & Extended                          6GB  2021-02-17 14:22:54            154  \n",
            "landrykezebou/lvzhdr-tone-mapping-benchmark-dataset-tmonet  LVZ-HDR Tone Mapping Benchmark Dataset (TMO-Net)   24GB  2021-03-01 05:03:40            212  \n",
            "zynicide/wine-reviews                                       Wine Reviews                                       51MB  2017-11-27 17:08:04         145535  \n",
            "datasnaek/youtube-new                                       Trending YouTube Video Statistics                 201MB  2019-06-03 00:56:47         153776  \n",
            "datasnaek/chess                                             Chess Game Dataset (Lichess)                        3MB  2017-09-04 03:09:09          22796  \n",
            "residentmario/ramen-ratings                                 Ramen Ratings                                      40KB  2018-01-11 16:04:39          27985  \n"
          ]
        }
      ]
    },
    {
      "cell_type": "code",
      "metadata": {
        "colab": {
          "base_uri": "https://localhost:8080/"
        },
        "id": "e1ENWK4d5sLT",
        "outputId": "fdec35c8-6e23-49af-8d2d-4db2cf49bfe4"
      },
      "source": [
        "# import the datasets\n",
        "! kaggle competitions download -c ashrae-energy-prediction"
      ],
      "execution_count": 8,
      "outputs": [
        {
          "output_type": "stream",
          "name": "stdout",
          "text": [
            "Warning: Looks like you're using an outdated API Version, please consider updating (server 1.5.12 / client 1.5.4)\n",
            "Downloading weather_test.csv.zip to /content\n",
            "  0% 0.00/2.53M [00:00<?, ?B/s]\n",
            "100% 2.53M/2.53M [00:00<00:00, 83.6MB/s]\n",
            "Downloading test.csv.zip to /content\n",
            " 93% 155M/167M [00:02<00:00, 62.9MB/s]\n",
            "100% 167M/167M [00:02<00:00, 69.2MB/s]\n",
            "Downloading building_metadata.csv to /content\n",
            "  0% 0.00/44.5k [00:00<?, ?B/s]\n",
            "100% 44.5k/44.5k [00:00<00:00, 67.5MB/s]\n",
            "Downloading sample_submission.csv.zip to /content\n",
            " 93% 82.0M/88.4M [00:01<00:00, 45.6MB/s]\n",
            "100% 88.4M/88.4M [00:01<00:00, 55.5MB/s]\n",
            "Downloading weather_train.csv.zip to /content\n",
            "  0% 0.00/1.27M [00:00<?, ?B/s]\n",
            "100% 1.27M/1.27M [00:00<00:00, 85.6MB/s]\n",
            "Downloading train.csv.zip to /content\n",
            " 95% 114M/120M [00:02<00:00, 41.3MB/s]\n",
            "100% 120M/120M [00:02<00:00, 50.8MB/s]\n"
          ]
        }
      ]
    },
    {
      "cell_type": "code",
      "metadata": {
        "colab": {
          "base_uri": "https://localhost:8080/"
        },
        "id": "RPpg1Y7I_kwM",
        "outputId": "3e61a58b-47ab-4324-ddd7-631e5528128a"
      },
      "source": [
        "# unzipping dataset\n",
        "! unzip /content/train.csv.zip"
      ],
      "execution_count": 9,
      "outputs": [
        {
          "output_type": "stream",
          "name": "stdout",
          "text": [
            "Archive:  /content/train.csv.zip\n",
            "  inflating: train.csv               \n"
          ]
        }
      ]
    },
    {
      "cell_type": "code",
      "metadata": {
        "colab": {
          "base_uri": "https://localhost:8080/"
        },
        "id": "uphqGuYBD-rA",
        "outputId": "3fa112f1-a119-48de-e800-4d1a41f4f4d7"
      },
      "source": [
        "# unzipping dataset\n",
        "! unzip /content/weather_train.csv.zip"
      ],
      "execution_count": 10,
      "outputs": [
        {
          "output_type": "stream",
          "name": "stdout",
          "text": [
            "Archive:  /content/weather_train.csv.zip\n",
            "  inflating: weather_train.csv       \n"
          ]
        }
      ]
    },
    {
      "cell_type": "markdown",
      "metadata": {
        "id": "in4UYyY8QBnr"
      },
      "source": [
        "# Preprocessing"
      ]
    },
    {
      "cell_type": "markdown",
      "metadata": {
        "id": "kJ4al1p2Lphc"
      },
      "source": [
        "##Data Gedung#"
      ]
    },
    {
      "cell_type": "code",
      "metadata": {
        "id": "FBgL-Lrc_HRK"
      },
      "source": [
        "data_gedung = pd.read_csv('/content/building_metadata.csv')"
      ],
      "execution_count": 11,
      "outputs": []
    },
    {
      "cell_type": "code",
      "metadata": {
        "colab": {
          "base_uri": "https://localhost:8080/",
          "height": 0
        },
        "id": "BPf3ovdG_VTi",
        "outputId": "f4918936-b68f-43e5-aca4-9f5f8e11a123"
      },
      "source": [
        "data_gedung.head()"
      ],
      "execution_count": 12,
      "outputs": [
        {
          "output_type": "execute_result",
          "data": {
            "text/html": [
              "<div>\n",
              "<style scoped>\n",
              "    .dataframe tbody tr th:only-of-type {\n",
              "        vertical-align: middle;\n",
              "    }\n",
              "\n",
              "    .dataframe tbody tr th {\n",
              "        vertical-align: top;\n",
              "    }\n",
              "\n",
              "    .dataframe thead th {\n",
              "        text-align: right;\n",
              "    }\n",
              "</style>\n",
              "<table border=\"1\" class=\"dataframe\">\n",
              "  <thead>\n",
              "    <tr style=\"text-align: right;\">\n",
              "      <th></th>\n",
              "      <th>site_id</th>\n",
              "      <th>building_id</th>\n",
              "      <th>primary_use</th>\n",
              "      <th>square_feet</th>\n",
              "      <th>year_built</th>\n",
              "      <th>floor_count</th>\n",
              "    </tr>\n",
              "  </thead>\n",
              "  <tbody>\n",
              "    <tr>\n",
              "      <th>0</th>\n",
              "      <td>0</td>\n",
              "      <td>0</td>\n",
              "      <td>Education</td>\n",
              "      <td>7432</td>\n",
              "      <td>2008.0</td>\n",
              "      <td>NaN</td>\n",
              "    </tr>\n",
              "    <tr>\n",
              "      <th>1</th>\n",
              "      <td>0</td>\n",
              "      <td>1</td>\n",
              "      <td>Education</td>\n",
              "      <td>2720</td>\n",
              "      <td>2004.0</td>\n",
              "      <td>NaN</td>\n",
              "    </tr>\n",
              "    <tr>\n",
              "      <th>2</th>\n",
              "      <td>0</td>\n",
              "      <td>2</td>\n",
              "      <td>Education</td>\n",
              "      <td>5376</td>\n",
              "      <td>1991.0</td>\n",
              "      <td>NaN</td>\n",
              "    </tr>\n",
              "    <tr>\n",
              "      <th>3</th>\n",
              "      <td>0</td>\n",
              "      <td>3</td>\n",
              "      <td>Education</td>\n",
              "      <td>23685</td>\n",
              "      <td>2002.0</td>\n",
              "      <td>NaN</td>\n",
              "    </tr>\n",
              "    <tr>\n",
              "      <th>4</th>\n",
              "      <td>0</td>\n",
              "      <td>4</td>\n",
              "      <td>Education</td>\n",
              "      <td>116607</td>\n",
              "      <td>1975.0</td>\n",
              "      <td>NaN</td>\n",
              "    </tr>\n",
              "  </tbody>\n",
              "</table>\n",
              "</div>"
            ],
            "text/plain": [
              "   site_id  building_id primary_use  square_feet  year_built  floor_count\n",
              "0        0            0   Education         7432      2008.0          NaN\n",
              "1        0            1   Education         2720      2004.0          NaN\n",
              "2        0            2   Education         5376      1991.0          NaN\n",
              "3        0            3   Education        23685      2002.0          NaN\n",
              "4        0            4   Education       116607      1975.0          NaN"
            ]
          },
          "metadata": {},
          "execution_count": 12
        }
      ]
    },
    {
      "cell_type": "code",
      "metadata": {
        "colab": {
          "base_uri": "https://localhost:8080/",
          "height": 0
        },
        "id": "TCENoiiz_asS",
        "outputId": "24e1bf98-312f-41f2-c308-29d49af97e34"
      },
      "source": [
        "data_gedung.tail()"
      ],
      "execution_count": 13,
      "outputs": [
        {
          "output_type": "execute_result",
          "data": {
            "text/html": [
              "<div>\n",
              "<style scoped>\n",
              "    .dataframe tbody tr th:only-of-type {\n",
              "        vertical-align: middle;\n",
              "    }\n",
              "\n",
              "    .dataframe tbody tr th {\n",
              "        vertical-align: top;\n",
              "    }\n",
              "\n",
              "    .dataframe thead th {\n",
              "        text-align: right;\n",
              "    }\n",
              "</style>\n",
              "<table border=\"1\" class=\"dataframe\">\n",
              "  <thead>\n",
              "    <tr style=\"text-align: right;\">\n",
              "      <th></th>\n",
              "      <th>site_id</th>\n",
              "      <th>building_id</th>\n",
              "      <th>primary_use</th>\n",
              "      <th>square_feet</th>\n",
              "      <th>year_built</th>\n",
              "      <th>floor_count</th>\n",
              "    </tr>\n",
              "  </thead>\n",
              "  <tbody>\n",
              "    <tr>\n",
              "      <th>1444</th>\n",
              "      <td>15</td>\n",
              "      <td>1444</td>\n",
              "      <td>Entertainment/public assembly</td>\n",
              "      <td>19619</td>\n",
              "      <td>1914.0</td>\n",
              "      <td>NaN</td>\n",
              "    </tr>\n",
              "    <tr>\n",
              "      <th>1445</th>\n",
              "      <td>15</td>\n",
              "      <td>1445</td>\n",
              "      <td>Education</td>\n",
              "      <td>4298</td>\n",
              "      <td>NaN</td>\n",
              "      <td>NaN</td>\n",
              "    </tr>\n",
              "    <tr>\n",
              "      <th>1446</th>\n",
              "      <td>15</td>\n",
              "      <td>1446</td>\n",
              "      <td>Entertainment/public assembly</td>\n",
              "      <td>11265</td>\n",
              "      <td>1997.0</td>\n",
              "      <td>NaN</td>\n",
              "    </tr>\n",
              "    <tr>\n",
              "      <th>1447</th>\n",
              "      <td>15</td>\n",
              "      <td>1447</td>\n",
              "      <td>Lodging/residential</td>\n",
              "      <td>29775</td>\n",
              "      <td>2001.0</td>\n",
              "      <td>NaN</td>\n",
              "    </tr>\n",
              "    <tr>\n",
              "      <th>1448</th>\n",
              "      <td>15</td>\n",
              "      <td>1448</td>\n",
              "      <td>Office</td>\n",
              "      <td>92271</td>\n",
              "      <td>2001.0</td>\n",
              "      <td>NaN</td>\n",
              "    </tr>\n",
              "  </tbody>\n",
              "</table>\n",
              "</div>"
            ],
            "text/plain": [
              "      site_id  building_id  ... year_built  floor_count\n",
              "1444       15         1444  ...     1914.0          NaN\n",
              "1445       15         1445  ...        NaN          NaN\n",
              "1446       15         1446  ...     1997.0          NaN\n",
              "1447       15         1447  ...     2001.0          NaN\n",
              "1448       15         1448  ...     2001.0          NaN\n",
              "\n",
              "[5 rows x 6 columns]"
            ]
          },
          "metadata": {},
          "execution_count": 13
        }
      ]
    },
    {
      "cell_type": "code",
      "metadata": {
        "colab": {
          "base_uri": "https://localhost:8080/",
          "height": 0
        },
        "id": "GMkDD_43_hge",
        "outputId": "87cebb2e-8c6a-4542-b24f-02536e7fa2ac"
      },
      "source": [
        "data_gedung.sample(5)"
      ],
      "execution_count": 14,
      "outputs": [
        {
          "output_type": "execute_result",
          "data": {
            "text/html": [
              "<div>\n",
              "<style scoped>\n",
              "    .dataframe tbody tr th:only-of-type {\n",
              "        vertical-align: middle;\n",
              "    }\n",
              "\n",
              "    .dataframe tbody tr th {\n",
              "        vertical-align: top;\n",
              "    }\n",
              "\n",
              "    .dataframe thead th {\n",
              "        text-align: right;\n",
              "    }\n",
              "</style>\n",
              "<table border=\"1\" class=\"dataframe\">\n",
              "  <thead>\n",
              "    <tr style=\"text-align: right;\">\n",
              "      <th></th>\n",
              "      <th>site_id</th>\n",
              "      <th>building_id</th>\n",
              "      <th>primary_use</th>\n",
              "      <th>square_feet</th>\n",
              "      <th>year_built</th>\n",
              "      <th>floor_count</th>\n",
              "    </tr>\n",
              "  </thead>\n",
              "  <tbody>\n",
              "    <tr>\n",
              "      <th>1146</th>\n",
              "      <td>13</td>\n",
              "      <td>1146</td>\n",
              "      <td>Public services</td>\n",
              "      <td>83155</td>\n",
              "      <td>NaN</td>\n",
              "      <td>NaN</td>\n",
              "    </tr>\n",
              "    <tr>\n",
              "      <th>1151</th>\n",
              "      <td>13</td>\n",
              "      <td>1151</td>\n",
              "      <td>Office</td>\n",
              "      <td>267536</td>\n",
              "      <td>NaN</td>\n",
              "      <td>NaN</td>\n",
              "    </tr>\n",
              "    <tr>\n",
              "      <th>154</th>\n",
              "      <td>1</td>\n",
              "      <td>154</td>\n",
              "      <td>Office</td>\n",
              "      <td>34455</td>\n",
              "      <td>1907.0</td>\n",
              "      <td>8.0</td>\n",
              "    </tr>\n",
              "    <tr>\n",
              "      <th>175</th>\n",
              "      <td>2</td>\n",
              "      <td>175</td>\n",
              "      <td>Education</td>\n",
              "      <td>111635</td>\n",
              "      <td>1989.0</td>\n",
              "      <td>NaN</td>\n",
              "    </tr>\n",
              "    <tr>\n",
              "      <th>308</th>\n",
              "      <td>3</td>\n",
              "      <td>308</td>\n",
              "      <td>Public services</td>\n",
              "      <td>5033</td>\n",
              "      <td>NaN</td>\n",
              "      <td>NaN</td>\n",
              "    </tr>\n",
              "  </tbody>\n",
              "</table>\n",
              "</div>"
            ],
            "text/plain": [
              "      site_id  building_id  ... year_built  floor_count\n",
              "1146       13         1146  ...        NaN          NaN\n",
              "1151       13         1151  ...        NaN          NaN\n",
              "154         1          154  ...     1907.0          8.0\n",
              "175         2          175  ...     1989.0          NaN\n",
              "308         3          308  ...        NaN          NaN\n",
              "\n",
              "[5 rows x 6 columns]"
            ]
          },
          "metadata": {},
          "execution_count": 14
        }
      ]
    },
    {
      "cell_type": "code",
      "metadata": {
        "colab": {
          "base_uri": "https://localhost:8080/"
        },
        "id": "-S4yUb2iOcsQ",
        "outputId": "fc0cc9d0-0e33-43b7-c3a8-fce0b7863f63"
      },
      "source": [
        "#Menghitung jumlah missing value di setiap kolom\n",
        "print(data_gedung)\n",
        "print(data_gedung.isnull().sum())\n",
        "print(data_gedung.isnull().sum().sum())"
      ],
      "execution_count": 15,
      "outputs": [
        {
          "output_type": "stream",
          "name": "stdout",
          "text": [
            "      site_id  building_id  ... year_built  floor_count\n",
            "0           0            0  ...     2008.0          NaN\n",
            "1           0            1  ...     2004.0          NaN\n",
            "2           0            2  ...     1991.0          NaN\n",
            "3           0            3  ...     2002.0          NaN\n",
            "4           0            4  ...     1975.0          NaN\n",
            "...       ...          ...  ...        ...          ...\n",
            "1444       15         1444  ...     1914.0          NaN\n",
            "1445       15         1445  ...        NaN          NaN\n",
            "1446       15         1446  ...     1997.0          NaN\n",
            "1447       15         1447  ...     2001.0          NaN\n",
            "1448       15         1448  ...     2001.0          NaN\n",
            "\n",
            "[1449 rows x 6 columns]\n",
            "site_id           0\n",
            "building_id       0\n",
            "primary_use       0\n",
            "square_feet       0\n",
            "year_built      774\n",
            "floor_count    1094\n",
            "dtype: int64\n",
            "1868\n"
          ]
        }
      ]
    },
    {
      "cell_type": "code",
      "metadata": {
        "colab": {
          "base_uri": "https://localhost:8080/"
        },
        "id": "i4LamXfim92V",
        "outputId": "b27fcd98-5807-4e1f-e4bc-2e1c5b0086da"
      },
      "source": [
        "#menghapus data year_built dan floor_count karena missing value lebih dari 50%\n",
        "data_gedung.drop(\"year_built\", axis=1, inplace=True)\n",
        "data_gedung.drop(\"floor_count\", axis=1, inplace=True)\n",
        "data_gedung.info()"
      ],
      "execution_count": 16,
      "outputs": [
        {
          "output_type": "stream",
          "name": "stdout",
          "text": [
            "<class 'pandas.core.frame.DataFrame'>\n",
            "RangeIndex: 1449 entries, 0 to 1448\n",
            "Data columns (total 4 columns):\n",
            " #   Column       Non-Null Count  Dtype \n",
            "---  ------       --------------  ----- \n",
            " 0   site_id      1449 non-null   int64 \n",
            " 1   building_id  1449 non-null   int64 \n",
            " 2   primary_use  1449 non-null   object\n",
            " 3   square_feet  1449 non-null   int64 \n",
            "dtypes: int64(3), object(1)\n",
            "memory usage: 45.4+ KB\n"
          ]
        }
      ]
    },
    {
      "cell_type": "code",
      "metadata": {
        "colab": {
          "base_uri": "https://localhost:8080/"
        },
        "id": "i-YXy93qnrct",
        "outputId": "6b377c52-0e06-41ad-a710-08324289df92"
      },
      "source": [
        "print(data_gedung.shape)\n",
        "data_gedung.duplicated().sum()"
      ],
      "execution_count": 17,
      "outputs": [
        {
          "output_type": "stream",
          "name": "stdout",
          "text": [
            "(1449, 4)\n"
          ]
        },
        {
          "output_type": "execute_result",
          "data": {
            "text/plain": [
              "0"
            ]
          },
          "metadata": {},
          "execution_count": 17
        }
      ]
    },
    {
      "cell_type": "markdown",
      "metadata": {
        "id": "L50lsyd0L1zJ"
      },
      "source": [
        "##Data Energy#"
      ]
    },
    {
      "cell_type": "code",
      "metadata": {
        "id": "Aw-UVvmBBn4R"
      },
      "source": [
        "data_energy = pd.read_csv('/content/train.csv')"
      ],
      "execution_count": 18,
      "outputs": []
    },
    {
      "cell_type": "code",
      "metadata": {
        "colab": {
          "base_uri": "https://localhost:8080/",
          "height": 0
        },
        "id": "GNperBGFCQ8q",
        "outputId": "b91762ae-107a-4508-cb09-29a502996838"
      },
      "source": [
        "data_energy.head()"
      ],
      "execution_count": 19,
      "outputs": [
        {
          "output_type": "execute_result",
          "data": {
            "text/html": [
              "<div>\n",
              "<style scoped>\n",
              "    .dataframe tbody tr th:only-of-type {\n",
              "        vertical-align: middle;\n",
              "    }\n",
              "\n",
              "    .dataframe tbody tr th {\n",
              "        vertical-align: top;\n",
              "    }\n",
              "\n",
              "    .dataframe thead th {\n",
              "        text-align: right;\n",
              "    }\n",
              "</style>\n",
              "<table border=\"1\" class=\"dataframe\">\n",
              "  <thead>\n",
              "    <tr style=\"text-align: right;\">\n",
              "      <th></th>\n",
              "      <th>building_id</th>\n",
              "      <th>meter</th>\n",
              "      <th>timestamp</th>\n",
              "      <th>meter_reading</th>\n",
              "    </tr>\n",
              "  </thead>\n",
              "  <tbody>\n",
              "    <tr>\n",
              "      <th>0</th>\n",
              "      <td>0</td>\n",
              "      <td>0</td>\n",
              "      <td>2016-01-01 00:00:00</td>\n",
              "      <td>0.0</td>\n",
              "    </tr>\n",
              "    <tr>\n",
              "      <th>1</th>\n",
              "      <td>1</td>\n",
              "      <td>0</td>\n",
              "      <td>2016-01-01 00:00:00</td>\n",
              "      <td>0.0</td>\n",
              "    </tr>\n",
              "    <tr>\n",
              "      <th>2</th>\n",
              "      <td>2</td>\n",
              "      <td>0</td>\n",
              "      <td>2016-01-01 00:00:00</td>\n",
              "      <td>0.0</td>\n",
              "    </tr>\n",
              "    <tr>\n",
              "      <th>3</th>\n",
              "      <td>3</td>\n",
              "      <td>0</td>\n",
              "      <td>2016-01-01 00:00:00</td>\n",
              "      <td>0.0</td>\n",
              "    </tr>\n",
              "    <tr>\n",
              "      <th>4</th>\n",
              "      <td>4</td>\n",
              "      <td>0</td>\n",
              "      <td>2016-01-01 00:00:00</td>\n",
              "      <td>0.0</td>\n",
              "    </tr>\n",
              "  </tbody>\n",
              "</table>\n",
              "</div>"
            ],
            "text/plain": [
              "   building_id  meter            timestamp  meter_reading\n",
              "0            0      0  2016-01-01 00:00:00            0.0\n",
              "1            1      0  2016-01-01 00:00:00            0.0\n",
              "2            2      0  2016-01-01 00:00:00            0.0\n",
              "3            3      0  2016-01-01 00:00:00            0.0\n",
              "4            4      0  2016-01-01 00:00:00            0.0"
            ]
          },
          "metadata": {},
          "execution_count": 19
        }
      ]
    },
    {
      "cell_type": "code",
      "metadata": {
        "colab": {
          "base_uri": "https://localhost:8080/",
          "height": 0
        },
        "id": "hzBKGYZQEyCz",
        "outputId": "7540f094-06bd-409d-fdc1-cfb09a949cd9"
      },
      "source": [
        "data_energy.tail()"
      ],
      "execution_count": 20,
      "outputs": [
        {
          "output_type": "execute_result",
          "data": {
            "text/html": [
              "<div>\n",
              "<style scoped>\n",
              "    .dataframe tbody tr th:only-of-type {\n",
              "        vertical-align: middle;\n",
              "    }\n",
              "\n",
              "    .dataframe tbody tr th {\n",
              "        vertical-align: top;\n",
              "    }\n",
              "\n",
              "    .dataframe thead th {\n",
              "        text-align: right;\n",
              "    }\n",
              "</style>\n",
              "<table border=\"1\" class=\"dataframe\">\n",
              "  <thead>\n",
              "    <tr style=\"text-align: right;\">\n",
              "      <th></th>\n",
              "      <th>building_id</th>\n",
              "      <th>meter</th>\n",
              "      <th>timestamp</th>\n",
              "      <th>meter_reading</th>\n",
              "    </tr>\n",
              "  </thead>\n",
              "  <tbody>\n",
              "    <tr>\n",
              "      <th>20216095</th>\n",
              "      <td>1444</td>\n",
              "      <td>0</td>\n",
              "      <td>2016-12-31 23:00:00</td>\n",
              "      <td>8.750</td>\n",
              "    </tr>\n",
              "    <tr>\n",
              "      <th>20216096</th>\n",
              "      <td>1445</td>\n",
              "      <td>0</td>\n",
              "      <td>2016-12-31 23:00:00</td>\n",
              "      <td>4.825</td>\n",
              "    </tr>\n",
              "    <tr>\n",
              "      <th>20216097</th>\n",
              "      <td>1446</td>\n",
              "      <td>0</td>\n",
              "      <td>2016-12-31 23:00:00</td>\n",
              "      <td>0.000</td>\n",
              "    </tr>\n",
              "    <tr>\n",
              "      <th>20216098</th>\n",
              "      <td>1447</td>\n",
              "      <td>0</td>\n",
              "      <td>2016-12-31 23:00:00</td>\n",
              "      <td>159.575</td>\n",
              "    </tr>\n",
              "    <tr>\n",
              "      <th>20216099</th>\n",
              "      <td>1448</td>\n",
              "      <td>0</td>\n",
              "      <td>2016-12-31 23:00:00</td>\n",
              "      <td>2.850</td>\n",
              "    </tr>\n",
              "  </tbody>\n",
              "</table>\n",
              "</div>"
            ],
            "text/plain": [
              "          building_id  meter            timestamp  meter_reading\n",
              "20216095         1444      0  2016-12-31 23:00:00          8.750\n",
              "20216096         1445      0  2016-12-31 23:00:00          4.825\n",
              "20216097         1446      0  2016-12-31 23:00:00          0.000\n",
              "20216098         1447      0  2016-12-31 23:00:00        159.575\n",
              "20216099         1448      0  2016-12-31 23:00:00          2.850"
            ]
          },
          "metadata": {},
          "execution_count": 20
        }
      ]
    },
    {
      "cell_type": "code",
      "metadata": {
        "colab": {
          "base_uri": "https://localhost:8080/",
          "height": 0
        },
        "id": "EJWX91JGE3fH",
        "outputId": "92fe4953-59d8-4380-b83c-5322829bc6a0"
      },
      "source": [
        "data_energy.sample(5)"
      ],
      "execution_count": 21,
      "outputs": [
        {
          "output_type": "execute_result",
          "data": {
            "text/html": [
              "<div>\n",
              "<style scoped>\n",
              "    .dataframe tbody tr th:only-of-type {\n",
              "        vertical-align: middle;\n",
              "    }\n",
              "\n",
              "    .dataframe tbody tr th {\n",
              "        vertical-align: top;\n",
              "    }\n",
              "\n",
              "    .dataframe thead th {\n",
              "        text-align: right;\n",
              "    }\n",
              "</style>\n",
              "<table border=\"1\" class=\"dataframe\">\n",
              "  <thead>\n",
              "    <tr style=\"text-align: right;\">\n",
              "      <th></th>\n",
              "      <th>building_id</th>\n",
              "      <th>meter</th>\n",
              "      <th>timestamp</th>\n",
              "      <th>meter_reading</th>\n",
              "    </tr>\n",
              "  </thead>\n",
              "  <tbody>\n",
              "    <tr>\n",
              "      <th>18713542</th>\n",
              "      <td>1274</td>\n",
              "      <td>0</td>\n",
              "      <td>2016-12-05 08:00:00</td>\n",
              "      <td>31.0000</td>\n",
              "    </tr>\n",
              "    <tr>\n",
              "      <th>2698464</th>\n",
              "      <td>1024</td>\n",
              "      <td>0</td>\n",
              "      <td>2016-02-19 20:00:00</td>\n",
              "      <td>14.5201</td>\n",
              "    </tr>\n",
              "    <tr>\n",
              "      <th>5358541</th>\n",
              "      <td>460</td>\n",
              "      <td>0</td>\n",
              "      <td>2016-04-11 07:00:00</td>\n",
              "      <td>17.6700</td>\n",
              "    </tr>\n",
              "    <tr>\n",
              "      <th>13830875</th>\n",
              "      <td>1104</td>\n",
              "      <td>2</td>\n",
              "      <td>2016-09-09 08:00:00</td>\n",
              "      <td>8244.1400</td>\n",
              "    </tr>\n",
              "    <tr>\n",
              "      <th>11007240</th>\n",
              "      <td>117</td>\n",
              "      <td>0</td>\n",
              "      <td>2016-07-20 17:00:00</td>\n",
              "      <td>108.5000</td>\n",
              "    </tr>\n",
              "  </tbody>\n",
              "</table>\n",
              "</div>"
            ],
            "text/plain": [
              "          building_id  meter            timestamp  meter_reading\n",
              "18713542         1274      0  2016-12-05 08:00:00        31.0000\n",
              "2698464          1024      0  2016-02-19 20:00:00        14.5201\n",
              "5358541           460      0  2016-04-11 07:00:00        17.6700\n",
              "13830875         1104      2  2016-09-09 08:00:00      8244.1400\n",
              "11007240          117      0  2016-07-20 17:00:00       108.5000"
            ]
          },
          "metadata": {},
          "execution_count": 21
        }
      ]
    },
    {
      "cell_type": "code",
      "metadata": {
        "colab": {
          "base_uri": "https://localhost:8080/"
        },
        "id": "Mnohrrh2Oq8S",
        "outputId": "dc0554df-3a27-4458-97fa-509a98b8844f"
      },
      "source": [
        "#Menghitung jumlah missing value di setiap kolom\n",
        "print(data_energy)\n",
        "print(data_energy.isnull().sum())\n",
        "print(data_energy.isnull().sum().sum())"
      ],
      "execution_count": 22,
      "outputs": [
        {
          "output_type": "stream",
          "name": "stdout",
          "text": [
            "          building_id  meter            timestamp  meter_reading\n",
            "0                   0      0  2016-01-01 00:00:00          0.000\n",
            "1                   1      0  2016-01-01 00:00:00          0.000\n",
            "2                   2      0  2016-01-01 00:00:00          0.000\n",
            "3                   3      0  2016-01-01 00:00:00          0.000\n",
            "4                   4      0  2016-01-01 00:00:00          0.000\n",
            "...               ...    ...                  ...            ...\n",
            "20216095         1444      0  2016-12-31 23:00:00          8.750\n",
            "20216096         1445      0  2016-12-31 23:00:00          4.825\n",
            "20216097         1446      0  2016-12-31 23:00:00          0.000\n",
            "20216098         1447      0  2016-12-31 23:00:00        159.575\n",
            "20216099         1448      0  2016-12-31 23:00:00          2.850\n",
            "\n",
            "[20216100 rows x 4 columns]\n",
            "building_id      0\n",
            "meter            0\n",
            "timestamp        0\n",
            "meter_reading    0\n",
            "dtype: int64\n",
            "0\n"
          ]
        }
      ]
    },
    {
      "cell_type": "code",
      "metadata": {
        "colab": {
          "base_uri": "https://localhost:8080/"
        },
        "id": "ZUGpEbHqo2Y1",
        "outputId": "f64e534a-d115-4c63-ee70-2fe751e86d7f"
      },
      "source": [
        "data_energy.shape"
      ],
      "execution_count": 23,
      "outputs": [
        {
          "output_type": "execute_result",
          "data": {
            "text/plain": [
              "(20216100, 4)"
            ]
          },
          "metadata": {},
          "execution_count": 23
        }
      ]
    },
    {
      "cell_type": "code",
      "metadata": {
        "colab": {
          "base_uri": "https://localhost:8080/"
        },
        "id": "MGTdOKuxjU3Q",
        "outputId": "5a1373d1-5899-4a5a-9517-99968b8f59aa"
      },
      "source": [
        "data_energy.info()"
      ],
      "execution_count": 24,
      "outputs": [
        {
          "output_type": "stream",
          "name": "stdout",
          "text": [
            "<class 'pandas.core.frame.DataFrame'>\n",
            "RangeIndex: 20216100 entries, 0 to 20216099\n",
            "Data columns (total 4 columns):\n",
            " #   Column         Dtype  \n",
            "---  ------         -----  \n",
            " 0   building_id    int64  \n",
            " 1   meter          int64  \n",
            " 2   timestamp      object \n",
            " 3   meter_reading  float64\n",
            "dtypes: float64(1), int64(2), object(1)\n",
            "memory usage: 616.9+ MB\n"
          ]
        }
      ]
    },
    {
      "cell_type": "code",
      "metadata": {
        "colab": {
          "base_uri": "https://localhost:8080/"
        },
        "id": "hvbZIFaKN4iY",
        "outputId": "37e45dfe-4774-44e1-bc90-017df7232700"
      },
      "source": [
        "data_energy['timestamp']= pd.to_datetime(data_energy['timestamp'])\n",
        "data_energy.info()"
      ],
      "execution_count": 25,
      "outputs": [
        {
          "output_type": "stream",
          "name": "stdout",
          "text": [
            "<class 'pandas.core.frame.DataFrame'>\n",
            "RangeIndex: 20216100 entries, 0 to 20216099\n",
            "Data columns (total 4 columns):\n",
            " #   Column         Dtype         \n",
            "---  ------         -----         \n",
            " 0   building_id    int64         \n",
            " 1   meter          int64         \n",
            " 2   timestamp      datetime64[ns]\n",
            " 3   meter_reading  float64       \n",
            "dtypes: datetime64[ns](1), float64(1), int64(2)\n",
            "memory usage: 616.9 MB\n"
          ]
        }
      ]
    },
    {
      "cell_type": "code",
      "metadata": {
        "id": "0iClTATyoXSz"
      },
      "source": [
        "# coba coba\n",
        "target_train_df = data_energy.merge(data_gedung, left_on='building_id',right_on='building_id',how='left')"
      ],
      "execution_count": 26,
      "outputs": []
    },
    {
      "cell_type": "markdown",
      "metadata": {
        "id": "PVcFHsUCL7O9"
      },
      "source": [
        "##Data Cuaca#"
      ]
    },
    {
      "cell_type": "code",
      "metadata": {
        "id": "rnTnv1CSCs8O"
      },
      "source": [
        "data_cuaca = pd.read_csv('/content/weather_train.csv')"
      ],
      "execution_count": 27,
      "outputs": []
    },
    {
      "cell_type": "code",
      "metadata": {
        "colab": {
          "base_uri": "https://localhost:8080/",
          "height": 394
        },
        "id": "D3gHyrRXEPoC",
        "outputId": "66977187-3579-4e97-891a-60f1090bfc5f"
      },
      "source": [
        "data_cuaca.head()"
      ],
      "execution_count": 28,
      "outputs": [
        {
          "output_type": "execute_result",
          "data": {
            "text/html": [
              "<div>\n",
              "<style scoped>\n",
              "    .dataframe tbody tr th:only-of-type {\n",
              "        vertical-align: middle;\n",
              "    }\n",
              "\n",
              "    .dataframe tbody tr th {\n",
              "        vertical-align: top;\n",
              "    }\n",
              "\n",
              "    .dataframe thead th {\n",
              "        text-align: right;\n",
              "    }\n",
              "</style>\n",
              "<table border=\"1\" class=\"dataframe\">\n",
              "  <thead>\n",
              "    <tr style=\"text-align: right;\">\n",
              "      <th></th>\n",
              "      <th>site_id</th>\n",
              "      <th>timestamp</th>\n",
              "      <th>air_temperature</th>\n",
              "      <th>cloud_coverage</th>\n",
              "      <th>dew_temperature</th>\n",
              "      <th>precip_depth_1_hr</th>\n",
              "      <th>sea_level_pressure</th>\n",
              "      <th>wind_direction</th>\n",
              "      <th>wind_speed</th>\n",
              "    </tr>\n",
              "  </thead>\n",
              "  <tbody>\n",
              "    <tr>\n",
              "      <th>0</th>\n",
              "      <td>0</td>\n",
              "      <td>2016-01-01 00:00:00</td>\n",
              "      <td>25.0</td>\n",
              "      <td>6.0</td>\n",
              "      <td>20.0</td>\n",
              "      <td>NaN</td>\n",
              "      <td>1019.7</td>\n",
              "      <td>0.0</td>\n",
              "      <td>0.0</td>\n",
              "    </tr>\n",
              "    <tr>\n",
              "      <th>1</th>\n",
              "      <td>0</td>\n",
              "      <td>2016-01-01 01:00:00</td>\n",
              "      <td>24.4</td>\n",
              "      <td>NaN</td>\n",
              "      <td>21.1</td>\n",
              "      <td>-1.0</td>\n",
              "      <td>1020.2</td>\n",
              "      <td>70.0</td>\n",
              "      <td>1.5</td>\n",
              "    </tr>\n",
              "    <tr>\n",
              "      <th>2</th>\n",
              "      <td>0</td>\n",
              "      <td>2016-01-01 02:00:00</td>\n",
              "      <td>22.8</td>\n",
              "      <td>2.0</td>\n",
              "      <td>21.1</td>\n",
              "      <td>0.0</td>\n",
              "      <td>1020.2</td>\n",
              "      <td>0.0</td>\n",
              "      <td>0.0</td>\n",
              "    </tr>\n",
              "    <tr>\n",
              "      <th>3</th>\n",
              "      <td>0</td>\n",
              "      <td>2016-01-01 03:00:00</td>\n",
              "      <td>21.1</td>\n",
              "      <td>2.0</td>\n",
              "      <td>20.6</td>\n",
              "      <td>0.0</td>\n",
              "      <td>1020.1</td>\n",
              "      <td>0.0</td>\n",
              "      <td>0.0</td>\n",
              "    </tr>\n",
              "    <tr>\n",
              "      <th>4</th>\n",
              "      <td>0</td>\n",
              "      <td>2016-01-01 04:00:00</td>\n",
              "      <td>20.0</td>\n",
              "      <td>2.0</td>\n",
              "      <td>20.0</td>\n",
              "      <td>-1.0</td>\n",
              "      <td>1020.0</td>\n",
              "      <td>250.0</td>\n",
              "      <td>2.6</td>\n",
              "    </tr>\n",
              "  </tbody>\n",
              "</table>\n",
              "</div>"
            ],
            "text/plain": [
              "   site_id            timestamp  ...  wind_direction  wind_speed\n",
              "0        0  2016-01-01 00:00:00  ...             0.0         0.0\n",
              "1        0  2016-01-01 01:00:00  ...            70.0         1.5\n",
              "2        0  2016-01-01 02:00:00  ...             0.0         0.0\n",
              "3        0  2016-01-01 03:00:00  ...             0.0         0.0\n",
              "4        0  2016-01-01 04:00:00  ...           250.0         2.6\n",
              "\n",
              "[5 rows x 9 columns]"
            ]
          },
          "metadata": {},
          "execution_count": 28
        }
      ]
    },
    {
      "cell_type": "code",
      "metadata": {
        "colab": {
          "base_uri": "https://localhost:8080/",
          "height": 394
        },
        "id": "OKZfEqI3FXx1",
        "outputId": "062bcd0f-aadc-4638-f700-62152d96ec39"
      },
      "source": [
        "data_cuaca.tail()"
      ],
      "execution_count": 29,
      "outputs": [
        {
          "output_type": "execute_result",
          "data": {
            "text/html": [
              "<div>\n",
              "<style scoped>\n",
              "    .dataframe tbody tr th:only-of-type {\n",
              "        vertical-align: middle;\n",
              "    }\n",
              "\n",
              "    .dataframe tbody tr th {\n",
              "        vertical-align: top;\n",
              "    }\n",
              "\n",
              "    .dataframe thead th {\n",
              "        text-align: right;\n",
              "    }\n",
              "</style>\n",
              "<table border=\"1\" class=\"dataframe\">\n",
              "  <thead>\n",
              "    <tr style=\"text-align: right;\">\n",
              "      <th></th>\n",
              "      <th>site_id</th>\n",
              "      <th>timestamp</th>\n",
              "      <th>air_temperature</th>\n",
              "      <th>cloud_coverage</th>\n",
              "      <th>dew_temperature</th>\n",
              "      <th>precip_depth_1_hr</th>\n",
              "      <th>sea_level_pressure</th>\n",
              "      <th>wind_direction</th>\n",
              "      <th>wind_speed</th>\n",
              "    </tr>\n",
              "  </thead>\n",
              "  <tbody>\n",
              "    <tr>\n",
              "      <th>139768</th>\n",
              "      <td>15</td>\n",
              "      <td>2016-12-31 19:00:00</td>\n",
              "      <td>3.0</td>\n",
              "      <td>NaN</td>\n",
              "      <td>-8.0</td>\n",
              "      <td>NaN</td>\n",
              "      <td>NaN</td>\n",
              "      <td>180.0</td>\n",
              "      <td>5.7</td>\n",
              "    </tr>\n",
              "    <tr>\n",
              "      <th>139769</th>\n",
              "      <td>15</td>\n",
              "      <td>2016-12-31 20:00:00</td>\n",
              "      <td>2.8</td>\n",
              "      <td>2.0</td>\n",
              "      <td>-8.9</td>\n",
              "      <td>NaN</td>\n",
              "      <td>1007.4</td>\n",
              "      <td>180.0</td>\n",
              "      <td>7.7</td>\n",
              "    </tr>\n",
              "    <tr>\n",
              "      <th>139770</th>\n",
              "      <td>15</td>\n",
              "      <td>2016-12-31 21:00:00</td>\n",
              "      <td>2.8</td>\n",
              "      <td>NaN</td>\n",
              "      <td>-7.2</td>\n",
              "      <td>NaN</td>\n",
              "      <td>1007.5</td>\n",
              "      <td>180.0</td>\n",
              "      <td>5.1</td>\n",
              "    </tr>\n",
              "    <tr>\n",
              "      <th>139771</th>\n",
              "      <td>15</td>\n",
              "      <td>2016-12-31 22:00:00</td>\n",
              "      <td>2.2</td>\n",
              "      <td>NaN</td>\n",
              "      <td>-6.7</td>\n",
              "      <td>NaN</td>\n",
              "      <td>1008.0</td>\n",
              "      <td>170.0</td>\n",
              "      <td>4.6</td>\n",
              "    </tr>\n",
              "    <tr>\n",
              "      <th>139772</th>\n",
              "      <td>15</td>\n",
              "      <td>2016-12-31 23:00:00</td>\n",
              "      <td>1.7</td>\n",
              "      <td>NaN</td>\n",
              "      <td>-5.6</td>\n",
              "      <td>-1.0</td>\n",
              "      <td>1008.5</td>\n",
              "      <td>180.0</td>\n",
              "      <td>8.8</td>\n",
              "    </tr>\n",
              "  </tbody>\n",
              "</table>\n",
              "</div>"
            ],
            "text/plain": [
              "        site_id            timestamp  ...  wind_direction  wind_speed\n",
              "139768       15  2016-12-31 19:00:00  ...           180.0         5.7\n",
              "139769       15  2016-12-31 20:00:00  ...           180.0         7.7\n",
              "139770       15  2016-12-31 21:00:00  ...           180.0         5.1\n",
              "139771       15  2016-12-31 22:00:00  ...           170.0         4.6\n",
              "139772       15  2016-12-31 23:00:00  ...           180.0         8.8\n",
              "\n",
              "[5 rows x 9 columns]"
            ]
          },
          "metadata": {},
          "execution_count": 29
        }
      ]
    },
    {
      "cell_type": "code",
      "metadata": {
        "colab": {
          "base_uri": "https://localhost:8080/",
          "height": 394
        },
        "id": "HB14vH2-aoD0",
        "outputId": "6c661b42-2147-4276-ec60-c01d08bd50a8"
      },
      "source": [
        "data_cuaca.sample(5)"
      ],
      "execution_count": 30,
      "outputs": [
        {
          "output_type": "execute_result",
          "data": {
            "text/html": [
              "<div>\n",
              "<style scoped>\n",
              "    .dataframe tbody tr th:only-of-type {\n",
              "        vertical-align: middle;\n",
              "    }\n",
              "\n",
              "    .dataframe tbody tr th {\n",
              "        vertical-align: top;\n",
              "    }\n",
              "\n",
              "    .dataframe thead th {\n",
              "        text-align: right;\n",
              "    }\n",
              "</style>\n",
              "<table border=\"1\" class=\"dataframe\">\n",
              "  <thead>\n",
              "    <tr style=\"text-align: right;\">\n",
              "      <th></th>\n",
              "      <th>site_id</th>\n",
              "      <th>timestamp</th>\n",
              "      <th>air_temperature</th>\n",
              "      <th>cloud_coverage</th>\n",
              "      <th>dew_temperature</th>\n",
              "      <th>precip_depth_1_hr</th>\n",
              "      <th>sea_level_pressure</th>\n",
              "      <th>wind_direction</th>\n",
              "      <th>wind_speed</th>\n",
              "    </tr>\n",
              "  </thead>\n",
              "  <tbody>\n",
              "    <tr>\n",
              "      <th>56564</th>\n",
              "      <td>6</td>\n",
              "      <td>2016-06-12 05:00:00</td>\n",
              "      <td>26.1</td>\n",
              "      <td>0.0</td>\n",
              "      <td>15.0</td>\n",
              "      <td>0.0</td>\n",
              "      <td>1012.9</td>\n",
              "      <td>170.0</td>\n",
              "      <td>1.5</td>\n",
              "    </tr>\n",
              "    <tr>\n",
              "      <th>63689</th>\n",
              "      <td>7</td>\n",
              "      <td>2016-04-09 07:00:00</td>\n",
              "      <td>-5.8</td>\n",
              "      <td>NaN</td>\n",
              "      <td>-10.8</td>\n",
              "      <td>NaN</td>\n",
              "      <td>1009.5</td>\n",
              "      <td>330.0</td>\n",
              "      <td>3.1</td>\n",
              "    </tr>\n",
              "    <tr>\n",
              "      <th>72190</th>\n",
              "      <td>8</td>\n",
              "      <td>2016-03-30 10:00:00</td>\n",
              "      <td>17.8</td>\n",
              "      <td>NaN</td>\n",
              "      <td>16.1</td>\n",
              "      <td>0.0</td>\n",
              "      <td>1018.9</td>\n",
              "      <td>360.0</td>\n",
              "      <td>2.6</td>\n",
              "    </tr>\n",
              "    <tr>\n",
              "      <th>39168</th>\n",
              "      <td>4</td>\n",
              "      <td>2016-06-18 03:00:00</td>\n",
              "      <td>16.7</td>\n",
              "      <td>NaN</td>\n",
              "      <td>12.2</td>\n",
              "      <td>0.0</td>\n",
              "      <td>1018.2</td>\n",
              "      <td>260.0</td>\n",
              "      <td>5.1</td>\n",
              "    </tr>\n",
              "    <tr>\n",
              "      <th>73269</th>\n",
              "      <td>8</td>\n",
              "      <td>2016-05-14 09:00:00</td>\n",
              "      <td>21.7</td>\n",
              "      <td>0.0</td>\n",
              "      <td>20.0</td>\n",
              "      <td>0.0</td>\n",
              "      <td>1014.5</td>\n",
              "      <td>260.0</td>\n",
              "      <td>1.5</td>\n",
              "    </tr>\n",
              "  </tbody>\n",
              "</table>\n",
              "</div>"
            ],
            "text/plain": [
              "       site_id            timestamp  ...  wind_direction  wind_speed\n",
              "56564        6  2016-06-12 05:00:00  ...           170.0         1.5\n",
              "63689        7  2016-04-09 07:00:00  ...           330.0         3.1\n",
              "72190        8  2016-03-30 10:00:00  ...           360.0         2.6\n",
              "39168        4  2016-06-18 03:00:00  ...           260.0         5.1\n",
              "73269        8  2016-05-14 09:00:00  ...           260.0         1.5\n",
              "\n",
              "[5 rows x 9 columns]"
            ]
          },
          "metadata": {},
          "execution_count": 30
        }
      ]
    },
    {
      "cell_type": "code",
      "metadata": {
        "colab": {
          "base_uri": "https://localhost:8080/"
        },
        "id": "po9gwuDKHbHZ",
        "outputId": "6fe17019-00cb-46e3-b7f3-20a4905bc452"
      },
      "source": [
        "#Menghitung jumlah missing value di setiap kolom\n",
        "print(data_cuaca)\n",
        "print(data_cuaca.isnull().sum())\n",
        "print(data_cuaca.isnull().sum().sum())"
      ],
      "execution_count": 31,
      "outputs": [
        {
          "output_type": "stream",
          "name": "stdout",
          "text": [
            "        site_id            timestamp  ...  wind_direction  wind_speed\n",
            "0             0  2016-01-01 00:00:00  ...             0.0         0.0\n",
            "1             0  2016-01-01 01:00:00  ...            70.0         1.5\n",
            "2             0  2016-01-01 02:00:00  ...             0.0         0.0\n",
            "3             0  2016-01-01 03:00:00  ...             0.0         0.0\n",
            "4             0  2016-01-01 04:00:00  ...           250.0         2.6\n",
            "...         ...                  ...  ...             ...         ...\n",
            "139768       15  2016-12-31 19:00:00  ...           180.0         5.7\n",
            "139769       15  2016-12-31 20:00:00  ...           180.0         7.7\n",
            "139770       15  2016-12-31 21:00:00  ...           180.0         5.1\n",
            "139771       15  2016-12-31 22:00:00  ...           170.0         4.6\n",
            "139772       15  2016-12-31 23:00:00  ...           180.0         8.8\n",
            "\n",
            "[139773 rows x 9 columns]\n",
            "site_id                   0\n",
            "timestamp                 0\n",
            "air_temperature          55\n",
            "cloud_coverage        69173\n",
            "dew_temperature         113\n",
            "precip_depth_1_hr     50289\n",
            "sea_level_pressure    10618\n",
            "wind_direction         6268\n",
            "wind_speed              304\n",
            "dtype: int64\n",
            "136820\n"
          ]
        }
      ]
    },
    {
      "cell_type": "code",
      "metadata": {
        "colab": {
          "base_uri": "https://localhost:8080/"
        },
        "id": "_1zNts_XO6dA",
        "outputId": "689807b5-a28c-4a07-b79a-94d110f15044"
      },
      "source": [
        "data_cuaca.shape"
      ],
      "execution_count": 32,
      "outputs": [
        {
          "output_type": "execute_result",
          "data": {
            "text/plain": [
              "(139773, 9)"
            ]
          },
          "metadata": {},
          "execution_count": 32
        }
      ]
    },
    {
      "cell_type": "code",
      "metadata": {
        "id": "r0-s1VRLJqjG"
      },
      "source": [
        "#hapus cloud coverage karena MV nyaris 50%\n",
        "data_cuaca.drop(\"cloud_coverage\", axis=1, inplace=True)"
      ],
      "execution_count": 33,
      "outputs": []
    },
    {
      "cell_type": "code",
      "metadata": {
        "colab": {
          "base_uri": "https://localhost:8080/",
          "height": 576
        },
        "id": "1xMowsRguS4r",
        "outputId": "d0c41199-481c-4065-8298-d4dce6a8b403"
      },
      "source": [
        "data_cuaca.groupby('site_id').mean()"
      ],
      "execution_count": 34,
      "outputs": [
        {
          "output_type": "execute_result",
          "data": {
            "text/html": [
              "<div>\n",
              "<style scoped>\n",
              "    .dataframe tbody tr th:only-of-type {\n",
              "        vertical-align: middle;\n",
              "    }\n",
              "\n",
              "    .dataframe tbody tr th {\n",
              "        vertical-align: top;\n",
              "    }\n",
              "\n",
              "    .dataframe thead th {\n",
              "        text-align: right;\n",
              "    }\n",
              "</style>\n",
              "<table border=\"1\" class=\"dataframe\">\n",
              "  <thead>\n",
              "    <tr style=\"text-align: right;\">\n",
              "      <th></th>\n",
              "      <th>air_temperature</th>\n",
              "      <th>dew_temperature</th>\n",
              "      <th>precip_depth_1_hr</th>\n",
              "      <th>sea_level_pressure</th>\n",
              "      <th>wind_direction</th>\n",
              "      <th>wind_speed</th>\n",
              "    </tr>\n",
              "    <tr>\n",
              "      <th>site_id</th>\n",
              "      <th></th>\n",
              "      <th></th>\n",
              "      <th></th>\n",
              "      <th></th>\n",
              "      <th></th>\n",
              "      <th></th>\n",
              "    </tr>\n",
              "  </thead>\n",
              "  <tbody>\n",
              "    <tr>\n",
              "      <th>0</th>\n",
              "      <td>22.836021</td>\n",
              "      <td>16.817880</td>\n",
              "      <td>1.382557</td>\n",
              "      <td>1017.988378</td>\n",
              "      <td>156.494024</td>\n",
              "      <td>3.375114</td>\n",
              "    </tr>\n",
              "    <tr>\n",
              "      <th>1</th>\n",
              "      <td>11.711801</td>\n",
              "      <td>7.646473</td>\n",
              "      <td>NaN</td>\n",
              "      <td>1015.989795</td>\n",
              "      <td>195.584475</td>\n",
              "      <td>3.967043</td>\n",
              "    </tr>\n",
              "    <tr>\n",
              "      <th>2</th>\n",
              "      <td>24.940321</td>\n",
              "      <td>4.069506</td>\n",
              "      <td>0.157738</td>\n",
              "      <td>1011.679311</td>\n",
              "      <td>152.777100</td>\n",
              "      <td>2.932764</td>\n",
              "    </tr>\n",
              "    <tr>\n",
              "      <th>3</th>\n",
              "      <td>15.520579</td>\n",
              "      <td>8.126214</td>\n",
              "      <td>0.691868</td>\n",
              "      <td>1017.938692</td>\n",
              "      <td>185.063174</td>\n",
              "      <td>3.910893</td>\n",
              "    </tr>\n",
              "    <tr>\n",
              "      <th>4</th>\n",
              "      <td>15.236366</td>\n",
              "      <td>9.894750</td>\n",
              "      <td>0.248594</td>\n",
              "      <td>1016.887750</td>\n",
              "      <td>207.864715</td>\n",
              "      <td>3.858226</td>\n",
              "    </tr>\n",
              "    <tr>\n",
              "      <th>5</th>\n",
              "      <td>10.867931</td>\n",
              "      <td>8.194676</td>\n",
              "      <td>NaN</td>\n",
              "      <td>NaN</td>\n",
              "      <td>200.053191</td>\n",
              "      <td>4.768087</td>\n",
              "    </tr>\n",
              "    <tr>\n",
              "      <th>6</th>\n",
              "      <td>15.141678</td>\n",
              "      <td>7.320691</td>\n",
              "      <td>0.797768</td>\n",
              "      <td>1017.527954</td>\n",
              "      <td>131.618143</td>\n",
              "      <td>2.197758</td>\n",
              "    </tr>\n",
              "    <tr>\n",
              "      <th>7</th>\n",
              "      <td>7.888867</td>\n",
              "      <td>1.905913</td>\n",
              "      <td>11.350205</td>\n",
              "      <td>1015.252010</td>\n",
              "      <td>208.931739</td>\n",
              "      <td>3.445565</td>\n",
              "    </tr>\n",
              "    <tr>\n",
              "      <th>8</th>\n",
              "      <td>22.836021</td>\n",
              "      <td>16.817880</td>\n",
              "      <td>1.382557</td>\n",
              "      <td>1017.988378</td>\n",
              "      <td>156.494024</td>\n",
              "      <td>3.375114</td>\n",
              "    </tr>\n",
              "    <tr>\n",
              "      <th>9</th>\n",
              "      <td>21.367499</td>\n",
              "      <td>14.613302</td>\n",
              "      <td>0.755158</td>\n",
              "      <td>1016.625114</td>\n",
              "      <td>116.648987</td>\n",
              "      <td>2.083658</td>\n",
              "    </tr>\n",
              "    <tr>\n",
              "      <th>10</th>\n",
              "      <td>11.644679</td>\n",
              "      <td>0.082273</td>\n",
              "      <td>0.457453</td>\n",
              "      <td>1015.668788</td>\n",
              "      <td>179.879971</td>\n",
              "      <td>3.158677</td>\n",
              "    </tr>\n",
              "    <tr>\n",
              "      <th>11</th>\n",
              "      <td>7.888867</td>\n",
              "      <td>1.905913</td>\n",
              "      <td>11.350205</td>\n",
              "      <td>1015.252010</td>\n",
              "      <td>208.931739</td>\n",
              "      <td>3.445565</td>\n",
              "    </tr>\n",
              "    <tr>\n",
              "      <th>12</th>\n",
              "      <td>9.843232</td>\n",
              "      <td>6.519966</td>\n",
              "      <td>NaN</td>\n",
              "      <td>1014.425474</td>\n",
              "      <td>202.774732</td>\n",
              "      <td>5.511399</td>\n",
              "    </tr>\n",
              "    <tr>\n",
              "      <th>13</th>\n",
              "      <td>9.879617</td>\n",
              "      <td>3.401731</td>\n",
              "      <td>0.880515</td>\n",
              "      <td>1015.895371</td>\n",
              "      <td>187.969881</td>\n",
              "      <td>4.197358</td>\n",
              "    </tr>\n",
              "    <tr>\n",
              "      <th>14</th>\n",
              "      <td>13.258409</td>\n",
              "      <td>5.775160</td>\n",
              "      <td>0.742740</td>\n",
              "      <td>1016.377985</td>\n",
              "      <td>187.723813</td>\n",
              "      <td>3.076776</td>\n",
              "    </tr>\n",
              "    <tr>\n",
              "      <th>15</th>\n",
              "      <td>9.357618</td>\n",
              "      <td>4.140469</td>\n",
              "      <td>3.495009</td>\n",
              "      <td>1016.980579</td>\n",
              "      <td>186.525816</td>\n",
              "      <td>3.645490</td>\n",
              "    </tr>\n",
              "  </tbody>\n",
              "</table>\n",
              "</div>"
            ],
            "text/plain": [
              "         air_temperature  dew_temperature  ...  wind_direction  wind_speed\n",
              "site_id                                    ...                            \n",
              "0              22.836021        16.817880  ...      156.494024    3.375114\n",
              "1              11.711801         7.646473  ...      195.584475    3.967043\n",
              "2              24.940321         4.069506  ...      152.777100    2.932764\n",
              "3              15.520579         8.126214  ...      185.063174    3.910893\n",
              "4              15.236366         9.894750  ...      207.864715    3.858226\n",
              "5              10.867931         8.194676  ...      200.053191    4.768087\n",
              "6              15.141678         7.320691  ...      131.618143    2.197758\n",
              "7               7.888867         1.905913  ...      208.931739    3.445565\n",
              "8              22.836021        16.817880  ...      156.494024    3.375114\n",
              "9              21.367499        14.613302  ...      116.648987    2.083658\n",
              "10             11.644679         0.082273  ...      179.879971    3.158677\n",
              "11              7.888867         1.905913  ...      208.931739    3.445565\n",
              "12              9.843232         6.519966  ...      202.774732    5.511399\n",
              "13              9.879617         3.401731  ...      187.969881    4.197358\n",
              "14             13.258409         5.775160  ...      187.723813    3.076776\n",
              "15              9.357618         4.140469  ...      186.525816    3.645490\n",
              "\n",
              "[16 rows x 6 columns]"
            ]
          },
          "metadata": {},
          "execution_count": 34
        }
      ]
    },
    {
      "cell_type": "code",
      "metadata": {
        "colab": {
          "base_uri": "https://localhost:8080/"
        },
        "id": "pcQbV_RcKrnq",
        "outputId": "8effc7bb-f565-4221-f62d-a0f816bac959"
      },
      "source": [
        "data_cuaca.dtypes"
      ],
      "execution_count": 35,
      "outputs": [
        {
          "output_type": "execute_result",
          "data": {
            "text/plain": [
              "site_id                 int64\n",
              "timestamp              object\n",
              "air_temperature       float64\n",
              "dew_temperature       float64\n",
              "precip_depth_1_hr     float64\n",
              "sea_level_pressure    float64\n",
              "wind_direction        float64\n",
              "wind_speed            float64\n",
              "dtype: object"
            ]
          },
          "metadata": {},
          "execution_count": 35
        }
      ]
    },
    {
      "cell_type": "code",
      "metadata": {
        "colab": {
          "base_uri": "https://localhost:8080/"
        },
        "id": "M5BBIcrTvxpA",
        "outputId": "225464aa-9c57-44f8-a17a-950d08b07db2"
      },
      "source": [
        "data_cuaca.info()\n",
        "#dapat dilihat timestamp masih berupa string"
      ],
      "execution_count": 36,
      "outputs": [
        {
          "output_type": "stream",
          "name": "stdout",
          "text": [
            "<class 'pandas.core.frame.DataFrame'>\n",
            "RangeIndex: 139773 entries, 0 to 139772\n",
            "Data columns (total 8 columns):\n",
            " #   Column              Non-Null Count   Dtype  \n",
            "---  ------              --------------   -----  \n",
            " 0   site_id             139773 non-null  int64  \n",
            " 1   timestamp           139773 non-null  object \n",
            " 2   air_temperature     139718 non-null  float64\n",
            " 3   dew_temperature     139660 non-null  float64\n",
            " 4   precip_depth_1_hr   89484 non-null   float64\n",
            " 5   sea_level_pressure  129155 non-null  float64\n",
            " 6   wind_direction      133505 non-null  float64\n",
            " 7   wind_speed          139469 non-null  float64\n",
            "dtypes: float64(6), int64(1), object(1)\n",
            "memory usage: 8.5+ MB\n"
          ]
        }
      ]
    },
    {
      "cell_type": "code",
      "metadata": {
        "colab": {
          "base_uri": "https://localhost:8080/"
        },
        "id": "WmFuhqzxv9LL",
        "outputId": "6d30be1b-2d96-4c0a-b38a-dab7847d8441"
      },
      "source": [
        "#Data timestamp diubah menjadi tipe \n",
        "data_cuaca['timestamp']= pd.to_datetime(data_cuaca['timestamp'])\n",
        "data_cuaca.info()"
      ],
      "execution_count": 37,
      "outputs": [
        {
          "output_type": "stream",
          "name": "stdout",
          "text": [
            "<class 'pandas.core.frame.DataFrame'>\n",
            "RangeIndex: 139773 entries, 0 to 139772\n",
            "Data columns (total 8 columns):\n",
            " #   Column              Non-Null Count   Dtype         \n",
            "---  ------              --------------   -----         \n",
            " 0   site_id             139773 non-null  int64         \n",
            " 1   timestamp           139773 non-null  datetime64[ns]\n",
            " 2   air_temperature     139718 non-null  float64       \n",
            " 3   dew_temperature     139660 non-null  float64       \n",
            " 4   precip_depth_1_hr   89484 non-null   float64       \n",
            " 5   sea_level_pressure  129155 non-null  float64       \n",
            " 6   wind_direction      133505 non-null  float64       \n",
            " 7   wind_speed          139469 non-null  float64       \n",
            "dtypes: datetime64[ns](1), float64(6), int64(1)\n",
            "memory usage: 8.5 MB\n"
          ]
        }
      ]
    },
    {
      "cell_type": "code",
      "metadata": {
        "colab": {
          "base_uri": "https://localhost:8080/",
          "height": 285
        },
        "id": "RW2x2XRLM0th",
        "outputId": "f02fc367-31b9-4a92-970d-f3cde79a3de6"
      },
      "source": [
        "p = sns.distplot(data_cuaca['air_temperature'], kde=True, rug=True)\n",
        "#ditemukan bahwa distribusi dapat dikatakan normal/? apa menceng si"
      ],
      "execution_count": 38,
      "outputs": [
        {
          "output_type": "display_data",
          "data": {
            "image/png": "[encoded data removed]",
            "text/plain": [
              "<Figure size 432x288 with 1 Axes>"
            ]
          },
          "metadata": {
            "needs_background": "light"
          }
        }
      ]
    },
    {
      "cell_type": "code",
      "metadata": {
        "colab": {
          "base_uri": "https://localhost:8080/",
          "height": 438
        },
        "id": "RaZvtISuIVVr",
        "outputId": "e1322132-8ef0-403e-fe5b-e91a67a39990"
      },
      "source": [
        "# Melihat data untuk air temperature\n",
        "print(data_cuaca['air_temperature'].describe())\n",
        "data_cuaca['air_temperature'].hist()"
      ],
      "execution_count": 39,
      "outputs": [
        {
          "output_type": "stream",
          "name": "stdout",
          "text": [
            "count    139718.000000\n",
            "mean         14.418106\n",
            "std          10.626595\n",
            "min         -28.900000\n",
            "25%           7.200000\n",
            "50%          15.000000\n",
            "75%          22.200000\n",
            "max          47.200000\n",
            "Name: air_temperature, dtype: float64\n"
          ]
        },
        {
          "output_type": "execute_result",
          "data": {
            "text/plain": [
              "<matplotlib.axes._subplots.AxesSubplot at 0x7f14826344d0>"
            ]
          },
          "metadata": {},
          "execution_count": 39
        },
        {
          "output_type": "display_data",
          "data": {
            "image/png": "[encoded data removed]",
            "text/plain": [
              "<Figure size 432x288 with 1 Axes>"
            ]
          },
          "metadata": {
            "needs_background": "light"
          }
        }
      ]
    },
    {
      "cell_type": "code",
      "metadata": {
        "id": "HvZhja9LIi2A"
      },
      "source": [
        "# # Memasukan missing data air temperature berdasarkan median\n",
        "data_cuaca['air_temperature'] = data_cuaca['air_temperature'].replace(np.nan, 15)"
      ],
      "execution_count": 40,
      "outputs": []
    },
    {
      "cell_type": "code",
      "metadata": {
        "colab": {
          "base_uri": "https://localhost:8080/",
          "height": 285
        },
        "id": "lNi-zw_aOxHV",
        "outputId": "9d3bf450-4ac1-4b98-f708-1902491977e5"
      },
      "source": [
        "p = sns.distplot(data_cuaca['dew_temperature'], kde=True, rug=True)\n",
        "#ditemukan bahwa data menceng kanan sehingga missing values diganti dengan median"
      ],
      "execution_count": 41,
      "outputs": [
        {
          "output_type": "display_data",
          "data": {
            "image/png": "[encoded data removed]",
            "text/plain": [
              "<Figure size 432x288 with 1 Axes>"
            ]
          },
          "metadata": {
            "needs_background": "light"
          }
        }
      ]
    },
    {
      "cell_type": "code",
      "metadata": {
        "id": "vVdymaXgCmUh"
      },
      "source": [
        ""
      ],
      "execution_count": 41,
      "outputs": []
    },
    {
      "cell_type": "code",
      "metadata": {
        "colab": {
          "base_uri": "https://localhost:8080/",
          "height": 438
        },
        "id": "yRoUMwjACmWd",
        "outputId": "03a2a4b1-11fb-4e25-82fe-24699560da50"
      },
      "source": [
        "# Melihat data untuk precip depth\n",
        "print(data_cuaca['precip_depth_1_hr'].describe())\n",
        "data_cuaca['precip_depth_1_hr'].hist()"
      ],
      "execution_count": 42,
      "outputs": [
        {
          "output_type": "stream",
          "name": "stdout",
          "text": [
            "count    89484.000000\n",
            "mean         0.983047\n",
            "std          8.463678\n",
            "min         -1.000000\n",
            "25%          0.000000\n",
            "50%          0.000000\n",
            "75%          0.000000\n",
            "max        343.000000\n",
            "Name: precip_depth_1_hr, dtype: float64\n"
          ]
        },
        {
          "output_type": "execute_result",
          "data": {
            "text/plain": [
              "<matplotlib.axes._subplots.AxesSubplot at 0x7f147d7acc50>"
            ]
          },
          "metadata": {},
          "execution_count": 42
        },
        {
          "output_type": "display_data",
          "data": {
            "image/png": "[encoded data removed]",
            "text/plain": [
              "<Figure size 432x288 with 1 Axes>"
            ]
          },
          "metadata": {
            "needs_background": "light"
          }
        }
      ]
    },
    {
      "cell_type": "code",
      "metadata": {
        "colab": {
          "base_uri": "https://localhost:8080/",
          "height": 824
        },
        "id": "3CCR9bBPok39",
        "outputId": "f9a45b81-71b6-4afa-d40e-33e5519d057e"
      },
      "source": [
        "data_cuaca[\"hours\"] = data_cuaca[\"timestamp\"].dt.hour\n",
        "data_cuaca.groupby([\"hours\"]).mean()"
      ],
      "execution_count": 43,
      "outputs": [
        {
          "output_type": "execute_result",
          "data": {
            "text/html": [
              "<div>\n",
              "<style scoped>\n",
              "    .dataframe tbody tr th:only-of-type {\n",
              "        vertical-align: middle;\n",
              "    }\n",
              "\n",
              "    .dataframe tbody tr th {\n",
              "        vertical-align: top;\n",
              "    }\n",
              "\n",
              "    .dataframe thead th {\n",
              "        text-align: right;\n",
              "    }\n",
              "</style>\n",
              "<table border=\"1\" class=\"dataframe\">\n",
              "  <thead>\n",
              "    <tr style=\"text-align: right;\">\n",
              "      <th></th>\n",
              "      <th>site_id</th>\n",
              "      <th>air_temperature</th>\n",
              "      <th>dew_temperature</th>\n",
              "      <th>precip_depth_1_hr</th>\n",
              "      <th>sea_level_pressure</th>\n",
              "      <th>wind_direction</th>\n",
              "      <th>wind_speed</th>\n",
              "    </tr>\n",
              "    <tr>\n",
              "      <th>hours</th>\n",
              "      <th></th>\n",
              "      <th></th>\n",
              "      <th></th>\n",
              "      <th></th>\n",
              "      <th></th>\n",
              "      <th></th>\n",
              "      <th></th>\n",
              "    </tr>\n",
              "  </thead>\n",
              "  <tbody>\n",
              "    <tr>\n",
              "      <th>0</th>\n",
              "      <td>7.487905</td>\n",
              "      <td>15.777526</td>\n",
              "      <td>7.103690</td>\n",
              "      <td>1.206971</td>\n",
              "      <td>1015.566358</td>\n",
              "      <td>191.099893</td>\n",
              "      <td>3.775352</td>\n",
              "    </tr>\n",
              "    <tr>\n",
              "      <th>1</th>\n",
              "      <td>7.482723</td>\n",
              "      <td>14.985989</td>\n",
              "      <td>7.204729</td>\n",
              "      <td>1.549368</td>\n",
              "      <td>1015.777885</td>\n",
              "      <td>184.840865</td>\n",
              "      <td>3.529468</td>\n",
              "    </tr>\n",
              "    <tr>\n",
              "      <th>2</th>\n",
              "      <td>7.484313</td>\n",
              "      <td>14.246528</td>\n",
              "      <td>7.249811</td>\n",
              "      <td>0.931183</td>\n",
              "      <td>1015.970562</td>\n",
              "      <td>179.961538</td>\n",
              "      <td>3.379722</td>\n",
              "    </tr>\n",
              "    <tr>\n",
              "      <th>3</th>\n",
              "      <td>7.476215</td>\n",
              "      <td>13.630706</td>\n",
              "      <td>7.312818</td>\n",
              "      <td>0.880882</td>\n",
              "      <td>1016.131645</td>\n",
              "      <td>177.488104</td>\n",
              "      <td>3.191231</td>\n",
              "    </tr>\n",
              "    <tr>\n",
              "      <th>4</th>\n",
              "      <td>7.467928</td>\n",
              "      <td>13.143577</td>\n",
              "      <td>7.382527</td>\n",
              "      <td>0.902991</td>\n",
              "      <td>1016.188532</td>\n",
              "      <td>176.859996</td>\n",
              "      <td>3.105524</td>\n",
              "    </tr>\n",
              "    <tr>\n",
              "      <th>5</th>\n",
              "      <td>7.461975</td>\n",
              "      <td>12.712285</td>\n",
              "      <td>7.373145</td>\n",
              "      <td>0.661634</td>\n",
              "      <td>1016.220893</td>\n",
              "      <td>175.702741</td>\n",
              "      <td>3.021792</td>\n",
              "    </tr>\n",
              "    <tr>\n",
              "      <th>6</th>\n",
              "      <td>7.454405</td>\n",
              "      <td>12.373056</td>\n",
              "      <td>7.364871</td>\n",
              "      <td>0.885768</td>\n",
              "      <td>1016.136711</td>\n",
              "      <td>174.530150</td>\n",
              "      <td>3.005597</td>\n",
              "    </tr>\n",
              "    <tr>\n",
              "      <th>7</th>\n",
              "      <td>7.456001</td>\n",
              "      <td>12.161236</td>\n",
              "      <td>7.394690</td>\n",
              "      <td>0.810377</td>\n",
              "      <td>1016.080880</td>\n",
              "      <td>173.282766</td>\n",
              "      <td>2.984997</td>\n",
              "    </tr>\n",
              "    <tr>\n",
              "      <th>8</th>\n",
              "      <td>7.467423</td>\n",
              "      <td>11.950507</td>\n",
              "      <td>7.350654</td>\n",
              "      <td>0.723490</td>\n",
              "      <td>1015.990906</td>\n",
              "      <td>171.604873</td>\n",
              "      <td>3.005113</td>\n",
              "    </tr>\n",
              "    <tr>\n",
              "      <th>9</th>\n",
              "      <td>7.464617</td>\n",
              "      <td>11.827808</td>\n",
              "      <td>7.331763</td>\n",
              "      <td>0.751142</td>\n",
              "      <td>1016.010132</td>\n",
              "      <td>169.002812</td>\n",
              "      <td>3.043957</td>\n",
              "    </tr>\n",
              "    <tr>\n",
              "      <th>10</th>\n",
              "      <td>7.465911</td>\n",
              "      <td>11.763490</td>\n",
              "      <td>7.304505</td>\n",
              "      <td>0.854808</td>\n",
              "      <td>1016.113722</td>\n",
              "      <td>168.719437</td>\n",
              "      <td>3.073741</td>\n",
              "    </tr>\n",
              "    <tr>\n",
              "      <th>11</th>\n",
              "      <td>7.470780</td>\n",
              "      <td>11.908096</td>\n",
              "      <td>7.390778</td>\n",
              "      <td>0.824114</td>\n",
              "      <td>1016.280787</td>\n",
              "      <td>166.676056</td>\n",
              "      <td>3.121542</td>\n",
              "    </tr>\n",
              "    <tr>\n",
              "      <th>12</th>\n",
              "      <td>7.494098</td>\n",
              "      <td>12.181300</td>\n",
              "      <td>7.414364</td>\n",
              "      <td>0.857983</td>\n",
              "      <td>1016.533826</td>\n",
              "      <td>168.941465</td>\n",
              "      <td>3.261350</td>\n",
              "    </tr>\n",
              "    <tr>\n",
              "      <th>13</th>\n",
              "      <td>7.487914</td>\n",
              "      <td>12.850300</td>\n",
              "      <td>7.579650</td>\n",
              "      <td>0.782075</td>\n",
              "      <td>1016.784854</td>\n",
              "      <td>169.610619</td>\n",
              "      <td>3.435616</td>\n",
              "    </tr>\n",
              "    <tr>\n",
              "      <th>14</th>\n",
              "      <td>7.486190</td>\n",
              "      <td>13.780460</td>\n",
              "      <td>7.651875</td>\n",
              "      <td>0.797024</td>\n",
              "      <td>1016.956880</td>\n",
              "      <td>171.084965</td>\n",
              "      <td>3.674192</td>\n",
              "    </tr>\n",
              "    <tr>\n",
              "      <th>15</th>\n",
              "      <td>7.491246</td>\n",
              "      <td>14.796087</td>\n",
              "      <td>7.650567</td>\n",
              "      <td>0.908003</td>\n",
              "      <td>1017.060895</td>\n",
              "      <td>174.681061</td>\n",
              "      <td>3.864724</td>\n",
              "    </tr>\n",
              "    <tr>\n",
              "      <th>16</th>\n",
              "      <td>7.487448</td>\n",
              "      <td>15.771888</td>\n",
              "      <td>7.615961</td>\n",
              "      <td>0.787846</td>\n",
              "      <td>1017.030487</td>\n",
              "      <td>178.598096</td>\n",
              "      <td>4.012825</td>\n",
              "    </tr>\n",
              "    <tr>\n",
              "      <th>17</th>\n",
              "      <td>7.486496</td>\n",
              "      <td>16.549389</td>\n",
              "      <td>7.543364</td>\n",
              "      <td>0.850254</td>\n",
              "      <td>1016.782997</td>\n",
              "      <td>183.716395</td>\n",
              "      <td>4.087256</td>\n",
              "    </tr>\n",
              "    <tr>\n",
              "      <th>18</th>\n",
              "      <td>7.488687</td>\n",
              "      <td>17.080699</td>\n",
              "      <td>7.418607</td>\n",
              "      <td>0.820767</td>\n",
              "      <td>1016.383454</td>\n",
              "      <td>190.306025</td>\n",
              "      <td>4.138825</td>\n",
              "    </tr>\n",
              "    <tr>\n",
              "      <th>19</th>\n",
              "      <td>7.487127</td>\n",
              "      <td>17.505836</td>\n",
              "      <td>7.315573</td>\n",
              "      <td>1.174624</td>\n",
              "      <td>1015.978634</td>\n",
              "      <td>195.952264</td>\n",
              "      <td>4.180152</td>\n",
              "    </tr>\n",
              "    <tr>\n",
              "      <th>20</th>\n",
              "      <td>7.483262</td>\n",
              "      <td>17.648412</td>\n",
              "      <td>7.212390</td>\n",
              "      <td>1.297600</td>\n",
              "      <td>1015.622253</td>\n",
              "      <td>198.233958</td>\n",
              "      <td>4.200794</td>\n",
              "    </tr>\n",
              "    <tr>\n",
              "      <th>21</th>\n",
              "      <td>7.488946</td>\n",
              "      <td>17.534259</td>\n",
              "      <td>7.090466</td>\n",
              "      <td>1.341208</td>\n",
              "      <td>1015.435506</td>\n",
              "      <td>201.053407</td>\n",
              "      <td>4.234596</td>\n",
              "    </tr>\n",
              "    <tr>\n",
              "      <th>22</th>\n",
              "      <td>7.487663</td>\n",
              "      <td>17.223715</td>\n",
              "      <td>7.072374</td>\n",
              "      <td>1.651613</td>\n",
              "      <td>1015.340390</td>\n",
              "      <td>199.190276</td>\n",
              "      <td>4.148865</td>\n",
              "    </tr>\n",
              "    <tr>\n",
              "      <th>23</th>\n",
              "      <td>7.485842</td>\n",
              "      <td>16.611172</td>\n",
              "      <td>7.076932</td>\n",
              "      <td>1.348142</td>\n",
              "      <td>1015.417506</td>\n",
              "      <td>196.275391</td>\n",
              "      <td>3.983500</td>\n",
              "    </tr>\n",
              "  </tbody>\n",
              "</table>\n",
              "</div>"
            ],
            "text/plain": [
              "        site_id  air_temperature  ...  wind_direction  wind_speed\n",
              "hours                             ...                            \n",
              "0      7.487905        15.777526  ...      191.099893    3.775352\n",
              "1      7.482723        14.985989  ...      184.840865    3.529468\n",
              "2      7.484313        14.246528  ...      179.961538    3.379722\n",
              "3      7.476215        13.630706  ...      177.488104    3.191231\n",
              "4      7.467928        13.143577  ...      176.859996    3.105524\n",
              "5      7.461975        12.712285  ...      175.702741    3.021792\n",
              "6      7.454405        12.373056  ...      174.530150    3.005597\n",
              "7      7.456001        12.161236  ...      173.282766    2.984997\n",
              "8      7.467423        11.950507  ...      171.604873    3.005113\n",
              "9      7.464617        11.827808  ...      169.002812    3.043957\n",
              "10     7.465911        11.763490  ...      168.719437    3.073741\n",
              "11     7.470780        11.908096  ...      166.676056    3.121542\n",
              "12     7.494098        12.181300  ...      168.941465    3.261350\n",
              "13     7.487914        12.850300  ...      169.610619    3.435616\n",
              "14     7.486190        13.780460  ...      171.084965    3.674192\n",
              "15     7.491246        14.796087  ...      174.681061    3.864724\n",
              "16     7.487448        15.771888  ...      178.598096    4.012825\n",
              "17     7.486496        16.549389  ...      183.716395    4.087256\n",
              "18     7.488687        17.080699  ...      190.306025    4.138825\n",
              "19     7.487127        17.505836  ...      195.952264    4.180152\n",
              "20     7.483262        17.648412  ...      198.233958    4.200794\n",
              "21     7.488946        17.534259  ...      201.053407    4.234596\n",
              "22     7.487663        17.223715  ...      199.190276    4.148865\n",
              "23     7.485842        16.611172  ...      196.275391    3.983500\n",
              "\n",
              "[24 rows x 7 columns]"
            ]
          },
          "metadata": {},
          "execution_count": 43
        }
      ]
    },
    {
      "cell_type": "code",
      "metadata": {
        "id": "BiPweUxpou45"
      },
      "source": [
        "dasuho0= data_cuaca[data_cuaca[\"hours\"]==0]\n",
        "dasuho1= data_cuaca[data_cuaca[\"hours\"]==1]\n",
        "dasuho2= data_cuaca[data_cuaca[\"hours\"]==2]\n",
        "dasuho3= data_cuaca[data_cuaca[\"hours\"]==3]\n",
        "dasuho4= data_cuaca[data_cuaca[\"hours\"]==4]\n",
        "dasuho5= data_cuaca[data_cuaca[\"hours\"]==5]\n",
        "dasuho6= data_cuaca[data_cuaca[\"hours\"]==6]\n",
        "dasuho7= data_cuaca[data_cuaca[\"hours\"]==7]\n",
        "dasuho8= data_cuaca[data_cuaca[\"hours\"]==8]\n",
        "dasuho9= data_cuaca[data_cuaca[\"hours\"]==9]\n",
        "dasuho10= data_cuaca[data_cuaca[\"hours\"]==10]\n",
        "dasuho11= data_cuaca[data_cuaca[\"hours\"]==11]\n",
        "dasuho12= data_cuaca[data_cuaca[\"hours\"]==12]\n",
        "dasuho13= data_cuaca[data_cuaca[\"hours\"]==13]\n",
        "dasuho14= data_cuaca[data_cuaca[\"hours\"]==14]\n",
        "dasuho15= data_cuaca[data_cuaca[\"hours\"]==15]\n",
        "dasuho16= data_cuaca[data_cuaca[\"hours\"]==16]\n",
        "dasuho17= data_cuaca[data_cuaca[\"hours\"]==17]\n",
        "dasuho18= data_cuaca[data_cuaca[\"hours\"]==18]\n",
        "dasuho19= data_cuaca[data_cuaca[\"hours\"]==19]\n",
        "dasuho20= data_cuaca[data_cuaca[\"hours\"]==20]\n",
        "dasuho21= data_cuaca[data_cuaca[\"hours\"]==21]\n",
        "dasuho22= data_cuaca[data_cuaca[\"hours\"]==22]\n",
        "dasuho23= data_cuaca[data_cuaca[\"hours\"]==23]"
      ],
      "execution_count": 44,
      "outputs": []
    },
    {
      "cell_type": "code",
      "metadata": {
        "id": "Ap-FpZIpov2T"
      },
      "source": [
        "dasuho0['precip_depth_1_hr']= dasuho0.replace(np.nan,1.2)\n",
        "dasuho1['precip_depth_1_hr']= dasuho1.replace(np.nan,1.5)\n",
        "dasuho2['precip_depth_1_hr']= dasuho2.replace(np.nan,0.9)\n",
        "dasuho3['precip_depth_1_hr']= dasuho3.replace(np.nan,0.9)\n",
        "dasuho4['precip_depth_1_hr']= dasuho4.replace(np.nan,0.9)\n",
        "dasuho5['precip_depth_1_hr']= dasuho5.replace(np.nan,0.7)\n",
        "dasuho6['precip_depth_1_hr']= dasuho6.replace(np.nan,0.9)\n",
        "dasuho7['precip_depth_1_hr']= dasuho7.replace(np.nan,0.8)\n",
        "dasuho8['precip_depth_1_hr']= dasuho8.replace(np.nan,0.7)\n",
        "dasuho9['precip_depth_1_hr']= dasuho9.replace(np.nan,0.7)\n",
        "dasuho10['precip_depth_1_hr']= dasuho10.replace(np.nan,0.8)\n",
        "dasuho11['precip_depth_1_hr']= dasuho11.replace(np.nan,0.8)\n",
        "dasuho12['precip_depth_1_hr']= dasuho12.replace(np.nan,0.8)\n",
        "dasuho13['precip_depth_1_hr']= dasuho13.replace(np.nan,0.8)\n",
        "dasuho14['precip_depth_1_hr']= dasuho14.replace(np.nan,0.8)\n",
        "dasuho15['precip_depth_1_hr']= dasuho15.replace(np.nan,0.9)\n",
        "dasuho16['precip_depth_1_hr']= dasuho16.replace(np.nan,0.8)\n",
        "dasuho17['precip_depth_1_hr']= dasuho17.replace(np.nan,0.8)\n",
        "dasuho18['precip_depth_1_hr']= dasuho18.replace(np.nan,0.8)\n",
        "dasuho19['precip_depth_1_hr']= dasuho19.replace(np.nan,1.2)\n",
        "dasuho20['precip_depth_1_hr']= dasuho20.replace(np.nan,1.3)\n",
        "dasuho21['precip_depth_1_hr']= dasuho21.replace(np.nan,1.3)\n",
        "dasuho22['precip_depth_1_hr']= dasuho22.replace(np.nan,1.6)\n",
        "dasuho23['precip_depth_1_hr']= dasuho23.replace(np.nan,1.3)\n",
        "data_cuaca = pd.concat([dasuho0,dasuho1,dasuho2\n",
        "                        ,dasuho3,dasuho4,dasuho5\n",
        "                        ,dasuho6,dasuho7,dasuho8\n",
        "                        ,dasuho9,dasuho10,dasuho11\n",
        "                        ,dasuho12,dasuho13,dasuho14\n",
        "                        ,dasuho15,dasuho16,dasuho17\n",
        "                        ,dasuho18,dasuho19,dasuho20\n",
        "                        ,dasuho21,dasuho22,dasuho23])"
      ],
      "execution_count": 45,
      "outputs": []
    },
    {
      "cell_type": "code",
      "metadata": {
        "colab": {
          "base_uri": "https://localhost:8080/",
          "height": 441
        },
        "id": "OEy8Ljk_MQBx",
        "outputId": "fec239a1-2fdf-483c-a7e3-d7692c0e373c"
      },
      "source": [
        "# Melihat data untuk dew temperature\n",
        "print(data_cuaca['dew_temperature'].describe())\n",
        "data_cuaca['dew_temperature'].hist()"
      ],
      "execution_count": 46,
      "outputs": [
        {
          "output_type": "stream",
          "name": "stdout",
          "text": [
            "count    139660.000000\n",
            "mean          7.350158\n",
            "std           9.790235\n",
            "min         -35.000000\n",
            "25%           0.600000\n",
            "50%           8.300000\n",
            "75%          14.400000\n",
            "max          26.100000\n",
            "Name: dew_temperature, dtype: float64\n"
          ]
        },
        {
          "output_type": "execute_result",
          "data": {
            "text/plain": [
              "<matplotlib.axes._subplots.AxesSubplot at 0x7f147d6d5e50>"
            ]
          },
          "metadata": {},
          "execution_count": 46
        },
        {
          "output_type": "display_data",
          "data": {
            "image/png": "[encoded data removed]",
            "text/plain": [
              "<Figure size 432x288 with 1 Axes>"
            ]
          },
          "metadata": {
            "needs_background": "light"
          }
        }
      ]
    },
    {
      "cell_type": "code",
      "metadata": {
        "id": "Wh7t7oGkN8tL"
      },
      "source": [
        "# # Memasukan missing data dew temperature berdasarkan median\n",
        "data_cuaca['dew_temperature'] = data_cuaca['dew_temperature'].replace(np.nan, 8.3)"
      ],
      "execution_count": 47,
      "outputs": []
    },
    {
      "cell_type": "code",
      "metadata": {
        "colab": {
          "base_uri": "https://localhost:8080/",
          "height": 285
        },
        "id": "FoKIZXsBPHV_",
        "outputId": "002d936c-cc95-4592-cfe1-f664b00affa3"
      },
      "source": [
        "p = sns.distplot(data_cuaca['sea_level_pressure'], kde=True, rug=True)\n",
        "#Terlihat bahwa kemungkinan data berdistribusi normal, sehingga missing value akan diganti dengan nilai mean"
      ],
      "execution_count": 48,
      "outputs": [
        {
          "output_type": "display_data",
          "data": {
            "image/png": "[encoded data removed]",
            "text/plain": [
              "<Figure size 432x288 with 1 Axes>"
            ]
          },
          "metadata": {
            "needs_background": "light"
          }
        }
      ]
    },
    {
      "cell_type": "code",
      "metadata": {
        "colab": {
          "base_uri": "https://localhost:8080/",
          "height": 438
        },
        "id": "gYpdeazkdSwK",
        "outputId": "e90d8e33-9e3f-4fe8-bcb9-788ec72cf78b"
      },
      "source": [
        "# Melihat data untuk sea_level_pressure\n",
        "print(data_cuaca['sea_level_pressure'].describe())\n",
        "data_cuaca['sea_level_pressure'].hist()"
      ],
      "execution_count": 49,
      "outputs": [
        {
          "output_type": "stream",
          "name": "stdout",
          "text": [
            "count    129155.000000\n",
            "mean       1016.158038\n",
            "std           7.629684\n",
            "min         968.200000\n",
            "25%        1011.800000\n",
            "50%        1016.400000\n",
            "75%        1020.800000\n",
            "max        1045.500000\n",
            "Name: sea_level_pressure, dtype: float64\n"
          ]
        },
        {
          "output_type": "execute_result",
          "data": {
            "text/plain": [
              "<matplotlib.axes._subplots.AxesSubplot at 0x7f1483e08150>"
            ]
          },
          "metadata": {},
          "execution_count": 49
        },
        {
          "output_type": "display_data",
          "data": {
            "image/png": "[encoded data removed]",
            "text/plain": [
              "<Figure size 432x288 with 1 Axes>"
            ]
          },
          "metadata": {
            "needs_background": "light"
          }
        }
      ]
    },
    {
      "cell_type": "code",
      "metadata": {
        "id": "DcWI4pL3eEot"
      },
      "source": [
        "# Memasukan missing data sea level pressure berdasarkan mean\n",
        "data_cuaca['sea_level_pressure'] = data_cuaca['sea_level_pressure'].replace(np.nan, 1016.158038)"
      ],
      "execution_count": 50,
      "outputs": []
    },
    {
      "cell_type": "code",
      "metadata": {
        "colab": {
          "base_uri": "https://localhost:8080/",
          "height": 285
        },
        "id": "4Tmyo0ESQHeC",
        "outputId": "e5dc95d7-1d8a-45e3-8eaa-207cc24a0d08"
      },
      "source": [
        "p = sns.distplot(data_cuaca['wind_direction'], kde=True, rug=True)"
      ],
      "execution_count": 51,
      "outputs": [
        {
          "output_type": "display_data",
          "data": {
            "image/png": "[encoded data removed]",
            "text/plain": [
              "<Figure size 432x288 with 1 Axes>"
            ]
          },
          "metadata": {
            "needs_background": "light"
          }
        }
      ]
    },
    {
      "cell_type": "code",
      "metadata": {
        "colab": {
          "base_uri": "https://localhost:8080/",
          "height": 576
        },
        "id": "Eyu24icX4GAp",
        "outputId": "669873ca-b5e3-4ec1-83bf-673abdcd53ed"
      },
      "source": [
        "data_cuaca.groupby('site_id').mean()"
      ],
      "execution_count": 52,
      "outputs": [
        {
          "output_type": "execute_result",
          "data": {
            "text/html": [
              "<div>\n",
              "<style scoped>\n",
              "    .dataframe tbody tr th:only-of-type {\n",
              "        vertical-align: middle;\n",
              "    }\n",
              "\n",
              "    .dataframe tbody tr th {\n",
              "        vertical-align: top;\n",
              "    }\n",
              "\n",
              "    .dataframe thead th {\n",
              "        text-align: right;\n",
              "    }\n",
              "</style>\n",
              "<table border=\"1\" class=\"dataframe\">\n",
              "  <thead>\n",
              "    <tr style=\"text-align: right;\">\n",
              "      <th></th>\n",
              "      <th>air_temperature</th>\n",
              "      <th>dew_temperature</th>\n",
              "      <th>sea_level_pressure</th>\n",
              "      <th>wind_direction</th>\n",
              "      <th>wind_speed</th>\n",
              "      <th>hours</th>\n",
              "    </tr>\n",
              "    <tr>\n",
              "      <th>site_id</th>\n",
              "      <th></th>\n",
              "      <th></th>\n",
              "      <th></th>\n",
              "      <th></th>\n",
              "      <th></th>\n",
              "      <th></th>\n",
              "    </tr>\n",
              "  </thead>\n",
              "  <tbody>\n",
              "    <tr>\n",
              "      <th>0</th>\n",
              "      <td>22.833345</td>\n",
              "      <td>16.814970</td>\n",
              "      <td>1017.970666</td>\n",
              "      <td>156.494024</td>\n",
              "      <td>3.375114</td>\n",
              "      <td>11.500000</td>\n",
              "    </tr>\n",
              "    <tr>\n",
              "      <th>1</th>\n",
              "      <td>11.712176</td>\n",
              "      <td>7.646548</td>\n",
              "      <td>1015.990793</td>\n",
              "      <td>195.584475</td>\n",
              "      <td>3.967043</td>\n",
              "      <td>11.498688</td>\n",
              "    </tr>\n",
              "    <tr>\n",
              "      <th>2</th>\n",
              "      <td>24.939189</td>\n",
              "      <td>4.069987</td>\n",
              "      <td>1011.701748</td>\n",
              "      <td>152.777100</td>\n",
              "      <td>2.932764</td>\n",
              "      <td>11.498918</td>\n",
              "    </tr>\n",
              "    <tr>\n",
              "      <th>3</th>\n",
              "      <td>15.520342</td>\n",
              "      <td>8.126333</td>\n",
              "      <td>1017.906648</td>\n",
              "      <td>185.063174</td>\n",
              "      <td>3.910893</td>\n",
              "      <td>11.503531</td>\n",
              "    </tr>\n",
              "    <tr>\n",
              "      <th>4</th>\n",
              "      <td>15.236366</td>\n",
              "      <td>9.894387</td>\n",
              "      <td>1016.881685</td>\n",
              "      <td>207.864715</td>\n",
              "      <td>3.858226</td>\n",
              "      <td>11.501309</td>\n",
              "    </tr>\n",
              "    <tr>\n",
              "      <th>5</th>\n",
              "      <td>10.868875</td>\n",
              "      <td>8.194700</td>\n",
              "      <td>1016.158038</td>\n",
              "      <td>200.053191</td>\n",
              "      <td>4.768087</td>\n",
              "      <td>11.499829</td>\n",
              "    </tr>\n",
              "    <tr>\n",
              "      <th>6</th>\n",
              "      <td>15.141517</td>\n",
              "      <td>7.321806</td>\n",
              "      <td>1017.500656</td>\n",
              "      <td>131.618143</td>\n",
              "      <td>2.197758</td>\n",
              "      <td>11.501025</td>\n",
              "    </tr>\n",
              "    <tr>\n",
              "      <th>7</th>\n",
              "      <td>7.888867</td>\n",
              "      <td>1.922986</td>\n",
              "      <td>1015.252852</td>\n",
              "      <td>208.931739</td>\n",
              "      <td>3.445565</td>\n",
              "      <td>11.482238</td>\n",
              "    </tr>\n",
              "    <tr>\n",
              "      <th>8</th>\n",
              "      <td>22.833345</td>\n",
              "      <td>16.814970</td>\n",
              "      <td>1017.970666</td>\n",
              "      <td>156.494024</td>\n",
              "      <td>3.375114</td>\n",
              "      <td>11.500000</td>\n",
              "    </tr>\n",
              "    <tr>\n",
              "      <th>9</th>\n",
              "      <td>21.363872</td>\n",
              "      <td>14.608269</td>\n",
              "      <td>1016.612400</td>\n",
              "      <td>116.648987</td>\n",
              "      <td>2.083658</td>\n",
              "      <td>11.502392</td>\n",
              "    </tr>\n",
              "    <tr>\n",
              "      <th>10</th>\n",
              "      <td>11.653849</td>\n",
              "      <td>0.107538</td>\n",
              "      <td>1015.676644</td>\n",
              "      <td>179.879971</td>\n",
              "      <td>3.158677</td>\n",
              "      <td>11.500797</td>\n",
              "    </tr>\n",
              "    <tr>\n",
              "      <th>11</th>\n",
              "      <td>7.888867</td>\n",
              "      <td>1.922986</td>\n",
              "      <td>1015.252852</td>\n",
              "      <td>208.931739</td>\n",
              "      <td>3.445565</td>\n",
              "      <td>11.482238</td>\n",
              "    </tr>\n",
              "    <tr>\n",
              "      <th>12</th>\n",
              "      <td>9.843232</td>\n",
              "      <td>6.519966</td>\n",
              "      <td>1014.436556</td>\n",
              "      <td>202.774732</td>\n",
              "      <td>5.511399</td>\n",
              "      <td>11.502913</td>\n",
              "    </tr>\n",
              "    <tr>\n",
              "      <th>13</th>\n",
              "      <td>9.880200</td>\n",
              "      <td>3.402289</td>\n",
              "      <td>1015.898960</td>\n",
              "      <td>187.969881</td>\n",
              "      <td>4.197358</td>\n",
              "      <td>11.499146</td>\n",
              "    </tr>\n",
              "    <tr>\n",
              "      <th>14</th>\n",
              "      <td>13.258608</td>\n",
              "      <td>5.775447</td>\n",
              "      <td>1016.375229</td>\n",
              "      <td>187.723813</td>\n",
              "      <td>3.076776</td>\n",
              "      <td>11.503361</td>\n",
              "    </tr>\n",
              "    <tr>\n",
              "      <th>15</th>\n",
              "      <td>9.357618</td>\n",
              "      <td>4.141945</td>\n",
              "      <td>1016.931055</td>\n",
              "      <td>186.525816</td>\n",
              "      <td>3.645490</td>\n",
              "      <td>11.590253</td>\n",
              "    </tr>\n",
              "  </tbody>\n",
              "</table>\n",
              "</div>"
            ],
            "text/plain": [
              "         air_temperature  dew_temperature  ...  wind_speed      hours\n",
              "site_id                                    ...                       \n",
              "0              22.833345        16.814970  ...    3.375114  11.500000\n",
              "1              11.712176         7.646548  ...    3.967043  11.498688\n",
              "2              24.939189         4.069987  ...    2.932764  11.498918\n",
              "3              15.520342         8.126333  ...    3.910893  11.503531\n",
              "4              15.236366         9.894387  ...    3.858226  11.501309\n",
              "5              10.868875         8.194700  ...    4.768087  11.499829\n",
              "6              15.141517         7.321806  ...    2.197758  11.501025\n",
              "7               7.888867         1.922986  ...    3.445565  11.482238\n",
              "8              22.833345        16.814970  ...    3.375114  11.500000\n",
              "9              21.363872        14.608269  ...    2.083658  11.502392\n",
              "10             11.653849         0.107538  ...    3.158677  11.500797\n",
              "11              7.888867         1.922986  ...    3.445565  11.482238\n",
              "12              9.843232         6.519966  ...    5.511399  11.502913\n",
              "13              9.880200         3.402289  ...    4.197358  11.499146\n",
              "14             13.258608         5.775447  ...    3.076776  11.503361\n",
              "15              9.357618         4.141945  ...    3.645490  11.590253\n",
              "\n",
              "[16 rows x 6 columns]"
            ]
          },
          "metadata": {},
          "execution_count": 52
        }
      ]
    },
    {
      "cell_type": "code",
      "metadata": {
        "id": "Vpov9JT5lmHy"
      },
      "source": [
        "#"
      ],
      "execution_count": 53,
      "outputs": []
    },
    {
      "cell_type": "code",
      "metadata": {
        "id": "UyXxqBzP3Oln"
      },
      "source": [
        "#mengisi missing value wind direction berdasarkan mean per site\n",
        "dasusite0= data_cuaca[data_cuaca[\"site_id\"]==0]\n",
        "dasusite1= data_cuaca[data_cuaca[\"site_id\"]==1]\n",
        "dasusite2= data_cuaca[data_cuaca[\"site_id\"]==2]\n",
        "dasusite3= data_cuaca[data_cuaca[\"site_id\"]==3]\n",
        "dasusite4= data_cuaca[data_cuaca[\"site_id\"]==4]\n",
        "dasusite5= data_cuaca[data_cuaca[\"site_id\"]==5]\n",
        "dasusite6= data_cuaca[data_cuaca[\"site_id\"]==6]\n",
        "dasusite7= data_cuaca[data_cuaca[\"site_id\"]==7]\n",
        "dasusite8= data_cuaca[data_cuaca[\"site_id\"]==8]\n",
        "dasusite9= data_cuaca[data_cuaca[\"site_id\"]==9]\n",
        "dasusite10= data_cuaca[data_cuaca[\"site_id\"]==10]\n",
        "dasusite11= data_cuaca[data_cuaca[\"site_id\"]==11]\n",
        "dasusite12= data_cuaca[data_cuaca[\"site_id\"]==12]\n",
        "dasusite13= data_cuaca[data_cuaca[\"site_id\"]==13]\n",
        "dasusite14= data_cuaca[data_cuaca[\"site_id\"]==14]\n",
        "dasusite15= data_cuaca[data_cuaca[\"site_id\"]==15]"
      ],
      "execution_count": 54,
      "outputs": []
    },
    {
      "cell_type": "code",
      "metadata": {
        "id": "y5AY7Xs2HTnC"
      },
      "source": [
        "dasusite0['wind_direction']= dasusite0.replace(np.nan,156.0)\n",
        "dasusite1['wind_direction']= dasusite1.replace(np.nan,196.0)\n",
        "dasusite2['wind_direction']= dasusite2.replace(np.nan,153.0)\n",
        "dasusite3['wind_direction']= dasusite3.replace(np.nan,185.0)\n",
        "dasusite4['wind_direction']= dasusite4.replace(np.nan,208.0)\n",
        "dasusite5['wind_direction']= dasusite5.replace(np.nan,200.0)\n",
        "dasusite6['wind_direction']= dasusite6.replace(np.nan,132.0)\n",
        "dasusite7['wind_direction']= dasusite7.replace(np.nan,209.0)\n",
        "dasusite8['wind_direction']= dasusite8.replace(np.nan,156.0)\n",
        "dasusite9['wind_direction']= dasusite9.replace(np.nan,117.0)\n",
        "dasusite10['wind_direction']= dasusite10.replace(np.nan,180.0)\n",
        "dasusite11['wind_direction']= dasusite11.replace(np.nan,209.0)\n",
        "dasusite12['wind_direction']= dasusite12.replace(np.nan,203.0)\n",
        "dasusite13['wind_direction']= dasusite13.replace(np.nan,188.0)\n",
        "dasusite14['wind_direction']= dasusite14.replace(np.nan,188.0)\n",
        "dasusite15['wind_direction']= dasusite15.replace(np.nan,187.0)\n",
        "data_cuaca = pd.concat([dasusite0,dasusite1,dasusite2\n",
        "                        ,dasusite3,dasusite4,dasusite5\n",
        "                        ,dasusite6,dasusite7,dasusite8\n",
        "                        ,dasusite9,dasusite10,dasusite11\n",
        "                        ,dasusite12,dasusite13,dasusite14\n",
        "                        ,dasusite15])"
      ],
      "execution_count": 55,
      "outputs": []
    },
    {
      "cell_type": "code",
      "metadata": {
        "colab": {
          "base_uri": "https://localhost:8080/",
          "height": 285
        },
        "id": "6Eh07MeNQSsQ",
        "outputId": "440657c0-19ec-46dc-f727-200e3618df74"
      },
      "source": [
        "p = sns.distplot(data_cuaca['wind_speed'], kde=True, rug=True)\n",
        "#data menceng sehingga input mv pakai mean"
      ],
      "execution_count": 56,
      "outputs": [
        {
          "output_type": "display_data",
          "data": {
            "image/png": "[encoded data removed]",
            "text/plain": [
              "<Figure size 432x288 with 1 Axes>"
            ]
          },
          "metadata": {
            "needs_background": "light"
          }
        }
      ]
    },
    {
      "cell_type": "code",
      "metadata": {
        "colab": {
          "base_uri": "https://localhost:8080/",
          "height": 438
        },
        "id": "h356wTes3uaI",
        "outputId": "aee7d6a2-59d6-4844-87d1-7d584aad0b80"
      },
      "source": [
        "# Melihat data untuk wind speed\n",
        "print(data_cuaca['wind_speed'].describe())\n",
        "data_cuaca['wind_speed'].hist()"
      ],
      "execution_count": 57,
      "outputs": [
        {
          "output_type": "stream",
          "name": "stdout",
          "text": [
            "count    139469.000000\n",
            "mean          3.560527\n",
            "std           2.335874\n",
            "min           0.000000\n",
            "25%           2.100000\n",
            "50%           3.100000\n",
            "75%           5.000000\n",
            "max          19.000000\n",
            "Name: wind_speed, dtype: float64\n"
          ]
        },
        {
          "output_type": "execute_result",
          "data": {
            "text/plain": [
              "<matplotlib.axes._subplots.AxesSubplot at 0x7f147d996410>"
            ]
          },
          "metadata": {},
          "execution_count": 57
        },
        {
          "output_type": "display_data",
          "data": {
            "image/png": "[encoded data removed]",
            "text/plain": [
              "<Figure size 432x288 with 1 Axes>"
            ]
          },
          "metadata": {
            "needs_background": "light"
          }
        }
      ]
    },
    {
      "cell_type": "code",
      "metadata": {
        "id": "K7wWUsPg36L3"
      },
      "source": [
        "# # Memasukan missing data sea level pressure berdasarkan median\n",
        "data_cuaca['wind_speed'] = data_cuaca['wind_speed'].replace(np.nan, 3.1)"
      ],
      "execution_count": 58,
      "outputs": []
    },
    {
      "cell_type": "code",
      "metadata": {
        "colab": {
          "base_uri": "https://localhost:8080/"
        },
        "id": "NHWQg9Pf5w50",
        "outputId": "3aa08b2d-258a-4d10-ee4c-abb7bdd7614d"
      },
      "source": [
        "data_cuaca.isnull().sum()"
      ],
      "execution_count": 59,
      "outputs": [
        {
          "output_type": "execute_result",
          "data": {
            "text/plain": [
              "site_id               0\n",
              "timestamp             0\n",
              "air_temperature       0\n",
              "dew_temperature       0\n",
              "precip_depth_1_hr     0\n",
              "sea_level_pressure    0\n",
              "wind_direction        0\n",
              "wind_speed            0\n",
              "hours                 0\n",
              "dtype: int64"
            ]
          },
          "metadata": {},
          "execution_count": 59
        }
      ]
    },
    {
      "cell_type": "markdown",
      "metadata": {
        "id": "vmmA011yVSK6"
      },
      "source": [
        "#**VISUALISASI** DATA GEDUNG# \n"
      ]
    },
    {
      "cell_type": "code",
      "metadata": {
        "colab": {
          "base_uri": "https://localhost:8080/",
          "height": 0
        },
        "id": "hqoL_PfmUbUR",
        "outputId": "13f63e52-a1bb-4eb8-9bc5-65fb828ab838"
      },
      "source": [
        "#Gedung paling banyak digunakan untuk apa?\n",
        "p = sns.countplot(y=\"primary_use\", data=data_gedung)\n",
        "# ans: education"
      ],
      "execution_count": 60,
      "outputs": [
        {
          "output_type": "display_data",
          "data": {
            "image/png": "[encoded data removed]",
            "text/plain": [
              "<Figure size 432x288 with 1 Axes>"
            ]
          },
          "metadata": {
            "needs_background": "light"
          }
        }
      ]
    },
    {
      "cell_type": "code",
      "metadata": {
        "colab": {
          "base_uri": "https://localhost:8080/",
          "height": 0
        },
        "id": "6HYbLp25VIP5",
        "outputId": "bf32d16f-a003-41ea-fa04-5d9ef7a5fb75"
      },
      "source": [
        "# Paling banyak lokasi dimana\n",
        "p = sns.countplot(x=\"site_id\", data=data_gedung)\n",
        "# ans: site 3"
      ],
      "execution_count": 61,
      "outputs": [
        {
          "output_type": "display_data",
          "data": {
            "image/png": "[encoded data removed]",
            "text/plain": [
              "<Figure size 432x288 with 1 Axes>"
            ]
          },
          "metadata": {
            "needs_background": "light"
          }
        }
      ]
    },
    {
      "cell_type": "code",
      "metadata": {
        "colab": {
          "base_uri": "https://localhost:8080/",
          "height": 0
        },
        "id": "4mCmVMHIXOVW",
        "outputId": "92edc409-ec55-4c08-ed7a-7ef7a14f0144"
      },
      "source": [
        "data_gedung.groupby([\"primary_use\", \"site_id\"]).size().unstack()"
      ],
      "execution_count": 62,
      "outputs": [
        {
          "output_type": "execute_result",
          "data": {
            "text/html": [
              "<div>\n",
              "<style scoped>\n",
              "    .dataframe tbody tr th:only-of-type {\n",
              "        vertical-align: middle;\n",
              "    }\n",
              "\n",
              "    .dataframe tbody tr th {\n",
              "        vertical-align: top;\n",
              "    }\n",
              "\n",
              "    .dataframe thead th {\n",
              "        text-align: right;\n",
              "    }\n",
              "</style>\n",
              "<table border=\"1\" class=\"dataframe\">\n",
              "  <thead>\n",
              "    <tr style=\"text-align: right;\">\n",
              "      <th>site_id</th>\n",
              "      <th>0</th>\n",
              "      <th>1</th>\n",
              "      <th>2</th>\n",
              "      <th>3</th>\n",
              "      <th>4</th>\n",
              "      <th>5</th>\n",
              "      <th>6</th>\n",
              "      <th>7</th>\n",
              "      <th>8</th>\n",
              "      <th>9</th>\n",
              "      <th>10</th>\n",
              "      <th>11</th>\n",
              "      <th>12</th>\n",
              "      <th>13</th>\n",
              "      <th>14</th>\n",
              "      <th>15</th>\n",
              "    </tr>\n",
              "    <tr>\n",
              "      <th>primary_use</th>\n",
              "      <th></th>\n",
              "      <th></th>\n",
              "      <th></th>\n",
              "      <th></th>\n",
              "      <th></th>\n",
              "      <th></th>\n",
              "      <th></th>\n",
              "      <th></th>\n",
              "      <th></th>\n",
              "      <th></th>\n",
              "      <th></th>\n",
              "      <th></th>\n",
              "      <th></th>\n",
              "      <th></th>\n",
              "      <th></th>\n",
              "      <th></th>\n",
              "    </tr>\n",
              "  </thead>\n",
              "  <tbody>\n",
              "    <tr>\n",
              "      <th>Education</th>\n",
              "      <td>30.0</td>\n",
              "      <td>22.0</td>\n",
              "      <td>61.0</td>\n",
              "      <td>92.0</td>\n",
              "      <td>66.0</td>\n",
              "      <td>49.0</td>\n",
              "      <td>15.0</td>\n",
              "      <td>15.0</td>\n",
              "      <td>NaN</td>\n",
              "      <td>63.0</td>\n",
              "      <td>14.0</td>\n",
              "      <td>5.0</td>\n",
              "      <td>20.0</td>\n",
              "      <td>25.0</td>\n",
              "      <td>26.0</td>\n",
              "      <td>46.0</td>\n",
              "    </tr>\n",
              "    <tr>\n",
              "      <th>Entertainment/public assembly</th>\n",
              "      <td>5.0</td>\n",
              "      <td>1.0</td>\n",
              "      <td>21.0</td>\n",
              "      <td>44.0</td>\n",
              "      <td>9.0</td>\n",
              "      <td>18.0</td>\n",
              "      <td>4.0</td>\n",
              "      <td>NaN</td>\n",
              "      <td>24.0</td>\n",
              "      <td>18.0</td>\n",
              "      <td>4.0</td>\n",
              "      <td>NaN</td>\n",
              "      <td>2.0</td>\n",
              "      <td>8.0</td>\n",
              "      <td>10.0</td>\n",
              "      <td>16.0</td>\n",
              "    </tr>\n",
              "    <tr>\n",
              "      <th>Food sales and service</th>\n",
              "      <td>NaN</td>\n",
              "      <td>NaN</td>\n",
              "      <td>2.0</td>\n",
              "      <td>NaN</td>\n",
              "      <td>NaN</td>\n",
              "      <td>NaN</td>\n",
              "      <td>NaN</td>\n",
              "      <td>NaN</td>\n",
              "      <td>NaN</td>\n",
              "      <td>NaN</td>\n",
              "      <td>NaN</td>\n",
              "      <td>NaN</td>\n",
              "      <td>NaN</td>\n",
              "      <td>1.0</td>\n",
              "      <td>2.0</td>\n",
              "      <td>NaN</td>\n",
              "    </tr>\n",
              "    <tr>\n",
              "      <th>Healthcare</th>\n",
              "      <td>NaN</td>\n",
              "      <td>NaN</td>\n",
              "      <td>1.0</td>\n",
              "      <td>6.0</td>\n",
              "      <td>NaN</td>\n",
              "      <td>1.0</td>\n",
              "      <td>NaN</td>\n",
              "      <td>NaN</td>\n",
              "      <td>NaN</td>\n",
              "      <td>NaN</td>\n",
              "      <td>NaN</td>\n",
              "      <td>NaN</td>\n",
              "      <td>NaN</td>\n",
              "      <td>4.0</td>\n",
              "      <td>10.0</td>\n",
              "      <td>1.0</td>\n",
              "    </tr>\n",
              "    <tr>\n",
              "      <th>Lodging/residential</th>\n",
              "      <td>27.0</td>\n",
              "      <td>10.0</td>\n",
              "      <td>12.0</td>\n",
              "      <td>11.0</td>\n",
              "      <td>4.0</td>\n",
              "      <td>1.0</td>\n",
              "      <td>12.0</td>\n",
              "      <td>NaN</td>\n",
              "      <td>NaN</td>\n",
              "      <td>19.0</td>\n",
              "      <td>3.0</td>\n",
              "      <td>NaN</td>\n",
              "      <td>NaN</td>\n",
              "      <td>10.0</td>\n",
              "      <td>9.0</td>\n",
              "      <td>29.0</td>\n",
              "    </tr>\n",
              "    <tr>\n",
              "      <th>Manufacturing/industrial</th>\n",
              "      <td>NaN</td>\n",
              "      <td>NaN</td>\n",
              "      <td>NaN</td>\n",
              "      <td>NaN</td>\n",
              "      <td>NaN</td>\n",
              "      <td>3.0</td>\n",
              "      <td>NaN</td>\n",
              "      <td>NaN</td>\n",
              "      <td>NaN</td>\n",
              "      <td>NaN</td>\n",
              "      <td>NaN</td>\n",
              "      <td>NaN</td>\n",
              "      <td>NaN</td>\n",
              "      <td>6.0</td>\n",
              "      <td>NaN</td>\n",
              "      <td>3.0</td>\n",
              "    </tr>\n",
              "    <tr>\n",
              "      <th>Office</th>\n",
              "      <td>24.0</td>\n",
              "      <td>16.0</td>\n",
              "      <td>24.0</td>\n",
              "      <td>23.0</td>\n",
              "      <td>NaN</td>\n",
              "      <td>11.0</td>\n",
              "      <td>11.0</td>\n",
              "      <td>NaN</td>\n",
              "      <td>7.0</td>\n",
              "      <td>17.0</td>\n",
              "      <td>5.0</td>\n",
              "      <td>NaN</td>\n",
              "      <td>9.0</td>\n",
              "      <td>75.0</td>\n",
              "      <td>38.0</td>\n",
              "      <td>19.0</td>\n",
              "    </tr>\n",
              "    <tr>\n",
              "      <th>Other</th>\n",
              "      <td>5.0</td>\n",
              "      <td>NaN</td>\n",
              "      <td>NaN</td>\n",
              "      <td>4.0</td>\n",
              "      <td>NaN</td>\n",
              "      <td>1.0</td>\n",
              "      <td>NaN</td>\n",
              "      <td>NaN</td>\n",
              "      <td>9.0</td>\n",
              "      <td>NaN</td>\n",
              "      <td>3.0</td>\n",
              "      <td>NaN</td>\n",
              "      <td>NaN</td>\n",
              "      <td>3.0</td>\n",
              "      <td>NaN</td>\n",
              "      <td>NaN</td>\n",
              "    </tr>\n",
              "    <tr>\n",
              "      <th>Parking</th>\n",
              "      <td>8.0</td>\n",
              "      <td>NaN</td>\n",
              "      <td>3.0</td>\n",
              "      <td>1.0</td>\n",
              "      <td>3.0</td>\n",
              "      <td>NaN</td>\n",
              "      <td>NaN</td>\n",
              "      <td>NaN</td>\n",
              "      <td>NaN</td>\n",
              "      <td>NaN</td>\n",
              "      <td>NaN</td>\n",
              "      <td>NaN</td>\n",
              "      <td>NaN</td>\n",
              "      <td>7.0</td>\n",
              "      <td>NaN</td>\n",
              "      <td>NaN</td>\n",
              "    </tr>\n",
              "    <tr>\n",
              "      <th>Public services</th>\n",
              "      <td>NaN</td>\n",
              "      <td>2.0</td>\n",
              "      <td>6.0</td>\n",
              "      <td>86.0</td>\n",
              "      <td>6.0</td>\n",
              "      <td>5.0</td>\n",
              "      <td>2.0</td>\n",
              "      <td>NaN</td>\n",
              "      <td>28.0</td>\n",
              "      <td>2.0</td>\n",
              "      <td>NaN</td>\n",
              "      <td>NaN</td>\n",
              "      <td>1.0</td>\n",
              "      <td>5.0</td>\n",
              "      <td>7.0</td>\n",
              "      <td>6.0</td>\n",
              "    </tr>\n",
              "    <tr>\n",
              "      <th>Religious worship</th>\n",
              "      <td>NaN</td>\n",
              "      <td>NaN</td>\n",
              "      <td>1.0</td>\n",
              "      <td>1.0</td>\n",
              "      <td>NaN</td>\n",
              "      <td>NaN</td>\n",
              "      <td>NaN</td>\n",
              "      <td>NaN</td>\n",
              "      <td>NaN</td>\n",
              "      <td>NaN</td>\n",
              "      <td>NaN</td>\n",
              "      <td>NaN</td>\n",
              "      <td>NaN</td>\n",
              "      <td>NaN</td>\n",
              "      <td>NaN</td>\n",
              "      <td>1.0</td>\n",
              "    </tr>\n",
              "    <tr>\n",
              "      <th>Retail</th>\n",
              "      <td>6.0</td>\n",
              "      <td>NaN</td>\n",
              "      <td>1.0</td>\n",
              "      <td>1.0</td>\n",
              "      <td>NaN</td>\n",
              "      <td>NaN</td>\n",
              "      <td>NaN</td>\n",
              "      <td>NaN</td>\n",
              "      <td>NaN</td>\n",
              "      <td>NaN</td>\n",
              "      <td>NaN</td>\n",
              "      <td>NaN</td>\n",
              "      <td>3.0</td>\n",
              "      <td>NaN</td>\n",
              "      <td>NaN</td>\n",
              "      <td>NaN</td>\n",
              "    </tr>\n",
              "    <tr>\n",
              "      <th>Services</th>\n",
              "      <td>NaN</td>\n",
              "      <td>NaN</td>\n",
              "      <td>NaN</td>\n",
              "      <td>NaN</td>\n",
              "      <td>NaN</td>\n",
              "      <td>NaN</td>\n",
              "      <td>NaN</td>\n",
              "      <td>NaN</td>\n",
              "      <td>NaN</td>\n",
              "      <td>5.0</td>\n",
              "      <td>NaN</td>\n",
              "      <td>NaN</td>\n",
              "      <td>NaN</td>\n",
              "      <td>5.0</td>\n",
              "      <td>NaN</td>\n",
              "      <td>NaN</td>\n",
              "    </tr>\n",
              "    <tr>\n",
              "      <th>Technology/science</th>\n",
              "      <td>NaN</td>\n",
              "      <td>NaN</td>\n",
              "      <td>NaN</td>\n",
              "      <td>NaN</td>\n",
              "      <td>2.0</td>\n",
              "      <td>NaN</td>\n",
              "      <td>NaN</td>\n",
              "      <td>NaN</td>\n",
              "      <td>NaN</td>\n",
              "      <td>NaN</td>\n",
              "      <td>1.0</td>\n",
              "      <td>NaN</td>\n",
              "      <td>1.0</td>\n",
              "      <td>1.0</td>\n",
              "      <td>NaN</td>\n",
              "      <td>1.0</td>\n",
              "    </tr>\n",
              "    <tr>\n",
              "      <th>Utility</th>\n",
              "      <td>NaN</td>\n",
              "      <td>NaN</td>\n",
              "      <td>1.0</td>\n",
              "      <td>NaN</td>\n",
              "      <td>1.0</td>\n",
              "      <td>NaN</td>\n",
              "      <td>NaN</td>\n",
              "      <td>NaN</td>\n",
              "      <td>NaN</td>\n",
              "      <td>NaN</td>\n",
              "      <td>NaN</td>\n",
              "      <td>NaN</td>\n",
              "      <td>NaN</td>\n",
              "      <td>NaN</td>\n",
              "      <td>NaN</td>\n",
              "      <td>2.0</td>\n",
              "    </tr>\n",
              "    <tr>\n",
              "      <th>Warehouse/storage</th>\n",
              "      <td>NaN</td>\n",
              "      <td>NaN</td>\n",
              "      <td>2.0</td>\n",
              "      <td>5.0</td>\n",
              "      <td>NaN</td>\n",
              "      <td>NaN</td>\n",
              "      <td>NaN</td>\n",
              "      <td>NaN</td>\n",
              "      <td>2.0</td>\n",
              "      <td>NaN</td>\n",
              "      <td>NaN</td>\n",
              "      <td>NaN</td>\n",
              "      <td>NaN</td>\n",
              "      <td>4.0</td>\n",
              "      <td>NaN</td>\n",
              "      <td>NaN</td>\n",
              "    </tr>\n",
              "  </tbody>\n",
              "</table>\n",
              "</div>"
            ],
            "text/plain": [
              "site_id                          0     1     2     3   ...    12    13    14    15\n",
              "primary_use                                            ...                        \n",
              "Education                      30.0  22.0  61.0  92.0  ...  20.0  25.0  26.0  46.0\n",
              "Entertainment/public assembly   5.0   1.0  21.0  44.0  ...   2.0   8.0  10.0  16.0\n",
              "Food sales and service          NaN   NaN   2.0   NaN  ...   NaN   1.0   2.0   NaN\n",
              "Healthcare                      NaN   NaN   1.0   6.0  ...   NaN   4.0  10.0   1.0\n",
              "Lodging/residential            27.0  10.0  12.0  11.0  ...   NaN  10.0   9.0  29.0\n",
              "Manufacturing/industrial        NaN   NaN   NaN   NaN  ...   NaN   6.0   NaN   3.0\n",
              "Office                         24.0  16.0  24.0  23.0  ...   9.0  75.0  38.0  19.0\n",
              "Other                           5.0   NaN   NaN   4.0  ...   NaN   3.0   NaN   NaN\n",
              "Parking                         8.0   NaN   3.0   1.0  ...   NaN   7.0   NaN   NaN\n",
              "Public services                 NaN   2.0   6.0  86.0  ...   1.0   5.0   7.0   6.0\n",
              "Religious worship               NaN   NaN   1.0   1.0  ...   NaN   NaN   NaN   1.0\n",
              "Retail                          6.0   NaN   1.0   1.0  ...   3.0   NaN   NaN   NaN\n",
              "Services                        NaN   NaN   NaN   NaN  ...   NaN   5.0   NaN   NaN\n",
              "Technology/science              NaN   NaN   NaN   NaN  ...   1.0   1.0   NaN   1.0\n",
              "Utility                         NaN   NaN   1.0   NaN  ...   NaN   NaN   NaN   2.0\n",
              "Warehouse/storage               NaN   NaN   2.0   5.0  ...   NaN   4.0   NaN   NaN\n",
              "\n",
              "[16 rows x 16 columns]"
            ]
          },
          "metadata": {},
          "execution_count": 62
        }
      ]
    },
    {
      "cell_type": "code",
      "metadata": {
        "colab": {
          "base_uri": "https://localhost:8080/",
          "height": 0
        },
        "id": "uAwnvBpLYF6l",
        "outputId": "d3de46f9-d354-4eb2-b49c-70360b33d03c"
      },
      "source": [
        "CT = pd.crosstab(index=data_gedung[\"primary_use\"], columns=data_gedung[\"site_id\"])\n",
        "p = CT.plot(kind=\"bar\", figsize=(8,8), stacked=True)"
      ],
      "execution_count": 63,
      "outputs": [
        {
          "output_type": "display_data",
          "data": {
            "image/png": "[encoded data removed]",
            "text/plain": [
              "<Figure size 576x576 with 1 Axes>"
            ]
          },
          "metadata": {
            "needs_background": "light"
          }
        }
      ]
    },
    {
      "cell_type": "code",
      "metadata": {
        "colab": {
          "base_uri": "https://localhost:8080/",
          "height": 0
        },
        "id": "AUf7ez77Zmfw",
        "outputId": "16a8c7b4-686f-4259-db72-b116182c8c1d"
      },
      "source": [
        "p = sns.boxplot(x=\"square_feet\", y=\"primary_use\", data=data_gedung)\n",
        "#!!!!!!!!!!!!!menunjukkan luas bangunan tidak mempengaruhi kegunaan gedung karena !!!!!!!!!!!!"
      ],
      "execution_count": 64,
      "outputs": [
        {
          "output_type": "display_data",
          "data": {
            "image/png": "[encoded data removed]",
            "text/plain": [
              "<Figure size 432x288 with 1 Axes>"
            ]
          },
          "metadata": {
            "needs_background": "light"
          }
        }
      ]
    },
    {
      "cell_type": "code",
      "metadata": {
        "colab": {
          "base_uri": "https://localhost:8080/",
          "height": 0
        },
        "id": "xgaehyIJa3up",
        "outputId": "bf985f0a-495e-424b-8e04-19e2c9829cba"
      },
      "source": [
        "p = sns.boxplot(x=\"site_id\", y=\"primary_use\", data=data_gedung)\n",
        "#hanya ada sedikit gedung manufacturing yang ada di site 5"
      ],
      "execution_count": 65,
      "outputs": [
        {
          "output_type": "display_data",
          "data": {
            "image/png": "[encoded data removed]",
            "text/plain": [
              "<Figure size 432x288 with 1 Axes>"
            ]
          },
          "metadata": {
            "needs_background": "light"
          }
        }
      ]
    },
    {
      "cell_type": "markdown",
      "metadata": {
        "id": "3aIQ9l0gi-ko"
      },
      "source": [
        "# **VISUALISASI** DATA ENERGY"
      ]
    },
    {
      "cell_type": "code",
      "metadata": {
        "id": "u77OQjwejFEc"
      },
      "source": [
        ""
      ],
      "execution_count": 65,
      "outputs": []
    },
    {
      "cell_type": "markdown",
      "metadata": {
        "id": "V5y6OXYVjQw6"
      },
      "source": [
        "# **VISUALISASI** DATA CUACA"
      ]
    },
    {
      "cell_type": "code",
      "metadata": {
        "colab": {
          "base_uri": "https://localhost:8080/",
          "height": 0
        },
        "id": "ZkG429opj6ue",
        "outputId": "1aa42b64-5301-4969-bb21-2f031eaa2d9e"
      },
      "source": [
        "#perubahan air temperature tiap site tiap waktu (?)\n",
        "plt.figure(figsize=(15, 6))\n",
        "p = sns.lineplot(x='timestamp', y='air_temperature', hue='site_id', data=data_cuaca)\n",
        "p.set(xlabel='Time', ylabel='Air Temperature')\n",
        "#masih coba\"\n",
        "#ini bingung knapa site_id ny ga 0,1,2,3 gt"
      ],
      "execution_count": 66,
      "outputs": [
        {
          "output_type": "execute_result",
          "data": {
            "text/plain": [
              "[Text(0, 0.5, 'Air Temperature'), Text(0.5, 0, 'Time')]"
            ]
          },
          "metadata": {},
          "execution_count": 66
        },
        {
          "output_type": "display_data",
          "data": {
            "image/png": "[encoded data removed]",
            "text/plain": [
              "<Figure size 1080x432 with 1 Axes>"
            ]
          },
          "metadata": {
            "needs_background": "light"
          }
        }
      ]
    },
    {
      "cell_type": "markdown",
      "metadata": {
        "id": "7W8-grhTrSSC"
      },
      "source": [
        "#MERGE DATA#"
      ]
    },
    {
      "cell_type": "code",
      "metadata": {
        "id": "fMWHXtYEYIAQ"
      },
      "source": [
        "def merge(data_energy, data_gedung, data_cuaca):\n",
        "  data_energy[\"timestamp\"] = pd.to_datetime(data_energy[\"timestamp\"])\n",
        "  gedung_energy = pd.merge(data_energy, data_gedung, how = \"left\", on=\"building_id\")\n",
        "  train = pd.merge(gedung_energy, data_cuaca, how= \"left\", on=[\"site_id\", \"timestamp\"], validate=\"many_to_one\")\n",
        "  del data_gedung\n",
        "  del data_energy\n",
        "  del data_cuaca\n",
        "  return train"
      ],
      "execution_count": 67,
      "outputs": []
    },
    {
      "cell_type": "code",
      "metadata": {
        "colab": {
          "base_uri": "https://localhost:8080/"
        },
        "id": "fFbFGfzcs2uR",
        "outputId": "0c6fb56a-463d-4fbf-8682-9f5563d8c7d7"
      },
      "source": [
        "all_data = merge(data_energy, data_gedung, data_cuaca)\n",
        "all_data.shape"
      ],
      "execution_count": 68,
      "outputs": [
        {
          "output_type": "execute_result",
          "data": {
            "text/plain": [
              "(20216100, 14)"
            ]
          },
          "metadata": {},
          "execution_count": 68
        }
      ]
    },
    {
      "cell_type": "code",
      "metadata": {
        "id": "vCNt9JULtkyf"
      },
      "source": [
        "all_data.head()\n",
        "all_data.drop(\"hours\", axis=1, inplace=True)"
      ],
      "execution_count": 69,
      "outputs": []
    },
    {
      "cell_type": "code",
      "metadata": {
        "colab": {
          "base_uri": "https://localhost:8080/",
          "height": 1000
        },
        "id": "FTWBvYwRtOSE",
        "outputId": "6b762e3d-28a3-4bfe-9187-92ddb4b32ffd"
      },
      "source": [
        "plt.figure(figsize=(20,20))\n",
        "sns.heatmap(all_data.corr(), linewidths = 0.5, cmap = \"YlGnBu\")"
      ],
      "execution_count": 70,
      "outputs": [
        {
          "output_type": "execute_result",
          "data": {
            "text/plain": [
              "<matplotlib.axes._subplots.AxesSubplot at 0x7f147bfaf6d0>"
            ]
          },
          "metadata": {},
          "execution_count": 70
        },
        {
          "output_type": "display_data",
          "data": {
            "image/png": "[encoded data removed]",
            "text/plain": [
              "<Figure size 1440x1440 with 2 Axes>"
            ]
          },
          "metadata": {
            "needs_background": "light"
          }
        }
      ]
    },
    {
      "cell_type": "code",
      "metadata": {
        "colab": {
          "base_uri": "https://localhost:8080/",
          "height": 309
        },
        "id": "q3RD0_kjt_aw",
        "outputId": "7aac726b-c13f-4322-f452-9c4d8f2a4d82"
      },
      "source": [
        "all_data.head()"
      ],
      "execution_count": 71,
      "outputs": [
        {
          "output_type": "execute_result",
          "data": {
            "text/html": [
              "<div>\n",
              "<style scoped>\n",
              "    .dataframe tbody tr th:only-of-type {\n",
              "        vertical-align: middle;\n",
              "    }\n",
              "\n",
              "    .dataframe tbody tr th {\n",
              "        vertical-align: top;\n",
              "    }\n",
              "\n",
              "    .dataframe thead th {\n",
              "        text-align: right;\n",
              "    }\n",
              "</style>\n",
              "<table border=\"1\" class=\"dataframe\">\n",
              "  <thead>\n",
              "    <tr style=\"text-align: right;\">\n",
              "      <th></th>\n",
              "      <th>building_id</th>\n",
              "      <th>meter</th>\n",
              "      <th>timestamp</th>\n",
              "      <th>meter_reading</th>\n",
              "      <th>site_id</th>\n",
              "      <th>primary_use</th>\n",
              "      <th>square_feet</th>\n",
              "      <th>air_temperature</th>\n",
              "      <th>dew_temperature</th>\n",
              "      <th>precip_depth_1_hr</th>\n",
              "      <th>sea_level_pressure</th>\n",
              "      <th>wind_direction</th>\n",
              "      <th>wind_speed</th>\n",
              "    </tr>\n",
              "  </thead>\n",
              "  <tbody>\n",
              "    <tr>\n",
              "      <th>0</th>\n",
              "      <td>0</td>\n",
              "      <td>0</td>\n",
              "      <td>2016-01-01</td>\n",
              "      <td>0.0</td>\n",
              "      <td>0</td>\n",
              "      <td>Education</td>\n",
              "      <td>7432</td>\n",
              "      <td>25.0</td>\n",
              "      <td>20.0</td>\n",
              "      <td>0</td>\n",
              "      <td>1019.7</td>\n",
              "      <td>0</td>\n",
              "      <td>0.0</td>\n",
              "    </tr>\n",
              "    <tr>\n",
              "      <th>1</th>\n",
              "      <td>1</td>\n",
              "      <td>0</td>\n",
              "      <td>2016-01-01</td>\n",
              "      <td>0.0</td>\n",
              "      <td>0</td>\n",
              "      <td>Education</td>\n",
              "      <td>2720</td>\n",
              "      <td>25.0</td>\n",
              "      <td>20.0</td>\n",
              "      <td>0</td>\n",
              "      <td>1019.7</td>\n",
              "      <td>0</td>\n",
              "      <td>0.0</td>\n",
              "    </tr>\n",
              "    <tr>\n",
              "      <th>2</th>\n",
              "      <td>2</td>\n",
              "      <td>0</td>\n",
              "      <td>2016-01-01</td>\n",
              "      <td>0.0</td>\n",
              "      <td>0</td>\n",
              "      <td>Education</td>\n",
              "      <td>5376</td>\n",
              "      <td>25.0</td>\n",
              "      <td>20.0</td>\n",
              "      <td>0</td>\n",
              "      <td>1019.7</td>\n",
              "      <td>0</td>\n",
              "      <td>0.0</td>\n",
              "    </tr>\n",
              "    <tr>\n",
              "      <th>3</th>\n",
              "      <td>3</td>\n",
              "      <td>0</td>\n",
              "      <td>2016-01-01</td>\n",
              "      <td>0.0</td>\n",
              "      <td>0</td>\n",
              "      <td>Education</td>\n",
              "      <td>23685</td>\n",
              "      <td>25.0</td>\n",
              "      <td>20.0</td>\n",
              "      <td>0</td>\n",
              "      <td>1019.7</td>\n",
              "      <td>0</td>\n",
              "      <td>0.0</td>\n",
              "    </tr>\n",
              "    <tr>\n",
              "      <th>4</th>\n",
              "      <td>4</td>\n",
              "      <td>0</td>\n",
              "      <td>2016-01-01</td>\n",
              "      <td>0.0</td>\n",
              "      <td>0</td>\n",
              "      <td>Education</td>\n",
              "      <td>116607</td>\n",
              "      <td>25.0</td>\n",
              "      <td>20.0</td>\n",
              "      <td>0</td>\n",
              "      <td>1019.7</td>\n",
              "      <td>0</td>\n",
              "      <td>0.0</td>\n",
              "    </tr>\n",
              "  </tbody>\n",
              "</table>\n",
              "</div>"
            ],
            "text/plain": [
              "   building_id  meter  timestamp  ...  sea_level_pressure  wind_direction wind_speed\n",
              "0            0      0 2016-01-01  ...              1019.7               0        0.0\n",
              "1            1      0 2016-01-01  ...              1019.7               0        0.0\n",
              "2            2      0 2016-01-01  ...              1019.7               0        0.0\n",
              "3            3      0 2016-01-01  ...              1019.7               0        0.0\n",
              "4            4      0 2016-01-01  ...              1019.7               0        0.0\n",
              "\n",
              "[5 rows x 13 columns]"
            ]
          },
          "metadata": {},
          "execution_count": 71
        }
      ]
    },
    {
      "cell_type": "code",
      "metadata": {
        "colab": {
          "base_uri": "https://localhost:8080/"
        },
        "id": "dO_PJGoEvTom",
        "outputId": "8e3d7de6-0fe1-46e3-9d3e-7872d4a78c0c"
      },
      "source": [
        "print(all_data)"
      ],
      "execution_count": 72,
      "outputs": [
        {
          "output_type": "stream",
          "name": "stdout",
          "text": [
            "          building_id  meter  ... wind_direction  wind_speed\n",
            "0                   0      0  ...              0         0.0\n",
            "1                   1      0  ...              0         0.0\n",
            "2                   2      0  ...              0         0.0\n",
            "3                   3      0  ...              0         0.0\n",
            "4                   4      0  ...              0         0.0\n",
            "...               ...    ...  ...            ...         ...\n",
            "20216095         1444      0  ...             15         8.8\n",
            "20216096         1445      0  ...             15         8.8\n",
            "20216097         1446      0  ...             15         8.8\n",
            "20216098         1447      0  ...             15         8.8\n",
            "20216099         1448      0  ...             15         8.8\n",
            "\n",
            "[20216100 rows x 13 columns]\n"
          ]
        }
      ]
    },
    {
      "cell_type": "code",
      "metadata": {
        "colab": {
          "base_uri": "https://localhost:8080/"
        },
        "id": "zNx0FV0lxBFR",
        "outputId": "d5a33fda-f9cd-49d4-e3f2-934832f0ce52"
      },
      "source": [
        "all_data.info()"
      ],
      "execution_count": 73,
      "outputs": [
        {
          "output_type": "stream",
          "name": "stdout",
          "text": [
            "<class 'pandas.core.frame.DataFrame'>\n",
            "Int64Index: 20216100 entries, 0 to 20216099\n",
            "Data columns (total 13 columns):\n",
            " #   Column              Dtype         \n",
            "---  ------              -----         \n",
            " 0   building_id         int64         \n",
            " 1   meter               int64         \n",
            " 2   timestamp           datetime64[ns]\n",
            " 3   meter_reading       float64       \n",
            " 4   site_id             int64         \n",
            " 5   primary_use         object        \n",
            " 6   square_feet         int64         \n",
            " 7   air_temperature     float64       \n",
            " 8   dew_temperature     float64       \n",
            " 9   precip_depth_1_hr   object        \n",
            " 10  sea_level_pressure  float64       \n",
            " 11  wind_direction      object        \n",
            " 12  wind_speed          float64       \n",
            "dtypes: datetime64[ns](1), float64(5), int64(4), object(3)\n",
            "memory usage: 2.1+ GB\n"
          ]
        }
      ]
    },
    {
      "cell_type": "code",
      "metadata": {
        "colab": {
          "base_uri": "https://localhost:8080/",
          "height": 394
        },
        "id": "iOQjuyfBvYqp",
        "outputId": "6d1d2718-fed9-49e4-f2ac-4da111305a6e"
      },
      "source": [
        "totmeterperbuild= all_data[[\"building_id\", \"meter_reading\"]].groupby(\"building_id\").sum()\n",
        "totmeterperbuild = all_data.merge(totmeterperbuild, on=\"building_id\")\n",
        "totmeterperbuild.head()"
      ],
      "execution_count": 74,
      "outputs": [
        {
          "output_type": "execute_result",
          "data": {
            "text/html": [
              "<div>\n",
              "<style scoped>\n",
              "    .dataframe tbody tr th:only-of-type {\n",
              "        vertical-align: middle;\n",
              "    }\n",
              "\n",
              "    .dataframe tbody tr th {\n",
              "        vertical-align: top;\n",
              "    }\n",
              "\n",
              "    .dataframe thead th {\n",
              "        text-align: right;\n",
              "    }\n",
              "</style>\n",
              "<table border=\"1\" class=\"dataframe\">\n",
              "  <thead>\n",
              "    <tr style=\"text-align: right;\">\n",
              "      <th></th>\n",
              "      <th>building_id</th>\n",
              "      <th>meter</th>\n",
              "      <th>timestamp</th>\n",
              "      <th>meter_reading_x</th>\n",
              "      <th>site_id</th>\n",
              "      <th>primary_use</th>\n",
              "      <th>square_feet</th>\n",
              "      <th>air_temperature</th>\n",
              "      <th>dew_temperature</th>\n",
              "      <th>precip_depth_1_hr</th>\n",
              "      <th>sea_level_pressure</th>\n",
              "      <th>wind_direction</th>\n",
              "      <th>wind_speed</th>\n",
              "      <th>meter_reading_y</th>\n",
              "    </tr>\n",
              "  </thead>\n",
              "  <tbody>\n",
              "    <tr>\n",
              "      <th>0</th>\n",
              "      <td>0</td>\n",
              "      <td>0</td>\n",
              "      <td>2016-01-01 00:00:00</td>\n",
              "      <td>0.0</td>\n",
              "      <td>0</td>\n",
              "      <td>Education</td>\n",
              "      <td>7432</td>\n",
              "      <td>25.0</td>\n",
              "      <td>20.0</td>\n",
              "      <td>0</td>\n",
              "      <td>1019.7</td>\n",
              "      <td>0</td>\n",
              "      <td>0.0</td>\n",
              "      <td>1.286461e+06</td>\n",
              "    </tr>\n",
              "    <tr>\n",
              "      <th>1</th>\n",
              "      <td>0</td>\n",
              "      <td>0</td>\n",
              "      <td>2016-01-01 01:00:00</td>\n",
              "      <td>0.0</td>\n",
              "      <td>0</td>\n",
              "      <td>Education</td>\n",
              "      <td>7432</td>\n",
              "      <td>24.4</td>\n",
              "      <td>21.1</td>\n",
              "      <td>0</td>\n",
              "      <td>1020.2</td>\n",
              "      <td>0</td>\n",
              "      <td>1.5</td>\n",
              "      <td>1.286461e+06</td>\n",
              "    </tr>\n",
              "    <tr>\n",
              "      <th>2</th>\n",
              "      <td>0</td>\n",
              "      <td>0</td>\n",
              "      <td>2016-01-01 02:00:00</td>\n",
              "      <td>0.0</td>\n",
              "      <td>0</td>\n",
              "      <td>Education</td>\n",
              "      <td>7432</td>\n",
              "      <td>22.8</td>\n",
              "      <td>21.1</td>\n",
              "      <td>0</td>\n",
              "      <td>1020.2</td>\n",
              "      <td>0</td>\n",
              "      <td>0.0</td>\n",
              "      <td>1.286461e+06</td>\n",
              "    </tr>\n",
              "    <tr>\n",
              "      <th>3</th>\n",
              "      <td>0</td>\n",
              "      <td>0</td>\n",
              "      <td>2016-01-01 03:00:00</td>\n",
              "      <td>0.0</td>\n",
              "      <td>0</td>\n",
              "      <td>Education</td>\n",
              "      <td>7432</td>\n",
              "      <td>21.1</td>\n",
              "      <td>20.6</td>\n",
              "      <td>0</td>\n",
              "      <td>1020.1</td>\n",
              "      <td>0</td>\n",
              "      <td>0.0</td>\n",
              "      <td>1.286461e+06</td>\n",
              "    </tr>\n",
              "    <tr>\n",
              "      <th>4</th>\n",
              "      <td>0</td>\n",
              "      <td>0</td>\n",
              "      <td>2016-01-01 04:00:00</td>\n",
              "      <td>0.0</td>\n",
              "      <td>0</td>\n",
              "      <td>Education</td>\n",
              "      <td>7432</td>\n",
              "      <td>20.0</td>\n",
              "      <td>20.0</td>\n",
              "      <td>0</td>\n",
              "      <td>1020.0</td>\n",
              "      <td>0</td>\n",
              "      <td>2.6</td>\n",
              "      <td>1.286461e+06</td>\n",
              "    </tr>\n",
              "  </tbody>\n",
              "</table>\n",
              "</div>"
            ],
            "text/plain": [
              "   building_id  meter  ... wind_speed  meter_reading_y\n",
              "0            0      0  ...        0.0     1.286461e+06\n",
              "1            0      0  ...        1.5     1.286461e+06\n",
              "2            0      0  ...        0.0     1.286461e+06\n",
              "3            0      0  ...        0.0     1.286461e+06\n",
              "4            0      0  ...        2.6     1.286461e+06\n",
              "\n",
              "[5 rows x 14 columns]"
            ]
          },
          "metadata": {},
          "execution_count": 74
        }
      ]
    },
    {
      "cell_type": "code",
      "metadata": {
        "colab": {
          "base_uri": "https://localhost:8080/",
          "height": 355
        },
        "id": "Uu8RhoDQwqcJ",
        "outputId": "2298f3bd-e9b9-4ff0-b3b8-6e6107998d36"
      },
      "source": [
        "# Make the plot untuk cek outliers\n",
        "plt.ticklabel_format(style = 'plain')\n",
        "totmeterperbuild.meter_reading_y.plot(logy=True, style='.', \n",
        "                                         title= \"jumlah meter readings per building pada data\", \n",
        "                                         xlabel = 'building_id',\n",
        "                                         ylabel= 'total meter reading',\n",
        "                                         figsize = (10,5)\n",
        "                                          )\n",
        "plt.show()"
      ],
      "execution_count": 75,
      "outputs": [
        {
          "output_type": "display_data",
          "data": {
            "image/png": "[encoded data removed]",
            "text/plain": [
              "<Figure size 720x360 with 1 Axes>"
            ]
          },
          "metadata": {
            "needs_background": "light"
          }
        }
      ]
    }
  ]
}